{
  "nbformat": 4,
  "nbformat_minor": 0,
  "metadata": {
    "colab": {
      "name": "regression.ipynb",
      "version": "0.3.2",
      "provenance": [],
      "collapsed_sections": [],
      "toc_visible": true,
      "include_colab_link": true
    },
    "kernelspec": {
      "name": "python3",
      "display_name": "Python 3"
    }
  },
  "cells": [
    {
      "cell_type": "markdown",
      "metadata": {
        "id": "view-in-github",
        "colab_type": "text"
      },
      "source": [
        "<a href=\"https://colab.research.google.com/github/treasure-data/td-notebooks/blob/master/machine-learning/electricity/regression.ipynb\" target=\"_parent\"><img src=\"https://colab.research.google.com/assets/colab-badge.svg\" alt=\"Open In Colab\"/></a>"
      ]
    },
    {
      "metadata": {
        "id": "_7LEvE-nesLH",
        "colab_type": "text"
      },
      "cell_type": "markdown",
      "source": [
        "# Summary"
      ]
    },
    {
      "metadata": {
        "id": "JgWl2cgtexDl",
        "colab_type": "text"
      },
      "cell_type": "markdown",
      "source": [
        "This notebook shows how to predict annual electricity consumpsion with Regression in Hivemall.  \n",
        "As for the dataset, please refer [this page](https://data.cityofchicago.org/Environment-Sustainable-Development/Chicago-Energy-Benchmarking/xq83-jr8c)  \n",
        "\n",
        "Except for the 1st cell, all you need is to run cells in order.  \n",
        "The 1st cell requires you to input following information of your Treasure Data account.\n",
        "- Master API Key\n",
        "- Existing database name\n",
        "- Endpoint"
      ]
    },
    {
      "metadata": {
        "id": "SHZ2zmPhe6P-",
        "colab_type": "text"
      },
      "cell_type": "markdown",
      "source": [
        "# SetUp"
      ]
    },
    {
      "metadata": {
        "id": "d0Qbt1YaMih3",
        "colab_type": "text"
      },
      "cell_type": "markdown",
      "source": [
        "Executing a following cell, you are asked to input some information."
      ]
    },
    {
      "metadata": {
        "id": "QTebFLMYopae",
        "colab_type": "code",
        "outputId": "b9dbbbe4-e8f2-4eac-8b8e-c8b0ef0dc603",
        "colab": {
          "base_uri": "https://localhost:8080/",
          "height": 87
        }
      },
      "cell_type": "code",
      "source": [
        "from getpass import getpass\n",
        "td_api_key = getpass('Enter TD API KEY here ')\n",
        "database   = input('Enter YOUR DATABASE to create tables here ')\n",
        "assert database, \"Error: Input YOUR DATABASE\"\n",
        "endpoint   = input('Enter YOUR ENDPOINT to create tables here (default: \"api.treasuredata.com\") \\nref : https://support.treasuredata.com/hc/en-us/articles/360001474288-Sites-and-Endpoints ')\n",
        "endpoint = endpoint if endpoint else 'https://api.treasuredata.com/'\n",
        "endpoint = 'https://' + endpoint if not endpoint.startswith('https://') else endpoint\n",
        "table = 'electricity'"
      ],
      "execution_count": 0,
      "outputs": [
        {
          "output_type": "stream",
          "text": [
            "Enter TD API KEY here ··········\n",
            "Enter YOUR DATABASE to create tables here hivemall\n",
            "Enter YOUR ENDPOINT to create tables here (default: \"api.treasuredata.com\") \n",
            "ref : https://support.treasuredata.com/hc/en-us/articles/360001474288-Sites-and-Endpoints \n"
          ],
          "name": "stdout"
        }
      ]
    },
    {
      "metadata": {
        "id": "KFhrhAJ7s3oz",
        "colab_type": "code",
        "colab": {}
      },
      "cell_type": "code",
      "source": [
        "%%capture\n",
        "!pip install td-client\n",
        "!pip install pandas-td\n",
        "!pip install -q git+https://github.com/takuti/pytd@master#egg=treasure-data[spark]\n",
        "\n",
        "import numpy as np\n",
        "import pandas as pd\n",
        "import pandas_td as td\n",
        "import matplotlib.pyplot as plt\n",
        "import seaborn as sns\n",
        "import pytd\n",
        "import tdclient\n",
        "pd.options.display.max_columns = 30\n",
        "\n",
        "%matplotlib inline\n",
        "con = td.connect(apikey=td_api_key, endpoint=endpoint)\n",
        "c = tdclient.Client(apikey=td_api_key, endpoint=endpoint)\n",
        "presto = td.create_engine('presto:{}'.format(database), con=con)\n",
        "hive = td.create_engine('hive:{}'.format(database), con=con)\n",
        "\n",
        "def recreate_table(client, table, database=database):\n",
        "  if table in [table.name for table in client.tables(database)]:\n",
        "    client.delete_table(database, table)\n",
        "  client.create_log_table(database, table)\n",
        "  return None"
      ],
      "execution_count": 0,
      "outputs": []
    },
    {
      "metadata": {
        "id": "OKWaeToaftT5",
        "colab_type": "text"
      },
      "cell_type": "markdown",
      "source": [
        "# Data Preparation"
      ]
    },
    {
      "metadata": {
        "id": "1viBlI5Hse8w",
        "colab_type": "text"
      },
      "cell_type": "markdown",
      "source": [
        "A cell below will create a table on your Treasure Data account.  "
      ]
    },
    {
      "metadata": {
        "id": "nGrgzzikU8nB",
        "colab_type": "code",
        "colab": {}
      },
      "cell_type": "code",
      "source": [
        "df = pd.read_json('https://data.cityofchicago.org/resource/pvq4-8f4k.json').set_index('id')\n",
        "df = df.where((pd.notnull(df)), None)"
      ],
      "execution_count": 0,
      "outputs": []
    },
    {
      "metadata": {
        "id": "_TRvE6jutiyi",
        "colab_type": "code",
        "colab": {}
      },
      "cell_type": "code",
      "source": [
        "try:\n",
        "  client = pytd.Client(database=database, apikey=td_api_key)\n",
        "  client.load_table_from_dataframe(df.reset_index(), '{}.{}'.format(database, table), if_exists='overwrite')\n",
        "except Exception as e:\n",
        "  print('This operation will take around 5 minutes...')\n",
        "  if table in [table.name for table in c.tables(database)]:\n",
        "    c.delete_table(database, table)\n",
        "  td.to_td(df, '{}.{}'.format(database, table), con)\n",
        "  while columns > 1:\n",
        "    time.sleep(60)\n",
        "    columns = td.read_td_query('''select * from electricity limit 1''', engine=presto).shape[1]"
      ],
      "execution_count": 0,
      "outputs": []
    },
    {
      "metadata": {
        "id": "4foF-cY6dPU_",
        "colab_type": "text"
      },
      "cell_type": "markdown",
      "source": [
        "Check the table"
      ]
    },
    {
      "metadata": {
        "colab_type": "code",
        "id": "NRf_Pf3pknP4",
        "outputId": "a5ace8fd-d15b-408f-fe75-8ee94802e958",
        "colab": {
          "base_uri": "https://localhost:8080/",
          "height": 194
        }
      },
      "cell_type": "code",
      "source": [
        "td.read_td_query('''\n",
        "select \n",
        "  *\n",
        "from \n",
        "  electricity\n",
        "limit 2\n",
        "''', engine=presto)"
      ],
      "execution_count": 0,
      "outputs": [
        {
          "output_type": "execute_result",
          "data": {
            "text/html": [
              "<div>\n",
              "<style scoped>\n",
              "    .dataframe tbody tr th:only-of-type {\n",
              "        vertical-align: middle;\n",
              "    }\n",
              "\n",
              "    .dataframe tbody tr th {\n",
              "        vertical-align: top;\n",
              "    }\n",
              "\n",
              "    .dataframe thead th {\n",
              "        text-align: right;\n",
              "    }\n",
              "</style>\n",
              "<table border=\"1\" class=\"dataframe\">\n",
              "  <thead>\n",
              "    <tr style=\"text-align: right;\">\n",
              "      <th></th>\n",
              "      <th>computed_region_43wa_7qmu</th>\n",
              "      <th>community_area</th>\n",
              "      <th>computed_region_awaf_s7ux</th>\n",
              "      <th>ghg_intensity_kg_co2e_sq_ft</th>\n",
              "      <th>latitude</th>\n",
              "      <th>computed_region_vrxf_vc4k</th>\n",
              "      <th>zip_code</th>\n",
              "      <th>property_name</th>\n",
              "      <th>gross_floor_area_buildings_sq_ft</th>\n",
              "      <th>source_eui_kbtu_sq_ft</th>\n",
              "      <th>id</th>\n",
              "      <th>site_eui_kbtu_sq_ft</th>\n",
              "      <th>longitude</th>\n",
              "      <th>address</th>\n",
              "      <th>weather_normalized_source_eui_kbtu_sq_ft</th>\n",
              "      <th>primary_property_type</th>\n",
              "      <th>data_year</th>\n",
              "      <th>weather_normalized_site_eui_kbtu_sq_ft</th>\n",
              "      <th>natural_gas_use_kbtu</th>\n",
              "      <th>energy_star_score</th>\n",
              "      <th>computed_region_bdys_3d7i</th>\n",
              "      <th>of_buildings</th>\n",
              "      <th>computed_region_6mkv_f3dw</th>\n",
              "      <th>location</th>\n",
              "      <th>year_built</th>\n",
              "      <th>electricity_use_kbtu</th>\n",
              "      <th>total_ghg_emissions_metric_tons_co2e</th>\n",
              "      <th>district_chilled_water_use_kbtu</th>\n",
              "      <th>district_steam_use_kbtu</th>\n",
              "      <th>time</th>\n",
              "    </tr>\n",
              "  </thead>\n",
              "  <tbody>\n",
              "    <tr>\n",
              "      <th>0</th>\n",
              "      <td>33</td>\n",
              "      <td>HYDE PARK</td>\n",
              "      <td>32</td>\n",
              "      <td>24.8</td>\n",
              "      <td>41.789621</td>\n",
              "      <td>8</td>\n",
              "      <td>60637</td>\n",
              "      <td>Kent Chemical Laboratory</td>\n",
              "      <td>59841</td>\n",
              "      <td>428.1</td>\n",
              "      <td>252053</td>\n",
              "      <td>288.4</td>\n",
              "      <td>-87.597784</td>\n",
              "      <td>1020-24 East 58th Street</td>\n",
              "      <td>430.2</td>\n",
              "      <td>Laboratory</td>\n",
              "      <td>2015</td>\n",
              "      <td>289.4</td>\n",
              "      <td>NaN</td>\n",
              "      <td>NaN</td>\n",
              "      <td>154</td>\n",
              "      <td>1</td>\n",
              "      <td>22260</td>\n",
              "      <td>{\"coordinates\":[-87.597784,41.789621],\"type\":\"...</td>\n",
              "      <td>1894</td>\n",
              "      <td>3034181.0</td>\n",
              "      <td>1485.0</td>\n",
              "      <td>5029800.0</td>\n",
              "      <td>9193621.0</td>\n",
              "      <td>1555038967</td>\n",
              "    </tr>\n",
              "    <tr>\n",
              "      <th>1</th>\n",
              "      <td>23</td>\n",
              "      <td>NEAR WEST SIDE</td>\n",
              "      <td>48</td>\n",
              "      <td>7.9</td>\n",
              "      <td>41.877185</td>\n",
              "      <td>29</td>\n",
              "      <td>60607</td>\n",
              "      <td>333 South Ashland</td>\n",
              "      <td>68150</td>\n",
              "      <td>136.6</td>\n",
              "      <td>175475</td>\n",
              "      <td>81.0</td>\n",
              "      <td>-87.666647</td>\n",
              "      <td>333 S. Ashland Avenue</td>\n",
              "      <td>140.8</td>\n",
              "      <td>Office</td>\n",
              "      <td>2015</td>\n",
              "      <td>85.6</td>\n",
              "      <td>3842743.0</td>\n",
              "      <td>76.0</td>\n",
              "      <td>91</td>\n",
              "      <td>1</td>\n",
              "      <td>14917</td>\n",
              "      <td>{\"coordinates\":[-87.666647,41.877185],\"type\":\"...</td>\n",
              "      <td>1927</td>\n",
              "      <td>1679731.0</td>\n",
              "      <td>542.0</td>\n",
              "      <td>NaN</td>\n",
              "      <td>NaN</td>\n",
              "      <td>1555038967</td>\n",
              "    </tr>\n",
              "  </tbody>\n",
              "</table>\n",
              "</div>"
            ],
            "text/plain": [
              "   computed_region_43wa_7qmu  community_area  computed_region_awaf_s7ux  \\\n",
              "0                         33       HYDE PARK                         32   \n",
              "1                         23  NEAR WEST SIDE                         48   \n",
              "\n",
              "   ghg_intensity_kg_co2e_sq_ft   latitude  computed_region_vrxf_vc4k zip_code  \\\n",
              "0                         24.8  41.789621                          8    60637   \n",
              "1                          7.9  41.877185                         29    60607   \n",
              "\n",
              "              property_name  gross_floor_area_buildings_sq_ft  \\\n",
              "0  Kent Chemical Laboratory                             59841   \n",
              "1         333 South Ashland                             68150   \n",
              "\n",
              "   source_eui_kbtu_sq_ft      id  site_eui_kbtu_sq_ft  longitude  \\\n",
              "0                  428.1  252053                288.4 -87.597784   \n",
              "1                  136.6  175475                 81.0 -87.666647   \n",
              "\n",
              "                    address  weather_normalized_source_eui_kbtu_sq_ft  \\\n",
              "0  1020-24 East 58th Street                                     430.2   \n",
              "1     333 S. Ashland Avenue                                     140.8   \n",
              "\n",
              "  primary_property_type  data_year  weather_normalized_site_eui_kbtu_sq_ft  \\\n",
              "0            Laboratory       2015                                   289.4   \n",
              "1                Office       2015                                    85.6   \n",
              "\n",
              "   natural_gas_use_kbtu  energy_star_score  computed_region_bdys_3d7i  \\\n",
              "0                   NaN                NaN                        154   \n",
              "1             3842743.0               76.0                         91   \n",
              "\n",
              "   of_buildings  computed_region_6mkv_f3dw  \\\n",
              "0             1                      22260   \n",
              "1             1                      14917   \n",
              "\n",
              "                                            location  year_built  \\\n",
              "0  {\"coordinates\":[-87.597784,41.789621],\"type\":\"...        1894   \n",
              "1  {\"coordinates\":[-87.666647,41.877185],\"type\":\"...        1927   \n",
              "\n",
              "   electricity_use_kbtu  total_ghg_emissions_metric_tons_co2e  \\\n",
              "0             3034181.0                                1485.0   \n",
              "1             1679731.0                                 542.0   \n",
              "\n",
              "   district_chilled_water_use_kbtu  district_steam_use_kbtu        time  \n",
              "0                        5029800.0                9193621.0  1555038967  \n",
              "1                              NaN                      NaN  1555038967  "
            ]
          },
          "metadata": {
            "tags": []
          },
          "execution_count": 6
        }
      ]
    },
    {
      "metadata": {
        "id": "vij-hlAuok88",
        "colab_type": "text"
      },
      "cell_type": "markdown",
      "source": [
        "Please see [this page](https://data.cityofchicago.org/Environment-Sustainable-Development/Chicago-Energy-Benchmarking/xq83-jr8c) to get to know the meaning of each columns."
      ]
    },
    {
      "metadata": {
        "id": "TDN9JqcZqSUN",
        "colab_type": "text"
      },
      "cell_type": "markdown",
      "source": [
        "# EDA (Explore Data Analysis)\n",
        "Before running machine learning tasks, you should understand your data correctly.  \n",
        "Descriptive statistics and visualization are important for this.\n",
        "\n",
        "A target variable is `electricity_use_kbtu` .   "
      ]
    },
    {
      "metadata": {
        "id": "Qxu4b0rsd1dA",
        "colab_type": "text"
      },
      "cell_type": "markdown",
      "source": [
        "## Data Size"
      ]
    },
    {
      "metadata": {
        "id": "7bowJOyGeUxR",
        "colab_type": "code",
        "outputId": "e77fbbcf-09be-4412-c7e7-ba893cc41ba5",
        "colab": {
          "base_uri": "https://localhost:8080/",
          "height": 77
        }
      },
      "cell_type": "code",
      "source": [
        "td.read_td_query('''\n",
        "select\n",
        "  count(*)\n",
        "from\n",
        "  electricity\n",
        "''', engine=presto)"
      ],
      "execution_count": 0,
      "outputs": [
        {
          "output_type": "execute_result",
          "data": {
            "text/html": [
              "<div>\n",
              "<style scoped>\n",
              "    .dataframe tbody tr th:only-of-type {\n",
              "        vertical-align: middle;\n",
              "    }\n",
              "\n",
              "    .dataframe tbody tr th {\n",
              "        vertical-align: top;\n",
              "    }\n",
              "\n",
              "    .dataframe thead th {\n",
              "        text-align: right;\n",
              "    }\n",
              "</style>\n",
              "<table border=\"1\" class=\"dataframe\">\n",
              "  <thead>\n",
              "    <tr style=\"text-align: right;\">\n",
              "      <th></th>\n",
              "      <th>_col0</th>\n",
              "    </tr>\n",
              "  </thead>\n",
              "  <tbody>\n",
              "    <tr>\n",
              "      <th>0</th>\n",
              "      <td>1000</td>\n",
              "    </tr>\n",
              "  </tbody>\n",
              "</table>\n",
              "</div>"
            ],
            "text/plain": [
              "   _col0\n",
              "0   1000"
            ]
          },
          "metadata": {
            "tags": []
          },
          "execution_count": 7
        }
      ]
    },
    {
      "metadata": {
        "id": "gfH53cO93l3Y",
        "colab_type": "text"
      },
      "cell_type": "markdown",
      "source": [
        "## Check if null value exists"
      ]
    },
    {
      "metadata": {
        "id": "ugpRr3TQ3rUL",
        "colab_type": "code",
        "outputId": "b0cdfcb5-94ea-4a4e-da41-68f9d5d5ac08",
        "colab": {
          "base_uri": "https://localhost:8080/",
          "height": 917
        }
      },
      "cell_type": "code",
      "source": [
        "td.read_td_query('''\n",
        "select\n",
        "  count(computed_region_43wa_7qmu) as computed_region_43wa_7qmu,\n",
        "  count(community_area) as community_area,\n",
        "  count(computed_region_awaf_s7ux) as computed_region_awaf_s7ux,\n",
        "  count(ghg_intensity_kg_co2e_sq_ft) as ghg_intensity_kg_co2e_sq_ft,\n",
        "  count(latitude) as latitude,\n",
        "  count(computed_region_vrxf_vc4k) as computed_region_vrxf_vc4k,\n",
        "  count(zip_code) as zip_code,\n",
        "  count(property_name) as property_name,\n",
        "  count(gross_floor_area_buildings_sq_ft) as gross_floor_area_buildings_sq_ft,\n",
        "  count(source_eui_kbtu_sq_ft) as source_eui_kbtu_sq_ft,\n",
        "  count(id) as id,\n",
        "  count(site_eui_kbtu_sq_ft) as site_eui_kbtu_sq_ft,\n",
        "  count(longitude) as longitude,\n",
        "  count(address) as address,\n",
        "  count(weather_normalized_source_eui_kbtu_sq_ft) as weather_normalized_source_eui_kbtu_sq_ft,\n",
        "  count(primary_property_type) as primary_property_type,\n",
        "  count(data_year) as data_year,\n",
        "  count(weather_normalized_site_eui_kbtu_sq_ft) as weather_normalized_site_eui_kbtu_sq_ft,\n",
        "  count(natural_gas_use_kbtu) as natural_gas_use_kbtu,\n",
        "  count(energy_star_score) as energy_star_score,\n",
        "  count(computed_region_bdys_3d7i) as computed_region_bdys_3d7i,\n",
        "  count(of_buildings) as of_buildings,\n",
        "  count(computed_region_6mkv_f3dw) as computed_region_6mkv_f3dw,\n",
        "  count(location) as location,\n",
        "  count(year_built) as year_built,\n",
        "  count(electricity_use_kbtu) as electricity_use_kbtu,\n",
        "  count(total_ghg_emissions_metric_tons_co2e) as total_ghg_emissions_metric_tons_co2e,\n",
        "  count(district_chilled_water_use_kbtu) as district_chilled_water_use_kbtu,\n",
        "  count(district_steam_use_kbtu) as district_steam_use_kbtu\n",
        "from\n",
        "  electricity\n",
        "''', engine=presto).transpose().sort_values(0)"
      ],
      "execution_count": 0,
      "outputs": [
        {
          "output_type": "execute_result",
          "data": {
            "text/html": [
              "<div>\n",
              "<style scoped>\n",
              "    .dataframe tbody tr th:only-of-type {\n",
              "        vertical-align: middle;\n",
              "    }\n",
              "\n",
              "    .dataframe tbody tr th {\n",
              "        vertical-align: top;\n",
              "    }\n",
              "\n",
              "    .dataframe thead th {\n",
              "        text-align: right;\n",
              "    }\n",
              "</style>\n",
              "<table border=\"1\" class=\"dataframe\">\n",
              "  <thead>\n",
              "    <tr style=\"text-align: right;\">\n",
              "      <th></th>\n",
              "      <th>0</th>\n",
              "    </tr>\n",
              "  </thead>\n",
              "  <tbody>\n",
              "    <tr>\n",
              "      <th>district_chilled_water_use_kbtu</th>\n",
              "      <td>44</td>\n",
              "    </tr>\n",
              "    <tr>\n",
              "      <th>district_steam_use_kbtu</th>\n",
              "      <td>47</td>\n",
              "    </tr>\n",
              "    <tr>\n",
              "      <th>energy_star_score</th>\n",
              "      <td>836</td>\n",
              "    </tr>\n",
              "    <tr>\n",
              "      <th>natural_gas_use_kbtu</th>\n",
              "      <td>868</td>\n",
              "    </tr>\n",
              "    <tr>\n",
              "      <th>weather_normalized_site_eui_kbtu_sq_ft</th>\n",
              "      <td>968</td>\n",
              "    </tr>\n",
              "    <tr>\n",
              "      <th>weather_normalized_source_eui_kbtu_sq_ft</th>\n",
              "      <td>968</td>\n",
              "    </tr>\n",
              "    <tr>\n",
              "      <th>ghg_intensity_kg_co2e_sq_ft</th>\n",
              "      <td>979</td>\n",
              "    </tr>\n",
              "    <tr>\n",
              "      <th>total_ghg_emissions_metric_tons_co2e</th>\n",
              "      <td>980</td>\n",
              "    </tr>\n",
              "    <tr>\n",
              "      <th>source_eui_kbtu_sq_ft</th>\n",
              "      <td>986</td>\n",
              "    </tr>\n",
              "    <tr>\n",
              "      <th>site_eui_kbtu_sq_ft</th>\n",
              "      <td>986</td>\n",
              "    </tr>\n",
              "    <tr>\n",
              "      <th>electricity_use_kbtu</th>\n",
              "      <td>990</td>\n",
              "    </tr>\n",
              "    <tr>\n",
              "      <th>year_built</th>\n",
              "      <td>1000</td>\n",
              "    </tr>\n",
              "    <tr>\n",
              "      <th>location</th>\n",
              "      <td>1000</td>\n",
              "    </tr>\n",
              "    <tr>\n",
              "      <th>computed_region_6mkv_f3dw</th>\n",
              "      <td>1000</td>\n",
              "    </tr>\n",
              "    <tr>\n",
              "      <th>of_buildings</th>\n",
              "      <td>1000</td>\n",
              "    </tr>\n",
              "    <tr>\n",
              "      <th>computed_region_bdys_3d7i</th>\n",
              "      <td>1000</td>\n",
              "    </tr>\n",
              "    <tr>\n",
              "      <th>community_area</th>\n",
              "      <td>1000</td>\n",
              "    </tr>\n",
              "    <tr>\n",
              "      <th>computed_region_awaf_s7ux</th>\n",
              "      <td>1000</td>\n",
              "    </tr>\n",
              "    <tr>\n",
              "      <th>zip_code</th>\n",
              "      <td>1000</td>\n",
              "    </tr>\n",
              "    <tr>\n",
              "      <th>data_year</th>\n",
              "      <td>1000</td>\n",
              "    </tr>\n",
              "    <tr>\n",
              "      <th>primary_property_type</th>\n",
              "      <td>1000</td>\n",
              "    </tr>\n",
              "    <tr>\n",
              "      <th>latitude</th>\n",
              "      <td>1000</td>\n",
              "    </tr>\n",
              "    <tr>\n",
              "      <th>address</th>\n",
              "      <td>1000</td>\n",
              "    </tr>\n",
              "    <tr>\n",
              "      <th>longitude</th>\n",
              "      <td>1000</td>\n",
              "    </tr>\n",
              "    <tr>\n",
              "      <th>id</th>\n",
              "      <td>1000</td>\n",
              "    </tr>\n",
              "    <tr>\n",
              "      <th>gross_floor_area_buildings_sq_ft</th>\n",
              "      <td>1000</td>\n",
              "    </tr>\n",
              "    <tr>\n",
              "      <th>property_name</th>\n",
              "      <td>1000</td>\n",
              "    </tr>\n",
              "    <tr>\n",
              "      <th>computed_region_vrxf_vc4k</th>\n",
              "      <td>1000</td>\n",
              "    </tr>\n",
              "    <tr>\n",
              "      <th>computed_region_43wa_7qmu</th>\n",
              "      <td>1000</td>\n",
              "    </tr>\n",
              "  </tbody>\n",
              "</table>\n",
              "</div>"
            ],
            "text/plain": [
              "                                             0\n",
              "district_chilled_water_use_kbtu             44\n",
              "district_steam_use_kbtu                     47\n",
              "energy_star_score                          836\n",
              "natural_gas_use_kbtu                       868\n",
              "weather_normalized_site_eui_kbtu_sq_ft     968\n",
              "weather_normalized_source_eui_kbtu_sq_ft   968\n",
              "ghg_intensity_kg_co2e_sq_ft                979\n",
              "total_ghg_emissions_metric_tons_co2e       980\n",
              "source_eui_kbtu_sq_ft                      986\n",
              "site_eui_kbtu_sq_ft                        986\n",
              "electricity_use_kbtu                       990\n",
              "year_built                                1000\n",
              "location                                  1000\n",
              "computed_region_6mkv_f3dw                 1000\n",
              "of_buildings                              1000\n",
              "computed_region_bdys_3d7i                 1000\n",
              "community_area                            1000\n",
              "computed_region_awaf_s7ux                 1000\n",
              "zip_code                                  1000\n",
              "data_year                                 1000\n",
              "primary_property_type                     1000\n",
              "latitude                                  1000\n",
              "address                                   1000\n",
              "longitude                                 1000\n",
              "id                                        1000\n",
              "gross_floor_area_buildings_sq_ft          1000\n",
              "property_name                             1000\n",
              "computed_region_vrxf_vc4k                 1000\n",
              "computed_region_43wa_7qmu                 1000"
            ]
          },
          "metadata": {
            "tags": []
          },
          "execution_count": 11
        }
      ]
    },
    {
      "metadata": {
        "id": "0X_y5Dv4eYw4",
        "colab_type": "text"
      },
      "cell_type": "markdown",
      "source": [
        "## Target Variable"
      ]
    },
    {
      "metadata": {
        "id": "BeAUJAekn0eH",
        "colab_type": "text"
      },
      "cell_type": "markdown",
      "source": [
        "Average / Min / Max / Percentile"
      ]
    },
    {
      "metadata": {
        "id": "oloJgwJGeb5J",
        "colab_type": "code",
        "outputId": "31dbb2a4-43e0-4c72-b8e5-c6d8bca663f3",
        "colab": {
          "base_uri": "https://localhost:8080/",
          "height": 77
        }
      },
      "cell_type": "code",
      "source": [
        "td.read_td_query('''\n",
        "select\n",
        "  avg(electricity_use_kbtu) as mean\n",
        "  ,min(electricity_use_kbtu) as min\n",
        "  ,approx_percentile(electricity_use_kbtu, 0.25) as q25\n",
        "  ,approx_percentile(electricity_use_kbtu, 0.50) as q50\n",
        "  ,approx_percentile(electricity_use_kbtu, 0.75) as q75\n",
        "  ,max(electricity_use_kbtu) as max\n",
        "from\n",
        "  electricity\n",
        "where\n",
        "  electricity_use_kbtu is not null\n",
        "''', engine=presto)"
      ],
      "execution_count": 0,
      "outputs": [
        {
          "output_type": "execute_result",
          "data": {
            "text/html": [
              "<div>\n",
              "<style scoped>\n",
              "    .dataframe tbody tr th:only-of-type {\n",
              "        vertical-align: middle;\n",
              "    }\n",
              "\n",
              "    .dataframe tbody tr th {\n",
              "        vertical-align: top;\n",
              "    }\n",
              "\n",
              "    .dataframe thead th {\n",
              "        text-align: right;\n",
              "    }\n",
              "</style>\n",
              "<table border=\"1\" class=\"dataframe\">\n",
              "  <thead>\n",
              "    <tr style=\"text-align: right;\">\n",
              "      <th></th>\n",
              "      <th>mean</th>\n",
              "      <th>min</th>\n",
              "      <th>q25</th>\n",
              "      <th>q50</th>\n",
              "      <th>q75</th>\n",
              "      <th>max</th>\n",
              "    </tr>\n",
              "  </thead>\n",
              "  <tbody>\n",
              "    <tr>\n",
              "      <th>0</th>\n",
              "      <td>1.577446e+07</td>\n",
              "      <td>214.0</td>\n",
              "      <td>2328835.0</td>\n",
              "      <td>5657618.0</td>\n",
              "      <td>12959963.0</td>\n",
              "      <td>485542954.0</td>\n",
              "    </tr>\n",
              "  </tbody>\n",
              "</table>\n",
              "</div>"
            ],
            "text/plain": [
              "           mean    min        q25        q50         q75          max\n",
              "0  1.577446e+07  214.0  2328835.0  5657618.0  12959963.0  485542954.0"
            ]
          },
          "metadata": {
            "tags": []
          },
          "execution_count": 9
        }
      ]
    },
    {
      "metadata": {
        "id": "T45E6vPOn4MZ",
        "colab_type": "text"
      },
      "cell_type": "markdown",
      "source": [
        "Histgram"
      ]
    },
    {
      "metadata": {
        "id": "93qFafF3nK64",
        "colab_type": "code",
        "outputId": "8addac04-50cd-4f75-bf2c-45145ec85580",
        "colab": {
          "base_uri": "https://localhost:8080/",
          "height": 292
        }
      },
      "cell_type": "code",
      "source": [
        "td.read_td_query('''\n",
        "select\n",
        "  electricity_use_kbtu\n",
        "from\n",
        "  electricity\n",
        "''', engine=presto).hist(bins=100);"
      ],
      "execution_count": 0,
      "outputs": [
        {
          "output_type": "display_data",
          "data": {
            "image/png": "[encoded data removed]",
            "text/plain": [
              "<Figure size 432x288 with 1 Axes>"
            ]
          },
          "metadata": {
            "tags": []
          }
        }
      ]
    },
    {
      "metadata": {
        "id": "qKNsGR74n5fq",
        "colab_type": "text"
      },
      "cell_type": "markdown",
      "source": [
        "Most of data exist aound zero. In the case, you should try logarithmic transformation.  \n",
        "It might convert the data into Gaussian distribution, which is easy to predict."
      ]
    },
    {
      "metadata": {
        "id": "mY9i-5XpnY-7",
        "colab_type": "code",
        "outputId": "65f50521-a7cf-462a-fa48-06d392b7f83b",
        "colab": {
          "base_uri": "https://localhost:8080/",
          "height": 280
        }
      },
      "cell_type": "code",
      "source": [
        "td.read_td_query('''\n",
        "select\n",
        "  ln(electricity_use_kbtu)\n",
        "from\n",
        "  electricity\n",
        "''', engine=presto).hist(bins=100);"
      ],
      "execution_count": 0,
      "outputs": [
        {
          "output_type": "display_data",
          "data": {
            "image/png": "[encoded data removed]",
            "text/plain": [
              "<Figure size 432x288 with 1 Axes>"
            ]
          },
          "metadata": {
            "tags": []
          }
        }
      ]
    },
    {
      "metadata": {
        "id": "5aOOGm1WqWGP",
        "colab_type": "text"
      },
      "cell_type": "markdown",
      "source": [
        "## Features"
      ]
    },
    {
      "metadata": {
        "id": "gi2R8X79qkwq",
        "colab_type": "text"
      },
      "cell_type": "markdown",
      "source": [
        "Following variable are unavailable as features because they are unique for each rows.\n",
        "- zip_code\n",
        "- property_name\n",
        "- address\n",
        "- id\n",
        "  \n",
        "To simplify this tutrial, following variable are not used.\n",
        "- natural_gas_use_kbtu\n",
        "- district_chilled_water_use_kbtu\t\n",
        "- district_steam_use_kbtu\n",
        "- source_eui_kbtu_sq_ft\n",
        "- site_eui_kbtu_sq_ft\n",
        "- weather_normalized_source_eui_kbtu_sq_ft\n",
        "- weather_normalized_site_eui_kbtu_sq_ft\n",
        "- district_chilled_water_use_kbtu\n",
        "- district_steam_use_kbtu\n",
        "\n",
        "Finally, the rest is available as features.\n",
        "- computed_region_43wa_7qmu\n",
        "- computed_region_awaf_s7ux\n",
        "- ghg_intensity_kg_co2e_sq_ft\n",
        "- latitude\n",
        "- computed_region_vrxf_vc4k\n",
        "- gross_floor_area_buildings_sq_ft\n",
        "- source_eui_kbtu_sq_ft\n",
        "- longitude\n",
        "- address\n",
        "- primary_property_type\n",
        "- data_year\n",
        "- energy_star_score\n",
        "- computed_region_bdys_3d7i\n",
        "- of_buildings\n",
        "- computed_region_6mkv_f3dw\n",
        "- location\n",
        "- year_built\n",
        "- total_ghg_emissions_metric_tons_co2e\n",
        "- community_area\n",
        "- primary_property_type\n"
      ]
    },
    {
      "metadata": {
        "id": "KdgvDsHM2h60",
        "colab_type": "text"
      },
      "cell_type": "markdown",
      "source": [
        "### Qunatitative variables"
      ]
    },
    {
      "metadata": {
        "id": "W0UZ2tKkqZ2v",
        "colab_type": "text"
      },
      "cell_type": "markdown",
      "source": [
        "At first, check the correlation coefficients for each variable pairs.  \n",
        "Only variables with high coefficients are used at training step.\n",
        "\n",
        "Also, the data has `data_year` and `year_built`, so the age of buildings can be calculated by `data_year - year_build`."
      ]
    },
    {
      "metadata": {
        "id": "3tjECv3otD52",
        "colab_type": "code",
        "outputId": "c1c75747-f9f5-436a-f121-4b9121e72185",
        "colab": {
          "base_uri": "https://localhost:8080/",
          "height": 733
        }
      },
      "cell_type": "code",
      "source": [
        "import seaborn as sns\n",
        "d = td.read_td_query('''\n",
        "select\n",
        "  ln(electricity_use_kbtu) as electricity_use_kbtu,\n",
        "  latitude,\n",
        "  longitude,\n",
        "  location,\n",
        "  computed_region_43wa_7qmu,\n",
        "  computed_region_awaf_s7ux,\n",
        "  ghg_intensity_kg_co2e_sq_ft,\n",
        "  computed_region_vrxf_vc4k,\n",
        "  gross_floor_area_buildings_sq_ft,\n",
        "  primary_property_type,\n",
        "  data_year,\n",
        "  energy_star_score,\n",
        "  computed_region_bdys_3d7i,\n",
        "  of_buildings,\n",
        "  computed_region_6mkv_f3dw,\n",
        "  year_built,\n",
        "  total_ghg_emissions_metric_tons_co2e,\n",
        "  data_year - year_built as age\n",
        "from\n",
        "  electricity\n",
        "''', engine=presto)\n",
        "fig, ax = plt.subplots(figsize=(10,4))\n",
        "sns.heatmap(d.corr(), ax=ax);\n",
        "\n",
        "print(d.corr().loc['electricity_use_kbtu',:].sort_values())"
      ],
      "execution_count": 0,
      "outputs": [
        {
          "output_type": "stream",
          "text": [
            "age                                    -0.313709\n",
            "data_year                              -0.307917\n",
            "energy_star_score                      -0.260563\n",
            "computed_region_bdys_3d7i              -0.163200\n",
            "computed_region_6mkv_f3dw              -0.048395\n",
            "computed_region_vrxf_vc4k              -0.029124\n",
            "latitude                               -0.017687\n",
            "of_buildings                            0.062106\n",
            "computed_region_awaf_s7ux               0.074297\n",
            "computed_region_43wa_7qmu               0.111158\n",
            "longitude                               0.114300\n",
            "year_built                              0.306125\n",
            "ghg_intensity_kg_co2e_sq_ft             0.311522\n",
            "total_ghg_emissions_metric_tons_co2e    0.566072\n",
            "gross_floor_area_buildings_sq_ft        0.567623\n",
            "electricity_use_kbtu                    1.000000\n",
            "Name: electricity_use_kbtu, dtype: float64\n"
          ],
          "name": "stdout"
        },
        {
          "output_type": "display_data",
          "data": {
            "image/png": "[encoded data removed]",
            "text/plain": [
              "<Figure size 720x288 with 2 Axes>"
            ]
          },
          "metadata": {
            "tags": []
          }
        }
      ]
    },
    {
      "metadata": {
        "id": "TJZMUvs606HV",
        "colab_type": "text"
      },
      "cell_type": "markdown",
      "source": [
        "From the result, following variables are selected.\n",
        "- age\n",
        "- energy_star_score\n",
        "- gross_floor_area_buildings_sq_ft\n",
        "- ghg_intensity_kg_co2e_sq_ft\n",
        "\n",
        "Note:\n",
        "- `total_ghg_emissions_metric_tons_co2e` and `data_year` has high correlation coefficient with `ghg_intensity_kg_co2e_sq_ft` and `age` respectively, so they might be not necessary."
      ]
    },
    {
      "metadata": {
        "id": "9GrGu8ykehj2",
        "colab_type": "text"
      },
      "cell_type": "markdown",
      "source": [
        "#### age"
      ]
    },
    {
      "metadata": {
        "id": "3idsCDdKFnmf",
        "colab_type": "text"
      },
      "cell_type": "markdown",
      "source": [
        "Check whether null exists"
      ]
    },
    {
      "metadata": {
        "id": "3kHiG7EVFeBU",
        "colab_type": "code",
        "outputId": "a0ea5191-5fc1-49b7-d252-14b1f7f0d761",
        "colab": {
          "base_uri": "https://localhost:8080/",
          "height": 77
        }
      },
      "cell_type": "code",
      "source": [
        "td.read_td_query('''\n",
        "select\n",
        "  count(data_year) as data_year\n",
        "  ,count(year_built) as year_build\n",
        "  ,count(*)\n",
        "from\n",
        "  electricity\n",
        "''', engine=presto)"
      ],
      "execution_count": 0,
      "outputs": [
        {
          "output_type": "execute_result",
          "data": {
            "text/html": [
              "<div>\n",
              "<style scoped>\n",
              "    .dataframe tbody tr th:only-of-type {\n",
              "        vertical-align: middle;\n",
              "    }\n",
              "\n",
              "    .dataframe tbody tr th {\n",
              "        vertical-align: top;\n",
              "    }\n",
              "\n",
              "    .dataframe thead th {\n",
              "        text-align: right;\n",
              "    }\n",
              "</style>\n",
              "<table border=\"1\" class=\"dataframe\">\n",
              "  <thead>\n",
              "    <tr style=\"text-align: right;\">\n",
              "      <th></th>\n",
              "      <th>data_year</th>\n",
              "      <th>year_build</th>\n",
              "      <th>_col2</th>\n",
              "    </tr>\n",
              "  </thead>\n",
              "  <tbody>\n",
              "    <tr>\n",
              "      <th>0</th>\n",
              "      <td>1000</td>\n",
              "      <td>1000</td>\n",
              "      <td>1000</td>\n",
              "    </tr>\n",
              "  </tbody>\n",
              "</table>\n",
              "</div>"
            ],
            "text/plain": [
              "   data_year  year_build  _col2\n",
              "0       1000        1000   1000"
            ]
          },
          "metadata": {
            "tags": []
          },
          "execution_count": 136
        }
      ]
    },
    {
      "metadata": {
        "id": "uNhVQ1Gfux9U",
        "colab_type": "code",
        "outputId": "22da52b9-4207-4d4f-ff24-1d6b32716919",
        "colab": {
          "base_uri": "https://localhost:8080/",
          "height": 77
        }
      },
      "cell_type": "code",
      "source": [
        "td.read_td_query('''\n",
        "select\n",
        "  avg(data_year - year_built) as mean\n",
        "  ,min(data_year - year_built) as min\n",
        "  ,approx_percentile(data_year - year_built, 0.25) as q25\n",
        "  ,approx_percentile(data_year - year_built, 0.50) as q50\n",
        "  ,approx_percentile(data_year - year_built, 0.75) as q75\n",
        "  ,max(data_year - year_built) as max\n",
        "from\n",
        "  electricity\n",
        "''', engine=presto)"
      ],
      "execution_count": 0,
      "outputs": [
        {
          "output_type": "execute_result",
          "data": {
            "text/html": [
              "<div>\n",
              "<style scoped>\n",
              "    .dataframe tbody tr th:only-of-type {\n",
              "        vertical-align: middle;\n",
              "    }\n",
              "\n",
              "    .dataframe tbody tr th {\n",
              "        vertical-align: top;\n",
              "    }\n",
              "\n",
              "    .dataframe thead th {\n",
              "        text-align: right;\n",
              "    }\n",
              "</style>\n",
              "<table border=\"1\" class=\"dataframe\">\n",
              "  <thead>\n",
              "    <tr style=\"text-align: right;\">\n",
              "      <th></th>\n",
              "      <th>mean</th>\n",
              "      <th>min</th>\n",
              "      <th>q25</th>\n",
              "      <th>q50</th>\n",
              "      <th>q75</th>\n",
              "      <th>max</th>\n",
              "    </tr>\n",
              "  </thead>\n",
              "  <tbody>\n",
              "    <tr>\n",
              "      <th>0</th>\n",
              "      <td>51.592</td>\n",
              "      <td>1</td>\n",
              "      <td>17</td>\n",
              "      <td>46</td>\n",
              "      <td>88</td>\n",
              "      <td>157</td>\n",
              "    </tr>\n",
              "  </tbody>\n",
              "</table>\n",
              "</div>"
            ],
            "text/plain": [
              "     mean  min  q25  q50  q75  max\n",
              "0  51.592    1   17   46   88  157"
            ]
          },
          "metadata": {
            "tags": []
          },
          "execution_count": 83
        }
      ]
    },
    {
      "metadata": {
        "id": "VC7GX-ThsJwK",
        "colab_type": "code",
        "outputId": "e269f682-08a8-40ed-a278-0ba9a51773b4",
        "colab": {
          "base_uri": "https://localhost:8080/",
          "height": 280
        }
      },
      "cell_type": "code",
      "source": [
        "td.read_td_query('''\n",
        "select\n",
        "  data_year - year_built\n",
        "from\n",
        "  electricity\n",
        "''', engine=presto).hist(bins=100);"
      ],
      "execution_count": 0,
      "outputs": [
        {
          "output_type": "display_data",
          "data": {
            "image/png": "[encoded data removed]",
            "text/plain": [
              "<Figure size 432x288 with 1 Axes>"
            ]
          },
          "metadata": {
            "tags": []
          }
        }
      ]
    },
    {
      "metadata": {
        "id": "i-U9H4vdfBqa",
        "colab_type": "text"
      },
      "cell_type": "markdown",
      "source": [
        "####  energy_star_score"
      ]
    },
    {
      "metadata": {
        "id": "rCSPUIz6FxVD",
        "colab_type": "text"
      },
      "cell_type": "markdown",
      "source": [
        "Check whether null exists"
      ]
    },
    {
      "metadata": {
        "id": "2wQj7qJRFszH",
        "colab_type": "code",
        "outputId": "f3b52760-50e9-41dc-c66d-f219682b88ad",
        "colab": {
          "base_uri": "https://localhost:8080/",
          "height": 77
        }
      },
      "cell_type": "code",
      "source": [
        "td.read_td_query('''\n",
        "select\n",
        "  count(energy_star_score)\n",
        "  ,count(*)\n",
        "from\n",
        "  electricity\n",
        "''', engine=presto)"
      ],
      "execution_count": 0,
      "outputs": [
        {
          "output_type": "execute_result",
          "data": {
            "text/html": [
              "<div>\n",
              "<style scoped>\n",
              "    .dataframe tbody tr th:only-of-type {\n",
              "        vertical-align: middle;\n",
              "    }\n",
              "\n",
              "    .dataframe tbody tr th {\n",
              "        vertical-align: top;\n",
              "    }\n",
              "\n",
              "    .dataframe thead th {\n",
              "        text-align: right;\n",
              "    }\n",
              "</style>\n",
              "<table border=\"1\" class=\"dataframe\">\n",
              "  <thead>\n",
              "    <tr style=\"text-align: right;\">\n",
              "      <th></th>\n",
              "      <th>_col0</th>\n",
              "      <th>_col1</th>\n",
              "    </tr>\n",
              "  </thead>\n",
              "  <tbody>\n",
              "    <tr>\n",
              "      <th>0</th>\n",
              "      <td>836</td>\n",
              "      <td>1000</td>\n",
              "    </tr>\n",
              "  </tbody>\n",
              "</table>\n",
              "</div>"
            ],
            "text/plain": [
              "   _col0  _col1\n",
              "0    836   1000"
            ]
          },
          "metadata": {
            "tags": []
          },
          "execution_count": 138
        }
      ]
    },
    {
      "metadata": {
        "id": "i08Ecd_IFypN",
        "colab_type": "text"
      },
      "cell_type": "markdown",
      "source": [
        "164 null values exist."
      ]
    },
    {
      "metadata": {
        "id": "RbtDC_cZgGTV",
        "colab_type": "code",
        "outputId": "63a89de1-8948-479c-a343-5ca27d17ca05",
        "colab": {
          "base_uri": "https://localhost:8080/",
          "height": 77
        }
      },
      "cell_type": "code",
      "source": [
        "td.read_td_query('''\n",
        "select\n",
        "  avg(energy_star_score) as average\n",
        "  ,min(energy_star_score) as min\n",
        "  ,approx_percentile(energy_star_score, 0.25) as pct_25th\n",
        "  ,approx_percentile(energy_star_score, 0.50) as pct_50th\n",
        "  ,approx_percentile(energy_star_score, 0.75) as pct_75th\n",
        "  ,max(energy_star_score) as max\n",
        "from\n",
        "  electricity\n",
        "''', engine=presto)"
      ],
      "execution_count": 0,
      "outputs": [
        {
          "output_type": "execute_result",
          "data": {
            "text/html": [
              "<div>\n",
              "<style scoped>\n",
              "    .dataframe tbody tr th:only-of-type {\n",
              "        vertical-align: middle;\n",
              "    }\n",
              "\n",
              "    .dataframe tbody tr th {\n",
              "        vertical-align: top;\n",
              "    }\n",
              "\n",
              "    .dataframe thead th {\n",
              "        text-align: right;\n",
              "    }\n",
              "</style>\n",
              "<table border=\"1\" class=\"dataframe\">\n",
              "  <thead>\n",
              "    <tr style=\"text-align: right;\">\n",
              "      <th></th>\n",
              "      <th>average</th>\n",
              "      <th>min</th>\n",
              "      <th>pct_25th</th>\n",
              "      <th>pct_50th</th>\n",
              "      <th>pct_75th</th>\n",
              "      <th>max</th>\n",
              "    </tr>\n",
              "  </thead>\n",
              "  <tbody>\n",
              "    <tr>\n",
              "      <th>0</th>\n",
              "      <td>58.352871</td>\n",
              "      <td>1.0</td>\n",
              "      <td>36.0</td>\n",
              "      <td>62.0</td>\n",
              "      <td>82.0</td>\n",
              "      <td>100.0</td>\n",
              "    </tr>\n",
              "  </tbody>\n",
              "</table>\n",
              "</div>"
            ],
            "text/plain": [
              "     average  min  pct_25th  pct_50th  pct_75th    max\n",
              "0  58.352871  1.0      36.0      62.0      82.0  100.0"
            ]
          },
          "metadata": {
            "tags": []
          },
          "execution_count": 87
        }
      ]
    },
    {
      "metadata": {
        "id": "HP4JQwhtfW2a",
        "colab_type": "code",
        "outputId": "65bbcf8e-c36d-4fac-ca9c-768b263408c7",
        "colab": {
          "base_uri": "https://localhost:8080/",
          "height": 315
        }
      },
      "cell_type": "code",
      "source": [
        "td.read_td_query('''\n",
        "  select\n",
        "    energy_star_score\n",
        "  from\n",
        "    electricity\n",
        "''', engine=presto).hist(bins=20)"
      ],
      "execution_count": 0,
      "outputs": [
        {
          "output_type": "execute_result",
          "data": {
            "text/plain": [
              "array([[<matplotlib.axes._subplots.AxesSubplot object at 0x7ff144757f60>]],\n",
              "      dtype=object)"
            ]
          },
          "metadata": {
            "tags": []
          },
          "execution_count": 88
        },
        {
          "output_type": "display_data",
          "data": {
            "image/png": "[encoded data removed]",
            "text/plain": [
              "<Figure size 432x288 with 1 Axes>"
            ]
          },
          "metadata": {
            "tags": []
          }
        }
      ]
    },
    {
      "metadata": {
        "id": "gH0wVVpofzNt",
        "colab_type": "text"
      },
      "cell_type": "markdown",
      "source": [
        "#### gross_floor_area_buildings_sq_ft"
      ]
    },
    {
      "metadata": {
        "id": "z7kZQPI3F82l",
        "colab_type": "text"
      },
      "cell_type": "markdown",
      "source": [
        "Check whether null exists"
      ]
    },
    {
      "metadata": {
        "id": "ddJMnBolF6A4",
        "colab_type": "code",
        "outputId": "5961291e-0ab4-4277-e21c-45ee81b376a1",
        "colab": {
          "base_uri": "https://localhost:8080/",
          "height": 77
        }
      },
      "cell_type": "code",
      "source": [
        "td.read_td_query('''\n",
        "select\n",
        "  count(gross_floor_area_buildings_sq_ft)\n",
        "  ,count(*)\n",
        "from\n",
        "  electricity\n",
        "''', engine=presto)"
      ],
      "execution_count": 0,
      "outputs": [
        {
          "output_type": "execute_result",
          "data": {
            "text/html": [
              "<div>\n",
              "<style scoped>\n",
              "    .dataframe tbody tr th:only-of-type {\n",
              "        vertical-align: middle;\n",
              "    }\n",
              "\n",
              "    .dataframe tbody tr th {\n",
              "        vertical-align: top;\n",
              "    }\n",
              "\n",
              "    .dataframe thead th {\n",
              "        text-align: right;\n",
              "    }\n",
              "</style>\n",
              "<table border=\"1\" class=\"dataframe\">\n",
              "  <thead>\n",
              "    <tr style=\"text-align: right;\">\n",
              "      <th></th>\n",
              "      <th>_col0</th>\n",
              "      <th>_col1</th>\n",
              "    </tr>\n",
              "  </thead>\n",
              "  <tbody>\n",
              "    <tr>\n",
              "      <th>0</th>\n",
              "      <td>1000</td>\n",
              "      <td>1000</td>\n",
              "    </tr>\n",
              "  </tbody>\n",
              "</table>\n",
              "</div>"
            ],
            "text/plain": [
              "   _col0  _col1\n",
              "0   1000   1000"
            ]
          },
          "metadata": {
            "tags": []
          },
          "execution_count": 139
        }
      ]
    },
    {
      "metadata": {
        "id": "0DEL0bMqg9PE",
        "colab_type": "code",
        "outputId": "e252435e-550c-4c81-d1c7-993d0432ea9f",
        "colab": {
          "base_uri": "https://localhost:8080/",
          "height": 77
        }
      },
      "cell_type": "code",
      "source": [
        "td.read_td_query('''\n",
        "select\n",
        "  avg(gross_floor_area_buildings_sq_ft) as average\n",
        "  ,min(gross_floor_area_buildings_sq_ft) as min\n",
        "  ,approx_percentile(gross_floor_area_buildings_sq_ft, 0.25) as pct_25th\n",
        "  ,approx_percentile(gross_floor_area_buildings_sq_ft, 0.50) as pct_50th\n",
        "  ,approx_percentile(gross_floor_area_buildings_sq_ft, 0.75) as pct_75th\n",
        "  ,max(gross_floor_area_buildings_sq_ft) as max\n",
        "from\n",
        "  electricity\n",
        "''', engine=presto)"
      ],
      "execution_count": 0,
      "outputs": [
        {
          "output_type": "execute_result",
          "data": {
            "text/html": [
              "<div>\n",
              "<style scoped>\n",
              "    .dataframe tbody tr th:only-of-type {\n",
              "        vertical-align: middle;\n",
              "    }\n",
              "\n",
              "    .dataframe tbody tr th {\n",
              "        vertical-align: top;\n",
              "    }\n",
              "\n",
              "    .dataframe thead th {\n",
              "        text-align: right;\n",
              "    }\n",
              "</style>\n",
              "<table border=\"1\" class=\"dataframe\">\n",
              "  <thead>\n",
              "    <tr style=\"text-align: right;\">\n",
              "      <th></th>\n",
              "      <th>average</th>\n",
              "      <th>min</th>\n",
              "      <th>pct_25th</th>\n",
              "      <th>pct_50th</th>\n",
              "      <th>pct_75th</th>\n",
              "      <th>max</th>\n",
              "    </tr>\n",
              "  </thead>\n",
              "  <tbody>\n",
              "    <tr>\n",
              "      <th>0</th>\n",
              "      <td>307898.905</td>\n",
              "      <td>50000</td>\n",
              "      <td>79347</td>\n",
              "      <td>145920</td>\n",
              "      <td>325968</td>\n",
              "      <td>9245333</td>\n",
              "    </tr>\n",
              "  </tbody>\n",
              "</table>\n",
              "</div>"
            ],
            "text/plain": [
              "      average    min  pct_25th  pct_50th  pct_75th      max\n",
              "0  307898.905  50000     79347    145920    325968  9245333"
            ]
          },
          "metadata": {
            "tags": []
          },
          "execution_count": 89
        }
      ]
    },
    {
      "metadata": {
        "id": "dYSyq9Xf3cHP",
        "colab_type": "code",
        "outputId": "0650aab0-9a90-40a3-e260-667cbe67900a",
        "colab": {
          "base_uri": "https://localhost:8080/",
          "height": 327
        }
      },
      "cell_type": "code",
      "source": [
        "td.read_td_query('''\n",
        "  select\n",
        "    gross_floor_area_buildings_sq_ft\n",
        "  from\n",
        "    electricity\n",
        "''', engine=presto).hist(bins=20)"
      ],
      "execution_count": 0,
      "outputs": [
        {
          "output_type": "execute_result",
          "data": {
            "text/plain": [
              "array([[<matplotlib.axes._subplots.AxesSubplot object at 0x7ff1446851d0>]],\n",
              "      dtype=object)"
            ]
          },
          "metadata": {
            "tags": []
          },
          "execution_count": 90
        },
        {
          "output_type": "display_data",
          "data": {
            "image/png": "[encoded data removed]",
            "text/plain": [
              "<Figure size 432x288 with 1 Axes>"
            ]
          },
          "metadata": {
            "tags": []
          }
        }
      ]
    },
    {
      "metadata": {
        "id": "86jB84XV5Ox3",
        "colab_type": "text"
      },
      "cell_type": "markdown",
      "source": [
        "This chart show that the most of the data exists aounrd small values, same as the target variable.  \n",
        "So, let's check the correlation using logarithmic converted one."
      ]
    },
    {
      "metadata": {
        "id": "g1ZwZC5M3kQ5",
        "colab_type": "code",
        "outputId": "a83cf3b7-7362-4ed8-9f8e-2f7570b4cb4c",
        "colab": {
          "base_uri": "https://localhost:8080/",
          "height": 334
        }
      },
      "cell_type": "code",
      "source": [
        "td.read_td_query('''\n",
        "  select\n",
        "    ln(electricity_use_kbtu) as electricity_use_kbtu,\n",
        "    ln(gross_floor_area_buildings_sq_ft) as gross_floor_area_buildings_sq_ft\n",
        "  from\n",
        "    electricity\n",
        "''', engine=presto).plot.scatter(x='gross_floor_area_buildings_sq_ft', y='electricity_use_kbtu');"
      ],
      "execution_count": 0,
      "outputs": [
        {
          "output_type": "stream",
          "text": [
            "WARNING:matplotlib.axes._axes:'c' argument looks like a single numeric RGB or RGBA sequence, which should be avoided as value-mapping will have precedence in case its length matches with 'x' & 'y'.  Please use a 2-D array with a single row if you really want to specify the same RGB or RGBA value for all points.\n"
          ],
          "name": "stderr"
        },
        {
          "output_type": "execute_result",
          "data": {
            "text/plain": [
              "<matplotlib.axes._subplots.AxesSubplot at 0x7ff1444f48d0>"
            ]
          },
          "metadata": {
            "tags": []
          },
          "execution_count": 96
        },
        {
          "output_type": "display_data",
          "data": {
            "image/png": "[encoded data removed]",
            "text/plain": [
              "<Figure size 432x288 with 1 Axes>"
            ]
          },
          "metadata": {
            "tags": []
          }
        }
      ]
    },
    {
      "metadata": {
        "id": "m9YqEnvwhD4A",
        "colab_type": "text"
      },
      "cell_type": "markdown",
      "source": [
        "#### ghg_intensity_kg_co2e_sq_ft"
      ]
    },
    {
      "metadata": {
        "id": "KKdNYssLGDcj",
        "colab_type": "text"
      },
      "cell_type": "markdown",
      "source": [
        "Check whether null exists"
      ]
    },
    {
      "metadata": {
        "id": "7KFifzVlGAH5",
        "colab_type": "code",
        "outputId": "f2856070-4138-4c01-f75c-421dbe4db852",
        "colab": {
          "base_uri": "https://localhost:8080/",
          "height": 77
        }
      },
      "cell_type": "code",
      "source": [
        "td.read_td_query('''\n",
        "select\n",
        "  count(ghg_intensity_kg_co2e_sq_ft)\n",
        "  ,count(*)\n",
        "from\n",
        "  electricity\n",
        "''', engine=presto)"
      ],
      "execution_count": 0,
      "outputs": [
        {
          "output_type": "execute_result",
          "data": {
            "text/html": [
              "<div>\n",
              "<style scoped>\n",
              "    .dataframe tbody tr th:only-of-type {\n",
              "        vertical-align: middle;\n",
              "    }\n",
              "\n",
              "    .dataframe tbody tr th {\n",
              "        vertical-align: top;\n",
              "    }\n",
              "\n",
              "    .dataframe thead th {\n",
              "        text-align: right;\n",
              "    }\n",
              "</style>\n",
              "<table border=\"1\" class=\"dataframe\">\n",
              "  <thead>\n",
              "    <tr style=\"text-align: right;\">\n",
              "      <th></th>\n",
              "      <th>_col0</th>\n",
              "      <th>_col1</th>\n",
              "    </tr>\n",
              "  </thead>\n",
              "  <tbody>\n",
              "    <tr>\n",
              "      <th>0</th>\n",
              "      <td>979</td>\n",
              "      <td>1000</td>\n",
              "    </tr>\n",
              "  </tbody>\n",
              "</table>\n",
              "</div>"
            ],
            "text/plain": [
              "   _col0  _col1\n",
              "0    979   1000"
            ]
          },
          "metadata": {
            "tags": []
          },
          "execution_count": 140
        }
      ]
    },
    {
      "metadata": {
        "id": "BeUdvjFcGEWA",
        "colab_type": "text"
      },
      "cell_type": "markdown",
      "source": [
        "21 null values exist."
      ]
    },
    {
      "metadata": {
        "id": "vXUCUBlchO2F",
        "colab_type": "code",
        "outputId": "07559970-5c25-49bd-8a24-b915a87a7c31",
        "colab": {
          "base_uri": "https://localhost:8080/",
          "height": 77
        }
      },
      "cell_type": "code",
      "source": [
        "td.read_td_query('''\n",
        "select\n",
        "  avg(ghg_intensity_kg_co2e_sq_ft) as average\n",
        "  ,min(ghg_intensity_kg_co2e_sq_ft) as min\n",
        "  ,approx_percentile(ghg_intensity_kg_co2e_sq_ft, 0.25) as pct_25th\n",
        "  ,approx_percentile(ghg_intensity_kg_co2e_sq_ft, 0.50) as pct_50th\n",
        "  ,approx_percentile(ghg_intensity_kg_co2e_sq_ft, 0.75) as pct_75th\n",
        "  ,max(ghg_intensity_kg_co2e_sq_ft) as max\n",
        "from\n",
        "  electricity\n",
        "''', engine=presto)"
      ],
      "execution_count": 0,
      "outputs": [
        {
          "output_type": "execute_result",
          "data": {
            "text/html": [
              "<div>\n",
              "<style scoped>\n",
              "    .dataframe tbody tr th:only-of-type {\n",
              "        vertical-align: middle;\n",
              "    }\n",
              "\n",
              "    .dataframe tbody tr th {\n",
              "        vertical-align: top;\n",
              "    }\n",
              "\n",
              "    .dataframe thead th {\n",
              "        text-align: right;\n",
              "    }\n",
              "</style>\n",
              "<table border=\"1\" class=\"dataframe\">\n",
              "  <thead>\n",
              "    <tr style=\"text-align: right;\">\n",
              "      <th></th>\n",
              "      <th>average</th>\n",
              "      <th>min</th>\n",
              "      <th>pct_25th</th>\n",
              "      <th>pct_50th</th>\n",
              "      <th>pct_75th</th>\n",
              "      <th>max</th>\n",
              "    </tr>\n",
              "  </thead>\n",
              "  <tbody>\n",
              "    <tr>\n",
              "      <th>0</th>\n",
              "      <td>11.789683</td>\n",
              "      <td>0.2</td>\n",
              "      <td>6.6</td>\n",
              "      <td>8.8</td>\n",
              "      <td>13.06</td>\n",
              "      <td>309.7</td>\n",
              "    </tr>\n",
              "  </tbody>\n",
              "</table>\n",
              "</div>"
            ],
            "text/plain": [
              "     average  min  pct_25th  pct_50th  pct_75th    max\n",
              "0  11.789683  0.2       6.6       8.8     13.06  309.7"
            ]
          },
          "metadata": {
            "tags": []
          },
          "execution_count": 98
        }
      ]
    },
    {
      "metadata": {
        "id": "Gfn0ycpG6TIh",
        "colab_type": "code",
        "outputId": "fa0bdbfb-7ec8-4aa7-a5fd-001ec544f5b7",
        "colab": {
          "base_uri": "https://localhost:8080/",
          "height": 280
        }
      },
      "cell_type": "code",
      "source": [
        "td.read_td_query('''\n",
        "  select\n",
        "    ghg_intensity_kg_co2e_sq_ft\n",
        "  from\n",
        "    electricity\n",
        "''', engine=presto).hist(bins=20);"
      ],
      "execution_count": 0,
      "outputs": [
        {
          "output_type": "display_data",
          "data": {
            "image/png": "[encoded data removed]",
            "text/plain": [
              "<Figure size 432x288 with 1 Axes>"
            ]
          },
          "metadata": {
            "tags": []
          }
        }
      ]
    },
    {
      "metadata": {
        "id": "7xpxAsmL6b44",
        "colab_type": "code",
        "outputId": "52445adf-2b16-457d-b1da-b71a788062f6",
        "colab": {
          "base_uri": "https://localhost:8080/",
          "height": 316
        }
      },
      "cell_type": "code",
      "source": [
        "td.read_td_query('''\n",
        "  select\n",
        "    ln(electricity_use_kbtu) as electricity_use_kbtu,\n",
        "    ln(ghg_intensity_kg_co2e_sq_ft) as ghg_intensity_kg_co2e_sq_ft\n",
        "  from\n",
        "    electricity\n",
        "''', engine=presto).plot.scatter(x='ghg_intensity_kg_co2e_sq_ft', y='electricity_use_kbtu');"
      ],
      "execution_count": 0,
      "outputs": [
        {
          "output_type": "stream",
          "text": [
            "WARNING:matplotlib.axes._axes:'c' argument looks like a single numeric RGB or RGBA sequence, which should be avoided as value-mapping will have precedence in case its length matches with 'x' & 'y'.  Please use a 2-D array with a single row if you really want to specify the same RGB or RGBA value for all points.\n"
          ],
          "name": "stderr"
        },
        {
          "output_type": "display_data",
          "data": {
            "image/png": "[encoded data removed]",
            "text/plain": [
              "<Figure size 432x288 with 1 Axes>"
            ]
          },
          "metadata": {
            "tags": []
          }
        }
      ]
    },
    {
      "metadata": {
        "id": "vWgCrC0ehP60",
        "colab_type": "text"
      },
      "cell_type": "markdown",
      "source": [
        "### Category features"
      ]
    },
    {
      "metadata": {
        "id": "haQX1H8t7amU",
        "colab_type": "text"
      },
      "cell_type": "markdown",
      "source": [
        "Check the following categorical features.\n",
        "- community_area\n",
        "- primary_property_type"
      ]
    },
    {
      "metadata": {
        "id": "WGH3vgYY7iwo",
        "colab_type": "text"
      },
      "cell_type": "markdown",
      "source": [
        "#### community_area"
      ]
    },
    {
      "metadata": {
        "id": "GCiu9YZ67nTk",
        "colab_type": "code",
        "colab": {}
      },
      "cell_type": "code",
      "source": [
        "d = td.read_td_query('''\n",
        "  select\n",
        "    community_area\n",
        "    ,count(*) as n\n",
        "    ,avg(ln(electricity_use_kbtu)) as electricity_use_kbtu_avg\n",
        "  from\n",
        "    electricity\n",
        "  group by\n",
        "    1\n",
        "''', engine=presto, index_col='community_area').sort_values('n', ascending=False)"
      ],
      "execution_count": 0,
      "outputs": []
    },
    {
      "metadata": {
        "id": "Nk8rETfk74fY",
        "colab_type": "code",
        "outputId": "24a456db-811d-4bc6-8aab-be530a5f49ec",
        "colab": {
          "base_uri": "https://localhost:8080/",
          "height": 412
        }
      },
      "cell_type": "code",
      "source": [
        "fig, ax = plt.subplots(figsize=(15,4))\n",
        "d['n'].plot.bar(ax=ax)\n",
        "_ax = ax.twinx()\n",
        "d['electricity_use_kbtu_avg'].plot(ax=_ax)\n",
        "plt.legend(['num', 'avg_ln_target']);"
      ],
      "execution_count": 0,
      "outputs": [
        {
          "output_type": "display_data",
          "data": {
            "image/png": "[encoded data removed]",
            "text/plain": [
              "<Figure size 1080x288 with 2 Axes>"
            ]
          },
          "metadata": {
            "tags": []
          }
        }
      ]
    },
    {
      "metadata": {
        "id": "XZcUGYKzHuee",
        "colab_type": "text"
      },
      "cell_type": "markdown",
      "source": [
        "Only `NEAR NORTH SIDE`, `LOOP`, `NEAR WEST SIDE` seems to have enough samples.  \n",
        "The rest of values are treated as `others`."
      ]
    },
    {
      "metadata": {
        "id": "PRSYvSjv9TzM",
        "colab_type": "text"
      },
      "cell_type": "markdown",
      "source": [
        "#### primary_property_type"
      ]
    },
    {
      "metadata": {
        "id": "0yNLWSgS9Wfn",
        "colab_type": "code",
        "colab": {}
      },
      "cell_type": "code",
      "source": [
        "d = td.read_td_query('''\n",
        "  select\n",
        "    primary_property_type\n",
        "    ,count(*) as n\n",
        "    ,avg(ln(electricity_use_kbtu)) as electricity_use_kbtu_avg\n",
        "  from\n",
        "    electricity\n",
        "  group by\n",
        "    1\n",
        "''', engine=presto, index_col='primary_property_type').sort_values('n', ascending=False)"
      ],
      "execution_count": 0,
      "outputs": []
    },
    {
      "metadata": {
        "id": "1QytnvXX9aE7",
        "colab_type": "code",
        "outputId": "7a58e49d-343f-4f75-c938-2d067d6855d9",
        "colab": {
          "base_uri": "https://localhost:8080/",
          "height": 483
        }
      },
      "cell_type": "code",
      "source": [
        "fig, ax = plt.subplots(figsize=(15,4))\n",
        "d['n'].plot.bar(ax=ax)\n",
        "_ax = ax.twinx()\n",
        "d['electricity_use_kbtu_avg'].plot(ax=_ax)\n",
        "plt.legend(['num', 'avg_ln_target']);"
      ],
      "execution_count": 0,
      "outputs": [
        {
          "output_type": "display_data",
          "data": {
            "image/png": "[encoded data removed]",
            "text/plain": [
              "<Figure size 1080x288 with 2 Axes>"
            ]
          },
          "metadata": {
            "tags": []
          }
        }
      ]
    },
    {
      "metadata": {
        "id": "nshqfaN5ILfG",
        "colab_type": "text"
      },
      "cell_type": "markdown",
      "source": [
        "Same as above, features expcept for  `Multifamily Housing`, `K-12 School` and `Office` are treated as `others`"
      ]
    },
    {
      "metadata": {
        "id": "5vkat596mXkg",
        "colab_type": "text"
      },
      "cell_type": "markdown",
      "source": [
        "# Machine learning"
      ]
    },
    {
      "metadata": {
        "id": "dT7zVBtXma6y",
        "colab_type": "text"
      },
      "cell_type": "markdown",
      "source": [
        "## Preprocess"
      ]
    },
    {
      "metadata": {
        "id": "Ro5jCdlDKGWU",
        "colab_type": "text"
      },
      "cell_type": "markdown",
      "source": [
        "### Fill and remove null"
      ]
    },
    {
      "metadata": {
        "id": "_IiWpL4Pmp36",
        "colab_type": "text"
      },
      "cell_type": "markdown",
      "source": [
        "Some columns have null values, so they are neccessary to fill with some values.  \n",
        "In this tutrial, we use average values for each columns with null.  \n",
        "\n",
        "Also, the target value, `electricity_use_kbtu` has some null values,  so they are necessary to remove."
      ]
    },
    {
      "metadata": {
        "id": "bnbboZAnJI67",
        "colab_type": "code",
        "colab": {}
      },
      "cell_type": "code",
      "source": [
        "recreate_table(c, 'electricity_fillna_with_avg')"
      ],
      "execution_count": 0,
      "outputs": []
    },
    {
      "metadata": {
        "id": "sgXw4iTytJ8p",
        "colab_type": "code",
        "outputId": "f916496b-969b-41a9-edd7-69b0dde385dd",
        "colab": {
          "base_uri": "https://localhost:8080/",
          "height": 77
        }
      },
      "cell_type": "code",
      "source": [
        "td.read_td_query('''\n",
        "insert into electricity_fillna_with_avg\n",
        "\n",
        "with averages as (\n",
        "  select\n",
        "    avg(energy_star_score) as avg_energy_star_score\n",
        "    ,avg(ln(ghg_intensity_kg_co2e_sq_ft)) as avg_ghg_intensity_kg_co2e_sq_ft\n",
        "  from\n",
        "    electricity\n",
        ")\n",
        "\n",
        "select\n",
        "  id\n",
        "  ,ln(electricity_use_kbtu) as electricity_use_kbtu\n",
        "  ,data_year - year_built as age\n",
        "  ,coalesce(energy_star_score, avg_energy_star_score) as energy_star_score\n",
        "  ,ln(gross_floor_area_buildings_sq_ft) as gross_floor_area_buildings_sq_ft\n",
        "  ,coalesce(ln(ghg_intensity_kg_co2e_sq_ft), avg_ghg_intensity_kg_co2e_sq_ft) as ghg_intensity_kg_co2e_sq_ft\n",
        "  ,case when community_area in ('NEAR NORTH SIDE', 'LOOP', 'NEAR WEST SIDE') then community_area else 'others' end as community_area\n",
        "  ,case when primary_property_type in ('Multifamily Housing', 'K-12 School', 'Office') then primary_property_type else 'others' end as primary_property_type\n",
        "from\n",
        "  electricity\n",
        "  full outer join\n",
        "  averages\n",
        "  on 1=1\n",
        "where\n",
        "  electricity_use_kbtu is not null\n",
        "''', engine=presto)"
      ],
      "execution_count": 0,
      "outputs": [
        {
          "output_type": "execute_result",
          "data": {
            "text/html": [
              "<div>\n",
              "<style scoped>\n",
              "    .dataframe tbody tr th:only-of-type {\n",
              "        vertical-align: middle;\n",
              "    }\n",
              "\n",
              "    .dataframe tbody tr th {\n",
              "        vertical-align: top;\n",
              "    }\n",
              "\n",
              "    .dataframe thead th {\n",
              "        text-align: right;\n",
              "    }\n",
              "</style>\n",
              "<table border=\"1\" class=\"dataframe\">\n",
              "  <thead>\n",
              "    <tr style=\"text-align: right;\">\n",
              "      <th></th>\n",
              "      <th>rows</th>\n",
              "    </tr>\n",
              "  </thead>\n",
              "  <tbody>\n",
              "    <tr>\n",
              "      <th>0</th>\n",
              "      <td>990</td>\n",
              "    </tr>\n",
              "  </tbody>\n",
              "</table>\n",
              "</div>"
            ],
            "text/plain": [
              "   rows\n",
              "0   990"
            ]
          },
          "metadata": {
            "tags": []
          },
          "execution_count": 18
        }
      ]
    },
    {
      "metadata": {
        "id": "c5g7tgMZCYGT",
        "colab_type": "text"
      },
      "cell_type": "markdown",
      "source": [
        "Check the created table"
      ]
    },
    {
      "metadata": {
        "id": "olH2EV5L473t",
        "colab_type": "code",
        "outputId": "703c6ca8-ca32-44f2-c95b-c6b3e373e056",
        "colab": {
          "base_uri": "https://localhost:8080/",
          "height": 144
        }
      },
      "cell_type": "code",
      "source": [
        "td.read_td_query('''\n",
        "select\n",
        "  *\n",
        "from\n",
        "  electricity_fillna_with_avg\n",
        "limit 2\n",
        "''', engine=presto)"
      ],
      "execution_count": 0,
      "outputs": [
        {
          "output_type": "execute_result",
          "data": {
            "text/html": [
              "<div>\n",
              "<style scoped>\n",
              "    .dataframe tbody tr th:only-of-type {\n",
              "        vertical-align: middle;\n",
              "    }\n",
              "\n",
              "    .dataframe tbody tr th {\n",
              "        vertical-align: top;\n",
              "    }\n",
              "\n",
              "    .dataframe thead th {\n",
              "        text-align: right;\n",
              "    }\n",
              "</style>\n",
              "<table border=\"1\" class=\"dataframe\">\n",
              "  <thead>\n",
              "    <tr style=\"text-align: right;\">\n",
              "      <th></th>\n",
              "      <th>id</th>\n",
              "      <th>electricity_use_kbtu</th>\n",
              "      <th>age</th>\n",
              "      <th>energy_star_score</th>\n",
              "      <th>gross_floor_area_buildings_sq_ft</th>\n",
              "      <th>ghg_intensity_kg_co2e_sq_ft</th>\n",
              "      <th>community_area</th>\n",
              "      <th>primary_property_type</th>\n",
              "      <th>time</th>\n",
              "    </tr>\n",
              "  </thead>\n",
              "  <tbody>\n",
              "    <tr>\n",
              "      <th>0</th>\n",
              "      <td>252053</td>\n",
              "      <td>14.925452</td>\n",
              "      <td>121</td>\n",
              "      <td>58.352871</td>\n",
              "      <td>10.999446</td>\n",
              "      <td>3.210844</td>\n",
              "      <td>others</td>\n",
              "      <td>others</td>\n",
              "      <td>1555551583</td>\n",
              "    </tr>\n",
              "    <tr>\n",
              "      <th>1</th>\n",
              "      <td>175475</td>\n",
              "      <td>14.334144</td>\n",
              "      <td>88</td>\n",
              "      <td>76.000000</td>\n",
              "      <td>11.129466</td>\n",
              "      <td>2.066863</td>\n",
              "      <td>NEAR WEST SIDE</td>\n",
              "      <td>Office</td>\n",
              "      <td>1555551583</td>\n",
              "    </tr>\n",
              "  </tbody>\n",
              "</table>\n",
              "</div>"
            ],
            "text/plain": [
              "       id  electricity_use_kbtu  age  energy_star_score  \\\n",
              "0  252053             14.925452  121          58.352871   \n",
              "1  175475             14.334144   88          76.000000   \n",
              "\n",
              "   gross_floor_area_buildings_sq_ft  ghg_intensity_kg_co2e_sq_ft  \\\n",
              "0                         10.999446                     3.210844   \n",
              "1                         11.129466                     2.066863   \n",
              "\n",
              "   community_area primary_property_type        time  \n",
              "0          others                others  1555551583  \n",
              "1  NEAR WEST SIDE                Office  1555551583  "
            ]
          },
          "metadata": {
            "tags": []
          },
          "execution_count": 19
        }
      ]
    },
    {
      "metadata": {
        "id": "srJ1LQ5cNng_",
        "colab_type": "text"
      },
      "cell_type": "markdown",
      "source": [
        "### Rescale quantitative features\n",
        "Rescaling quantitative features is one of basic approaches to improve accuracy."
      ]
    },
    {
      "metadata": {
        "id": "4P_HN2zENsP3",
        "colab_type": "code",
        "colab": {}
      },
      "cell_type": "code",
      "source": [
        "recreate_table(c, 'electricity_rescaled_features')"
      ],
      "execution_count": 0,
      "outputs": []
    },
    {
      "metadata": {
        "id": "Rj1cStIJETMp",
        "colab_type": "code",
        "colab": {}
      },
      "cell_type": "code",
      "source": [
        "td.read_td_query('''\n",
        "  with stats as (\n",
        "    select\n",
        "      avg(age) as age_avg\n",
        "      ,stddev(age) as age_stddev\n",
        "      ,avg(energy_star_score) as energy_star_score_avg\n",
        "      ,stddev(energy_star_score) as energy_star_score_stddev\n",
        "      ,avg(gross_floor_area_buildings_sq_ft) as gross_floor_area_buildings_sq_ft_avg\n",
        "      ,stddev(gross_floor_area_buildings_sq_ft) as gross_floor_area_buildings_sq_ft_stddev\n",
        "      ,avg(ghg_intensity_kg_co2e_sq_ft) as ghg_intensity_kg_co2e_sq_ft_avg\n",
        "      ,stddev(ghg_intensity_kg_co2e_sq_ft) as ghg_intensity_kg_co2e_sq_ft_stddev\n",
        "    from\n",
        "      electricity_fillna_with_avg\n",
        "  )\n",
        "\n",
        "  insert into table electricity_rescaled_features\n",
        "  select\n",
        "    id\n",
        "    ,electricity_use_kbtu\n",
        "    ,zscore(age, age_avg, age_stddev) as age\n",
        "    ,zscore(energy_star_score, energy_star_score_avg, energy_star_score_stddev) as energy_star_score\n",
        "    ,zscore(gross_floor_area_buildings_sq_ft, gross_floor_area_buildings_sq_ft_avg, gross_floor_area_buildings_sq_ft_stddev) as gross_floor_area_buildings_sq_ft\n",
        "    ,zscore(ghg_intensity_kg_co2e_sq_ft, ghg_intensity_kg_co2e_sq_ft_avg, ghg_intensity_kg_co2e_sq_ft_stddev) as ghg_intensity_kg_co2e_sq_ft\n",
        "    ,community_area\n",
        "    ,primary_property_type\n",
        "  from\n",
        "    electricity_fillna_with_avg\n",
        "    full outer join\n",
        "    stats\n",
        "    on 1=1\n",
        "''', engine=hive);"
      ],
      "execution_count": 0,
      "outputs": []
    },
    {
      "metadata": {
        "id": "K3fIkrl8LOSE",
        "colab_type": "text"
      },
      "cell_type": "markdown",
      "source": [
        "### Convert Hivemall format"
      ]
    },
    {
      "metadata": {
        "id": "PtxWmppeUL_a",
        "colab_type": "text"
      },
      "cell_type": "markdown",
      "source": [
        "Aggregate features into an array column ( `features` ).  \n",
        "Quantitative features and categorical ones are necessary to be preprocess separately as below.\n",
        "\n",
        "Also, data should be splitted into training data and test data in order to prevent overfitting.  \n",
        "Here, the ratio of training data and test data are put 80% and 20% respectively."
      ]
    },
    {
      "metadata": {
        "id": "grvITmWjMgyX",
        "colab_type": "code",
        "colab": {}
      },
      "cell_type": "code",
      "source": [
        "recreate_table(c, 'electricity_train')"
      ],
      "execution_count": 0,
      "outputs": []
    },
    {
      "metadata": {
        "id": "-DeP2fwALVIf",
        "colab_type": "code",
        "colab": {}
      },
      "cell_type": "code",
      "source": [
        "td.read_td_query('''\n",
        "  insert into table electricity_train \n",
        "  select\n",
        "    id\n",
        "    ,case when rand() < 0.8 then 0 else 1 end as is_test\n",
        "    ,electricity_use_kbtu\n",
        "    ,array_concat(\n",
        "        quantitative_features(array('age', 'energy_star_score', 'gross_floor_area_buildings_sq_ft', 'ghg_intensity_kg_co2e_sq_ft'),\n",
        "          age, energy_star_score, gross_floor_area_buildings_sq_ft, ghg_intensity_kg_co2e_sq_ft)\n",
        "        ,categorical_features(array('community_area', 'primary_property_type'), \n",
        "          community_area, primary_property_type) \n",
        "    ) as features\n",
        "    ,quantitative_features(array('age', 'energy_star_score', 'gross_floor_area_buildings_sq_ft', 'ghg_intensity_kg_co2e_sq_ft'),\n",
        "      age, energy_star_score, gross_floor_area_buildings_sq_ft, ghg_intensity_kg_co2e_sq_ft) as quantitative_features\n",
        "    ,categorical_features(array('community_area', 'primary_property_type'), \n",
        "      community_area, primary_property_type) as categorical_features\n",
        "  from\n",
        "    electricity_rescaled_features\n",
        "''', engine=hive);"
      ],
      "execution_count": 0,
      "outputs": []
    },
    {
      "metadata": {
        "id": "qg1LcigzUtSL",
        "colab_type": "text"
      },
      "cell_type": "markdown",
      "source": [
        "Check the created table."
      ]
    },
    {
      "metadata": {
        "id": "8XQ5udiAUu3T",
        "colab_type": "code",
        "outputId": "6180cfbd-1f8e-43e4-bfc1-9cad7e7368b6",
        "colab": {
          "base_uri": "https://localhost:8080/",
          "height": 141
        }
      },
      "cell_type": "code",
      "source": [
        "td.read_td_query('''\n",
        "  select\n",
        "    *\n",
        "  from\n",
        "    electricity_train\n",
        "  limit 2\n",
        "''', engine=presto)"
      ],
      "execution_count": 0,
      "outputs": [
        {
          "output_type": "execute_result",
          "data": {
            "text/html": [
              "<div>\n",
              "<style scoped>\n",
              "    .dataframe tbody tr th:only-of-type {\n",
              "        vertical-align: middle;\n",
              "    }\n",
              "\n",
              "    .dataframe tbody tr th {\n",
              "        vertical-align: top;\n",
              "    }\n",
              "\n",
              "    .dataframe thead th {\n",
              "        text-align: right;\n",
              "    }\n",
              "</style>\n",
              "<table border=\"1\" class=\"dataframe\">\n",
              "  <thead>\n",
              "    <tr style=\"text-align: right;\">\n",
              "      <th></th>\n",
              "      <th>id</th>\n",
              "      <th>is_test</th>\n",
              "      <th>electricity_use_kbtu</th>\n",
              "      <th>features</th>\n",
              "      <th>quantitative_features</th>\n",
              "      <th>categorical_features</th>\n",
              "      <th>time</th>\n",
              "    </tr>\n",
              "  </thead>\n",
              "  <tbody>\n",
              "    <tr>\n",
              "      <th>0</th>\n",
              "      <td>160347</td>\n",
              "      <td>0</td>\n",
              "      <td>16.135262</td>\n",
              "      <td>[age:-1.1577204465866089, energy_star_score:-0...</td>\n",
              "      <td>[age:-1.1577204465866089, energy_star_score:-0...</td>\n",
              "      <td>[community_area#LOOP, primary_property_type#Mu...</td>\n",
              "      <td>1555553524</td>\n",
              "    </tr>\n",
              "    <tr>\n",
              "      <th>1</th>\n",
              "      <td>251996</td>\n",
              "      <td>0</td>\n",
              "      <td>15.834571</td>\n",
              "      <td>[age:-1.103179931640625, energy_star_score:1.5...</td>\n",
              "      <td>[age:-1.103179931640625, energy_star_score:1.5...</td>\n",
              "      <td>[community_area#others, primary_property_type#...</td>\n",
              "      <td>1555553524</td>\n",
              "    </tr>\n",
              "  </tbody>\n",
              "</table>\n",
              "</div>"
            ],
            "text/plain": [
              "       id  is_test  electricity_use_kbtu  \\\n",
              "0  160347        0             16.135262   \n",
              "1  251996        0             15.834571   \n",
              "\n",
              "                                            features  \\\n",
              "0  [age:-1.1577204465866089, energy_star_score:-0...   \n",
              "1  [age:-1.103179931640625, energy_star_score:1.5...   \n",
              "\n",
              "                               quantitative_features  \\\n",
              "0  [age:-1.1577204465866089, energy_star_score:-0...   \n",
              "1  [age:-1.103179931640625, energy_star_score:1.5...   \n",
              "\n",
              "                                categorical_features        time  \n",
              "0  [community_area#LOOP, primary_property_type#Mu...  1555553524  \n",
              "1  [community_area#others, primary_property_type#...  1555553524  "
            ]
          },
          "metadata": {
            "tags": []
          },
          "execution_count": 30
        }
      ]
    },
    {
      "metadata": {
        "id": "pw4h8pj3Ux4m",
        "colab_type": "text"
      },
      "cell_type": "markdown",
      "source": [
        "Aside from this, check the records of training data and test data."
      ]
    },
    {
      "metadata": {
        "id": "z3-1pwGDT-Jz",
        "colab_type": "code",
        "outputId": "d46e9569-39cd-4092-9bd3-bb0d01042415",
        "colab": {
          "base_uri": "https://localhost:8080/",
          "height": 107
        }
      },
      "cell_type": "code",
      "source": [
        "td.read_td_query('''\n",
        "  select\n",
        "    is_test\n",
        "    ,count(*) as n\n",
        "  from\n",
        "    electricity_train\n",
        "  group by\n",
        "    1\n",
        "''', engine=presto)"
      ],
      "execution_count": 0,
      "outputs": [
        {
          "output_type": "execute_result",
          "data": {
            "text/html": [
              "<div>\n",
              "<style scoped>\n",
              "    .dataframe tbody tr th:only-of-type {\n",
              "        vertical-align: middle;\n",
              "    }\n",
              "\n",
              "    .dataframe tbody tr th {\n",
              "        vertical-align: top;\n",
              "    }\n",
              "\n",
              "    .dataframe thead th {\n",
              "        text-align: right;\n",
              "    }\n",
              "</style>\n",
              "<table border=\"1\" class=\"dataframe\">\n",
              "  <thead>\n",
              "    <tr style=\"text-align: right;\">\n",
              "      <th></th>\n",
              "      <th>is_test</th>\n",
              "      <th>n</th>\n",
              "    </tr>\n",
              "  </thead>\n",
              "  <tbody>\n",
              "    <tr>\n",
              "      <th>0</th>\n",
              "      <td>1</td>\n",
              "      <td>189</td>\n",
              "    </tr>\n",
              "    <tr>\n",
              "      <th>1</th>\n",
              "      <td>0</td>\n",
              "      <td>801</td>\n",
              "    </tr>\n",
              "  </tbody>\n",
              "</table>\n",
              "</div>"
            ],
            "text/plain": [
              "   is_test    n\n",
              "0        1  189\n",
              "1        0  801"
            ]
          },
          "metadata": {
            "tags": []
          },
          "execution_count": 29
        }
      ]
    },
    {
      "metadata": {
        "id": "URR01cCZ8WD0",
        "colab_type": "text"
      },
      "cell_type": "markdown",
      "source": [
        "## Build a logistic regression model"
      ]
    },
    {
      "metadata": {
        "id": "a5edAAEC8lD7",
        "colab_type": "code",
        "colab": {}
      },
      "cell_type": "code",
      "source": [
        "recreate_table(c, 'electricity_model')"
      ],
      "execution_count": 0,
      "outputs": []
    },
    {
      "metadata": {
        "id": "tIYwnZA8-Eb5",
        "colab_type": "code",
        "outputId": "f340b0d0-6bb8-439e-b56c-c5267f2c2cd4",
        "colab": {
          "base_uri": "https://localhost:8080/",
          "height": 102
        }
      },
      "cell_type": "code",
      "source": [
        "td.read_td_query('''\n",
        "insert overwrite table electricity_model\n",
        "select\n",
        "  train_regressor(\n",
        "    add_bias(features), electricity_use_kbtu, \n",
        "    '-loss squaredloss -opt AdamHD -reg l2'\n",
        "  ) as (feature,weight)\n",
        "from\n",
        "  electricity_train\n",
        "where\n",
        "  is_test = 0\n",
        "''', engine=hive);"
      ],
      "execution_count": 0,
      "outputs": [
        {
          "output_type": "display_data",
          "data": {
            "text/html": [
              "<div style=\"border-style: dashed; border-width: 1px;\">\n",
              "<div style=\"color: #888;\"># issued at 2019-04-18T03:10:46Z</div>URL: <a href=\"https://console.treasuredata.com/app/jobs/452463582\" target=\"_blank\">https://console.treasuredata.com/app/jobs/452463582</a><br>\n",
              "Result size: 20 bytes<br>\n",
              "Download: 20 / 20 bytes (100.00%)<br>\n",
              "<div style=\"color: #888;\"># downloaded at 2019-04-18T03:11:21Z</div></div>\n"
            ],
            "text/plain": [
              "<IPython.core.display.HTML object>"
            ]
          },
          "metadata": {
            "tags": []
          }
        }
      ]
    },
    {
      "metadata": {
        "id": "J1m7RrF6C59j",
        "colab_type": "text"
      },
      "cell_type": "markdown",
      "source": [
        "Check the result in reverse order of weights."
      ]
    },
    {
      "metadata": {
        "id": "V6k8bU3oBEe-",
        "colab_type": "code",
        "outputId": "f1f9b3a6-0fb6-4726-a7a5-2820ae8e7388",
        "colab": {
          "base_uri": "https://localhost:8080/",
          "height": 437
        }
      },
      "cell_type": "code",
      "source": [
        "td.read_td_query('''\n",
        "select\n",
        "  feature, weight\n",
        "from\n",
        "  electricity_model\n",
        "order by\n",
        "  weight desc\n",
        "''', engine=presto)"
      ],
      "execution_count": 0,
      "outputs": [
        {
          "output_type": "execute_result",
          "data": {
            "text/html": [
              "<div>\n",
              "<style scoped>\n",
              "    .dataframe tbody tr th:only-of-type {\n",
              "        vertical-align: middle;\n",
              "    }\n",
              "\n",
              "    .dataframe tbody tr th {\n",
              "        vertical-align: top;\n",
              "    }\n",
              "\n",
              "    .dataframe thead th {\n",
              "        text-align: right;\n",
              "    }\n",
              "</style>\n",
              "<table border=\"1\" class=\"dataframe\">\n",
              "  <thead>\n",
              "    <tr style=\"text-align: right;\">\n",
              "      <th></th>\n",
              "      <th>feature</th>\n",
              "      <th>weight</th>\n",
              "    </tr>\n",
              "  </thead>\n",
              "  <tbody>\n",
              "    <tr>\n",
              "      <th>0</th>\n",
              "      <td>0</td>\n",
              "      <td>8.012382</td>\n",
              "    </tr>\n",
              "    <tr>\n",
              "      <th>1</th>\n",
              "      <td>primary_property_type#Office</td>\n",
              "      <td>3.967558</td>\n",
              "    </tr>\n",
              "    <tr>\n",
              "      <th>2</th>\n",
              "      <td>community_area#LOOP</td>\n",
              "      <td>3.874713</td>\n",
              "    </tr>\n",
              "    <tr>\n",
              "      <th>3</th>\n",
              "      <td>community_area#NEAR WEST SIDE</td>\n",
              "      <td>3.872687</td>\n",
              "    </tr>\n",
              "    <tr>\n",
              "      <th>4</th>\n",
              "      <td>community_area#NEAR NORTH SIDE</td>\n",
              "      <td>3.852142</td>\n",
              "    </tr>\n",
              "    <tr>\n",
              "      <th>5</th>\n",
              "      <td>primary_property_type#others</td>\n",
              "      <td>3.804410</td>\n",
              "    </tr>\n",
              "    <tr>\n",
              "      <th>6</th>\n",
              "      <td>primary_property_type#K-12 School</td>\n",
              "      <td>3.749833</td>\n",
              "    </tr>\n",
              "    <tr>\n",
              "      <th>7</th>\n",
              "      <td>community_area#others</td>\n",
              "      <td>3.671014</td>\n",
              "    </tr>\n",
              "    <tr>\n",
              "      <th>8</th>\n",
              "      <td>primary_property_type#Multifamily Housing</td>\n",
              "      <td>3.508818</td>\n",
              "    </tr>\n",
              "    <tr>\n",
              "      <th>9</th>\n",
              "      <td>gross_floor_area_buildings_sq_ft</td>\n",
              "      <td>1.010666</td>\n",
              "    </tr>\n",
              "    <tr>\n",
              "      <th>10</th>\n",
              "      <td>ghg_intensity_kg_co2e_sq_ft</td>\n",
              "      <td>0.387682</td>\n",
              "    </tr>\n",
              "    <tr>\n",
              "      <th>11</th>\n",
              "      <td>age</td>\n",
              "      <td>-0.049821</td>\n",
              "    </tr>\n",
              "    <tr>\n",
              "      <th>12</th>\n",
              "      <td>energy_star_score</td>\n",
              "      <td>-0.067964</td>\n",
              "    </tr>\n",
              "  </tbody>\n",
              "</table>\n",
              "</div>"
            ],
            "text/plain": [
              "                                      feature    weight\n",
              "0                                           0  8.012382\n",
              "1                primary_property_type#Office  3.967558\n",
              "2                         community_area#LOOP  3.874713\n",
              "3               community_area#NEAR WEST SIDE  3.872687\n",
              "4              community_area#NEAR NORTH SIDE  3.852142\n",
              "5                primary_property_type#others  3.804410\n",
              "6           primary_property_type#K-12 School  3.749833\n",
              "7                       community_area#others  3.671014\n",
              "8   primary_property_type#Multifamily Housing  3.508818\n",
              "9            gross_floor_area_buildings_sq_ft  1.010666\n",
              "10                ghg_intensity_kg_co2e_sq_ft  0.387682\n",
              "11                                        age -0.049821\n",
              "12                          energy_star_score -0.067964"
            ]
          },
          "metadata": {
            "tags": []
          },
          "execution_count": 37
        }
      ]
    },
    {
      "metadata": {
        "id": "LcBzsBmpBity",
        "colab_type": "text"
      },
      "cell_type": "markdown",
      "source": [
        "## Prediction"
      ]
    },
    {
      "metadata": {
        "id": "_MCm5BgHFg6F",
        "colab_type": "code",
        "colab": {}
      },
      "cell_type": "code",
      "source": [
        "recreate_table(c, 'electricity_predicted')"
      ],
      "execution_count": 0,
      "outputs": []
    },
    {
      "metadata": {
        "id": "kI8gQpFWHNWj",
        "colab_type": "code",
        "outputId": "73c5c228-30e9-4ce8-bcd4-665b826478a4",
        "colab": {
          "base_uri": "https://localhost:8080/",
          "height": 102
        }
      },
      "cell_type": "code",
      "source": [
        "td.read_td_query('''\n",
        "with parsed as (\n",
        "  select\n",
        "    id\n",
        "    ,is_test\n",
        "    ,electricity_use_kbtu\n",
        "    ,extract_feature(feature) as feature\n",
        "    ,extract_weight(feature) as value\n",
        "  from\n",
        "    electricity_train\n",
        "  lateral view\n",
        "    explode(add_bias(features)) t as feature\n",
        ")\n",
        "\n",
        "insert overwrite table electricity_predicted\n",
        "select\n",
        "  id\n",
        "  ,is_test\n",
        "  ,electricity_use_kbtu\n",
        "  ,sum(value * weight) as pred\n",
        "from\n",
        "  parsed\n",
        "  inner join\n",
        "  electricity_model model\n",
        "  on\n",
        "    parsed.feature = model.feature\n",
        "group by\n",
        "  1,2,3\n",
        "''', engine=hive);"
      ],
      "execution_count": 0,
      "outputs": [
        {
          "output_type": "display_data",
          "data": {
            "text/html": [
              "<div style=\"border-style: dashed; border-width: 1px;\">\n",
              "<div style=\"color: #888;\"># issued at 2019-04-18T03:11:22Z</div>URL: <a href=\"https://console.treasuredata.com/app/jobs/452463983\" target=\"_blank\">https://console.treasuredata.com/app/jobs/452463983</a><br>\n",
              "Result size: 20 bytes<br>\n",
              "Download: 20 / 20 bytes (100.00%)<br>\n",
              "<div style=\"color: #888;\"># downloaded at 2019-04-18T03:13:35Z</div></div>\n"
            ],
            "text/plain": [
              "<IPython.core.display.HTML object>"
            ]
          },
          "metadata": {
            "tags": []
          }
        }
      ]
    },
    {
      "metadata": {
        "id": "MBTsS3FoZ-Rf",
        "colab_type": "text"
      },
      "cell_type": "markdown",
      "source": [
        "Check the created table."
      ]
    },
    {
      "metadata": {
        "id": "MLAvljg-aBAC",
        "colab_type": "code",
        "outputId": "91d13321-1969-4734-f399-8277285e7675",
        "colab": {
          "base_uri": "https://localhost:8080/",
          "height": 197
        }
      },
      "cell_type": "code",
      "source": [
        "td.read_td_query('''\n",
        "select\n",
        "  *\n",
        "from\n",
        "  electricity_predicted\n",
        "limit 5\n",
        "''', engine=presto)"
      ],
      "execution_count": 0,
      "outputs": [
        {
          "output_type": "execute_result",
          "data": {
            "text/html": [
              "<div>\n",
              "<style scoped>\n",
              "    .dataframe tbody tr th:only-of-type {\n",
              "        vertical-align: middle;\n",
              "    }\n",
              "\n",
              "    .dataframe tbody tr th {\n",
              "        vertical-align: top;\n",
              "    }\n",
              "\n",
              "    .dataframe thead th {\n",
              "        text-align: right;\n",
              "    }\n",
              "</style>\n",
              "<table border=\"1\" class=\"dataframe\">\n",
              "  <thead>\n",
              "    <tr style=\"text-align: right;\">\n",
              "      <th></th>\n",
              "      <th>id</th>\n",
              "      <th>is_test</th>\n",
              "      <th>electricity_use_kbtu</th>\n",
              "      <th>pred</th>\n",
              "      <th>time</th>\n",
              "    </tr>\n",
              "  </thead>\n",
              "  <tbody>\n",
              "    <tr>\n",
              "      <th>0</th>\n",
              "      <td>100068</td>\n",
              "      <td>0</td>\n",
              "      <td>15.724874</td>\n",
              "      <td>15.321088</td>\n",
              "      <td>1555556830</td>\n",
              "    </tr>\n",
              "    <tr>\n",
              "      <th>1</th>\n",
              "      <td>100252</td>\n",
              "      <td>1</td>\n",
              "      <td>14.288557</td>\n",
              "      <td>13.732631</td>\n",
              "      <td>1555556830</td>\n",
              "    </tr>\n",
              "    <tr>\n",
              "      <th>2</th>\n",
              "      <td>100256</td>\n",
              "      <td>0</td>\n",
              "      <td>17.156712</td>\n",
              "      <td>16.735895</td>\n",
              "      <td>1555556830</td>\n",
              "    </tr>\n",
              "    <tr>\n",
              "      <th>3</th>\n",
              "      <td>100256</td>\n",
              "      <td>0</td>\n",
              "      <td>17.393256</td>\n",
              "      <td>16.932497</td>\n",
              "      <td>1555556830</td>\n",
              "    </tr>\n",
              "    <tr>\n",
              "      <th>4</th>\n",
              "      <td>100317</td>\n",
              "      <td>0</td>\n",
              "      <td>13.213417</td>\n",
              "      <td>13.831594</td>\n",
              "      <td>1555556830</td>\n",
              "    </tr>\n",
              "  </tbody>\n",
              "</table>\n",
              "</div>"
            ],
            "text/plain": [
              "       id  is_test  electricity_use_kbtu       pred        time\n",
              "0  100068        0             15.724874  15.321088  1555556830\n",
              "1  100252        1             14.288557  13.732631  1555556830\n",
              "2  100256        0             17.156712  16.735895  1555556830\n",
              "3  100256        0             17.393256  16.932497  1555556830\n",
              "4  100317        0             13.213417  13.831594  1555556830"
            ]
          },
          "metadata": {
            "tags": []
          },
          "execution_count": 42
        }
      ]
    },
    {
      "metadata": {
        "id": "iWaqk4_GXelP",
        "colab_type": "text"
      },
      "cell_type": "markdown",
      "source": [
        "## Evaluation"
      ]
    },
    {
      "metadata": {
        "id": "8ifX_hZWU4yZ",
        "colab_type": "text"
      },
      "cell_type": "markdown",
      "source": [
        "When handling regression tasks, MSE or RMSE is often used for evaluation.  Let's calculate these values.  \n",
        "  \n",
        "**Note:**   \n",
        "When building a model, the logarithmic transformation was applied for the target variable.  So, exponentail transformation should be applied for both the target variable and predicted values."
      ]
    },
    {
      "metadata": {
        "id": "xAVmnpQpiZkX",
        "colab_type": "code",
        "outputId": "bb6ec36e-2a0a-478c-8b7a-76c5d5ca7794",
        "colab": {
          "base_uri": "https://localhost:8080/",
          "height": 107
        }
      },
      "cell_type": "code",
      "source": [
        "td.read_td_query('''\n",
        "select\n",
        "  is_test\n",
        "  ,mse(exp(electricity_use_kbtu), exp(pred)) as mse_logarithmic_scale\n",
        "  ,rmse(exp(electricity_use_kbtu), exp(pred)) as rmse_logarithmic_scale\n",
        "  ,mse(electricity_use_kbtu, pred) as mse_original_scale\n",
        "  ,rmse(electricity_use_kbtu, pred) as rmse_original_scale\n",
        "from\n",
        "  electricity_predicted\n",
        "group by\n",
        "  1\n",
        "''', engine=hive)"
      ],
      "execution_count": 0,
      "outputs": [
        {
          "output_type": "execute_result",
          "data": {
            "text/html": [
              "<div>\n",
              "<style scoped>\n",
              "    .dataframe tbody tr th:only-of-type {\n",
              "        vertical-align: middle;\n",
              "    }\n",
              "\n",
              "    .dataframe tbody tr th {\n",
              "        vertical-align: top;\n",
              "    }\n",
              "\n",
              "    .dataframe thead th {\n",
              "        text-align: right;\n",
              "    }\n",
              "</style>\n",
              "<table border=\"1\" class=\"dataframe\">\n",
              "  <thead>\n",
              "    <tr style=\"text-align: right;\">\n",
              "      <th></th>\n",
              "      <th>is_test</th>\n",
              "      <th>mse_logarithmic_scale</th>\n",
              "      <th>rmse_logarithmic_scale</th>\n",
              "      <th>mse_original_scale</th>\n",
              "      <th>rmse_original_scale</th>\n",
              "    </tr>\n",
              "  </thead>\n",
              "  <tbody>\n",
              "    <tr>\n",
              "      <th>0</th>\n",
              "      <td>0</td>\n",
              "      <td>6.110162e+13</td>\n",
              "      <td>7.816752e+06</td>\n",
              "      <td>0.268329</td>\n",
              "      <td>0.518005</td>\n",
              "    </tr>\n",
              "    <tr>\n",
              "      <th>1</th>\n",
              "      <td>1</td>\n",
              "      <td>3.629974e+13</td>\n",
              "      <td>6.024927e+06</td>\n",
              "      <td>0.274002</td>\n",
              "      <td>0.523452</td>\n",
              "    </tr>\n",
              "  </tbody>\n",
              "</table>\n",
              "</div>"
            ],
            "text/plain": [
              "   is_test  mse_logarithmic_scale  rmse_logarithmic_scale  mse_original_scale  \\\n",
              "0        0           6.110162e+13            7.816752e+06            0.268329   \n",
              "1        1           3.629974e+13            6.024927e+06            0.274002   \n",
              "\n",
              "   rmse_original_scale  \n",
              "0             0.518005  \n",
              "1             0.523452  "
            ]
          },
          "metadata": {
            "tags": []
          },
          "execution_count": 104
        }
      ]
    },
    {
      "metadata": {
        "id": "P-Bmn_GTwhWy",
        "colab_type": "text"
      },
      "cell_type": "markdown",
      "source": [
        "When evaluating,  you should scatter plot of target values and predicted values."
      ]
    },
    {
      "metadata": {
        "id": "cMS0flBKwtCv",
        "colab_type": "text"
      },
      "cell_type": "markdown",
      "source": [
        "#### Logarithmic Scale"
      ]
    },
    {
      "metadata": {
        "id": "rDIPuihrXp_J",
        "colab_type": "code",
        "outputId": "7f1f2474-f5e1-473e-dcf4-d824e77def1c",
        "colab": {
          "base_uri": "https://localhost:8080/",
          "height": 332
        }
      },
      "cell_type": "code",
      "source": [
        "# Get min and max\n",
        "df_min_max = td.read_td_query('''\n",
        "select\n",
        "  least(min(electricity_use_kbtu), min(pred)) as min\n",
        "  ,greatest(max(electricity_use_kbtu), max(pred)) as max\n",
        "from\n",
        "  electricity_predicted\n",
        "''', engine=presto)\n",
        "lims = [df_min_max['min'][0], df_min_max['max'][0]]\n",
        "\n",
        "# Plot\n",
        "fig, axes = plt.subplots(1,2, figsize=(10,5))\n",
        "for i, ax in enumerate(axes):\n",
        "  td.read_td_query('''\n",
        "  select\n",
        "    electricity_use_kbtu as target,\n",
        "    pred as pred\n",
        "  from\n",
        "    electricity_predicted\n",
        "  where\n",
        "    is_test = {}\n",
        "  '''.format(i), engine=presto).plot.scatter(x='target', y='pred', ax=ax)\n",
        "  ax.plot(lims, lims, 'k-', zorder=0, color='gray', alpha=0.5)\n",
        "  ax.set_aspect('equal')\n",
        "  ax.set_xlim(lims)\n",
        "  ax.set_ylim(lims)\n",
        "  ax.grid(True)\n",
        "  ax.set_title('Train' if i == 0 else 'Test')\n",
        "plt.show();"
      ],
      "execution_count": 0,
      "outputs": [
        {
          "output_type": "display_data",
          "data": {
            "image/png": "[encoded data removed]",
            "text/plain": [
              "<Figure size 720x360 with 2 Axes>"
            ]
          },
          "metadata": {
            "tags": []
          }
        }
      ]
    },
    {
      "metadata": {
        "id": "QNNTEQKsw0zw",
        "colab_type": "text"
      },
      "cell_type": "markdown",
      "source": [
        "#### Original Scale"
      ]
    },
    {
      "metadata": {
        "id": "Qm8fqhy3tkH6",
        "colab_type": "code",
        "outputId": "84518bae-e466-40db-b3b1-49d2339a7f76",
        "colab": {
          "base_uri": "https://localhost:8080/",
          "height": 332
        }
      },
      "cell_type": "code",
      "source": [
        "# Get min and max\n",
        "df_min_max = td.read_td_query('''\n",
        "select\n",
        "  least(min(exp(electricity_use_kbtu)), min(exp(pred))) as min\n",
        "  ,greatest(max(exp(electricity_use_kbtu)), max(exp(pred))) as max\n",
        "from\n",
        "  electricity_predicted\n",
        "''', engine=presto)\n",
        "lims = [df_min_max['min'][0], df_min_max['max'][0]]\n",
        "\n",
        "# Plot\n",
        "fig, axes = plt.subplots(1,2, figsize=(10,5))\n",
        "for i, ax in enumerate(axes):\n",
        "  td.read_td_query('''\n",
        "  select\n",
        "    exp(electricity_use_kbtu) as target,\n",
        "    exp(pred) as pred\n",
        "  from\n",
        "    electricity_predicted\n",
        "  where\n",
        "    is_test = {}\n",
        "  '''.format(i), engine=presto).plot.scatter(x='target', y='pred', ax=ax)\n",
        "  ax.plot(lims, lims, 'k-', zorder=0, color='gray', alpha=0.5)\n",
        "  ax.set_aspect('equal')\n",
        "  ax.set_xlim(lims)\n",
        "  ax.set_ylim(lims)\n",
        "  ax.grid(True)\n",
        "  ax.set_title('Train' if i == 0 else 'Test')\n",
        "plt.show();"
      ],
      "execution_count": 0,
      "outputs": [
        {
          "output_type": "display_data",
          "data": {
            "image/png": "[encoded data removed]",
            "text/plain": [
              "<Figure size 720x360 with 2 Axes>"
            ]
          },
          "metadata": {
            "tags": []
          }
        }
      ]
    },
    {
      "metadata": {
        "id": "RAstiyKVkyf_",
        "colab_type": "text"
      },
      "cell_type": "markdown",
      "source": [
        "# Discussion"
      ]
    },
    {
      "metadata": {
        "id": "KsKSZwzJkzsk",
        "colab_type": "text"
      },
      "cell_type": "markdown",
      "source": [
        "Seeing the result above, the model seems to work to some extent because the dots are around `y=x`.  \n",
        "Possible approaches to improve is to add features not used this time, to increase values of categorical features and so on."
      ]
    }
  ]
}