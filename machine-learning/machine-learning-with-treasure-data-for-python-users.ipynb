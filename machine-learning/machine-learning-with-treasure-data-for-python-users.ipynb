{
  "nbformat": 4,
  "nbformat_minor": 0,
  "metadata": {
    "colab": {
      "name": "Machine Learning with Treasure Data for Python users.ipynb",
      "version": "0.3.2",
      "provenance": [],
      "collapsed_sections": [],
      "include_colab_link": true
    },
    "kernelspec": {
      "name": "python3",
      "display_name": "Python 3"
    }
  },
  "cells": [
    {
      "cell_type": "markdown",
      "metadata": {
        "id": "view-in-github",
        "colab_type": "text"
      },
      "source": [
        "<a href=\"https://colab.research.google.com/github/treasure-data/td-notebooks/blob/master/machine-learning/machine-learning-with-treasure-data-for-python-users.ipynb\" target=\"_parent\"><img src=\"https://colab.research.google.com/assets/colab-badge.svg\" alt=\"Open In Colab\"/></a>"
      ]
    },
    {
      "metadata": {
        "id": "smSkk_CvfETF",
        "colab_type": "text"
      },
      "cell_type": "markdown",
      "source": [
        "# Machine Learning with Python\n",
        "\n",
        "This article introduces how to collaborate with Arm Treasure Data and Python for machine learning. In this tutorial, we will use classical foodmart dataset to **predict purchase number**.\n",
        "\n",
        "Through this article, you will learn how to:\n",
        "\n",
        "- fetch a dataset on Arm Treasure Data with Python\n",
        "- write back a prediction result to Arm Treasure Data with Python\n"
      ]
    },
    {
      "metadata": {
        "id": "nO3oV92EmwZY",
        "colab_type": "text"
      },
      "cell_type": "markdown",
      "source": [
        "# Prerequisites\n",
        "\n",
        "This tutorial assumes you are familiar with:\n",
        "\n",
        "- basic knowledge of Machine learning and Python\n",
        "- Treasure Data"
      ]
    },
    {
      "metadata": {
        "id": "b9u3PfrPni2d",
        "colab_type": "text"
      },
      "cell_type": "markdown",
      "source": [
        "# Ingesting the sample data\n",
        "\n",
        "To ingest [the foodmart dataset](https://github.com/neo4j-examples/neo4j-foodmart-dataset) to Treasure Data:\n",
        "\n",
        "1. Download [customer.csv](https://github.com/neo4j-examples/neo4j-foodmart-dataset/raw/master/data/customer.csv) and [sales.csv](https://github.com/neo4j-examples/neo4j-foodmart-dataset/raw/master/data/sales.csv) to your local machine.\n",
        "2. Open the TD Console.\n",
        "3. Navigate to Integrations > Source.\n",
        "4. At the top-right of the page, select Upload File.\n",
        "5. Browse to the customer.csv file.\n",
        "6. Open the file within Treasure Data.\n",
        "7. Save and select Next.\n",
        "8. Check \"Create new database?\" and input the `foodmart` database. (You may change the database name to avoid confliction.)\n",
        "9. Check \"Create new table?\" Input  `customer` as the table name.\n",
        "10. Select Start Upload.\n",
        "11. Verify that the data uploaded by navigating to Databases > foodmart > customer.\n",
        "12. Upload sales.csv as well. One different thing is you don't have to check \"Create new database?\" again for uploading. The table name is assumed as `sales`.\n"
      ]
    },
    {
      "metadata": {
        "id": "tVGqo1eSr2gb",
        "colab_type": "text"
      },
      "cell_type": "markdown",
      "source": [
        "# Fetch data from Treasure Data\n",
        "\n",
        "## Prepare Python packages\n",
        "\n",
        "To connect to Treasure Data with Python, you have to install the following Python package. Running the following code, you can install Python packages for this article."
      ]
    },
    {
      "metadata": {
        "id": "GK7GyTc4MSXO",
        "colab_type": "code",
        "colab": {}
      },
      "cell_type": "code",
      "source": [
        "!pip install --quiet git+https://github.com/takuti/pytd@master#egg=treasure-data[spark]\n",
        "\n",
        "# For outside of Google Colaboratory, you should install the following packages\n",
        "!pip install --quiet matplotlib scikit-learn pandas seaborn lightgbm"
      ],
      "execution_count": 0,
      "outputs": []
    },
    {
      "metadata": {
        "id": "15cduV-Kwv8u",
        "colab_type": "text"
      },
      "cell_type": "markdown",
      "source": [
        "Now you can load packages for data science and the library for Treasure Data connection."
      ]
    },
    {
      "metadata": {
        "id": "8zpOyTcUZo3m",
        "colab_type": "code",
        "colab": {}
      },
      "cell_type": "code",
      "source": [
        "import numpy as np\n",
        "import pandas as pd\n",
        "import seaborn as sns\n",
        "import matplotlib.pyplot as plt\n",
        "import warnings\n",
        "warnings.simplefilter(action='ignore', category=FutureWarning)\n",
        "\n",
        "# Import the Python library for Treasure Data\n",
        "import pytd.pandas_td as td"
      ],
      "execution_count": 0,
      "outputs": []
    },
    {
      "metadata": {
        "id": "XG8dbAyNwEuB",
        "colab_type": "text"
      },
      "cell_type": "markdown",
      "source": [
        "## Set API key for Treasure Data\n",
        "\n",
        "Before connecting to TD, you have to set TD API master key. Your TD API key can be found in [the TD console profile page](https://console.treasuredata.com/app/users/current).\n",
        "\n",
        "Setting the api key into `TD_API_KEY`, TD libraries can connect to TD seemlessly."
      ]
    },
    {
      "metadata": {
        "id": "4TWXVewGjfMM",
        "colab_type": "code",
        "outputId": "98254a7d-a044-47ca-fe5b-2e2f9ad5ed3e",
        "colab": {
          "base_uri": "https://localhost:8080/",
          "height": 53
        }
      },
      "cell_type": "code",
      "source": [
        "import os\n",
        "from getpass import getpass\n",
        "\n",
        "td_api_key = getpass('Enter TD API KEY (master key) here ->')\n",
        "\n",
        "os.environ['TD_API_KEY'] = td_api_key\n",
        "print(\"Succeeded to set the API key\")"
      ],
      "execution_count": 3,
      "outputs": [
        {
          "output_type": "stream",
          "text": [
            "Enter TD API KEY (master key) here ->··········\n",
            "Succeeded to set the API key\n"
          ],
          "name": "stdout"
        }
      ]
    },
    {
      "metadata": {
        "id": "KCLiDolsyf0p",
        "colab_type": "text"
      },
      "cell_type": "markdown",
      "source": [
        "## Connect to Treasure Data\n",
        "\n",
        "Let's connect and fetch data from TD. After creating an engine with `create_engine` function, you can get TD data with SQL using `read_td` function. If you want to load a small table to pandas, you can use `read_td_table` function instead.\n",
        "\n",
        "Don't forget to change `db_name` if you haven't ingested to `foodmart` database."
      ]
    },
    {
      "metadata": {
        "id": "UKzqaygwZvNn",
        "colab_type": "code",
        "colab": {}
      },
      "cell_type": "code",
      "source": [
        "# Replace db_name to your database name\n",
        "db_name = 'foodmart'\n",
        "\n",
        "engine = td.create_engine('presto:{}'.format(db_name))"
      ],
      "execution_count": 0,
      "outputs": []
    },
    {
      "metadata": {
        "id": "hTUzz0dbONXa",
        "colab_type": "code",
        "colab": {}
      },
      "cell_type": "code",
      "source": [
        "# `read_td_table` limits row number as 10000 by default.\n",
        "sales = td.read_td_table(\"sales\", engine, limit=270000)\n",
        "customer = td.read_td_table(\"customer\", engine, limit=11000)"
      ],
      "execution_count": 0,
      "outputs": []
    },
    {
      "metadata": {
        "id": "jyH1OciI0I5R",
        "colab_type": "text"
      },
      "cell_type": "markdown",
      "source": [
        "## Check the overview of data\n",
        "\n",
        "We get sales and customer data as pandas DataFrame, let's see the snippet, stats, and column names for customer data.\n",
        "\n",
        "Here is an example of sales data."
      ]
    },
    {
      "metadata": {
        "id": "glH3q7b-OcOy",
        "colab_type": "code",
        "outputId": "4547234f-f5db-474f-9237-918491e2e556",
        "colab": {
          "base_uri": "https://localhost:8080/",
          "height": 204
        }
      },
      "cell_type": "code",
      "source": [
        "sales.head()"
      ],
      "execution_count": 6,
      "outputs": [
        {
          "output_type": "execute_result",
          "data": {
            "text/html": [
              "<div>\n",
              "<style scoped>\n",
              "    .dataframe tbody tr th:only-of-type {\n",
              "        vertical-align: middle;\n",
              "    }\n",
              "\n",
              "    .dataframe tbody tr th {\n",
              "        vertical-align: top;\n",
              "    }\n",
              "\n",
              "    .dataframe thead th {\n",
              "        text-align: right;\n",
              "    }\n",
              "</style>\n",
              "<table border=\"1\" class=\"dataframe\">\n",
              "  <thead>\n",
              "    <tr style=\"text-align: right;\">\n",
              "      <th></th>\n",
              "      <th>product_id</th>\n",
              "      <th>time_id</th>\n",
              "      <th>customer_id</th>\n",
              "      <th>promotion_id</th>\n",
              "      <th>store_id</th>\n",
              "      <th>store_sales</th>\n",
              "      <th>store_cost</th>\n",
              "      <th>unit_sales</th>\n",
              "      <th>time</th>\n",
              "    </tr>\n",
              "  </thead>\n",
              "  <tbody>\n",
              "    <tr>\n",
              "      <th>0</th>\n",
              "      <td>337</td>\n",
              "      <td>371</td>\n",
              "      <td>6280</td>\n",
              "      <td>NaN</td>\n",
              "      <td>2</td>\n",
              "      <td>1.50</td>\n",
              "      <td>0.5100</td>\n",
              "      <td>2</td>\n",
              "      <td>1548917407</td>\n",
              "    </tr>\n",
              "    <tr>\n",
              "      <th>1</th>\n",
              "      <td>1512</td>\n",
              "      <td>371</td>\n",
              "      <td>6280</td>\n",
              "      <td>NaN</td>\n",
              "      <td>2</td>\n",
              "      <td>1.62</td>\n",
              "      <td>0.6318</td>\n",
              "      <td>3</td>\n",
              "      <td>1548917407</td>\n",
              "    </tr>\n",
              "    <tr>\n",
              "      <th>2</th>\n",
              "      <td>963</td>\n",
              "      <td>371</td>\n",
              "      <td>4018</td>\n",
              "      <td>NaN</td>\n",
              "      <td>2</td>\n",
              "      <td>2.40</td>\n",
              "      <td>0.7200</td>\n",
              "      <td>1</td>\n",
              "      <td>1548917407</td>\n",
              "    </tr>\n",
              "    <tr>\n",
              "      <th>3</th>\n",
              "      <td>181</td>\n",
              "      <td>371</td>\n",
              "      <td>4018</td>\n",
              "      <td>NaN</td>\n",
              "      <td>2</td>\n",
              "      <td>2.79</td>\n",
              "      <td>1.0323</td>\n",
              "      <td>3</td>\n",
              "      <td>1548917407</td>\n",
              "    </tr>\n",
              "    <tr>\n",
              "      <th>4</th>\n",
              "      <td>1383</td>\n",
              "      <td>371</td>\n",
              "      <td>4018</td>\n",
              "      <td>NaN</td>\n",
              "      <td>2</td>\n",
              "      <td>5.18</td>\n",
              "      <td>2.1756</td>\n",
              "      <td>2</td>\n",
              "      <td>1548917407</td>\n",
              "    </tr>\n",
              "  </tbody>\n",
              "</table>\n",
              "</div>"
            ],
            "text/plain": [
              "   product_id  time_id  customer_id  promotion_id  store_id  store_sales  \\\n",
              "0         337      371         6280           NaN         2         1.50   \n",
              "1        1512      371         6280           NaN         2         1.62   \n",
              "2         963      371         4018           NaN         2         2.40   \n",
              "3         181      371         4018           NaN         2         2.79   \n",
              "4        1383      371         4018           NaN         2         5.18   \n",
              "\n",
              "   store_cost  unit_sales        time  \n",
              "0      0.5100           2  1548917407  \n",
              "1      0.6318           3  1548917407  \n",
              "2      0.7200           1  1548917407  \n",
              "3      1.0323           3  1548917407  \n",
              "4      2.1756           2  1548917407  "
            ]
          },
          "metadata": {
            "tags": []
          },
          "execution_count": 6
        }
      ]
    },
    {
      "metadata": {
        "id": "gKH18cJIEF-Z",
        "colab_type": "text"
      },
      "cell_type": "markdown",
      "source": [
        "Here is the example of customer data. Note that, column number is too many to show up with."
      ]
    },
    {
      "metadata": {
        "id": "XsBMMUOROj4r",
        "colab_type": "code",
        "outputId": "ee841bfc-7e85-4913-9832-93f3b4346884",
        "colab": {
          "base_uri": "https://localhost:8080/",
          "height": 372
        }
      },
      "cell_type": "code",
      "source": [
        "customer.head()"
      ],
      "execution_count": 7,
      "outputs": [
        {
          "output_type": "execute_result",
          "data": {
            "text/html": [
              "<div>\n",
              "<style scoped>\n",
              "    .dataframe tbody tr th:only-of-type {\n",
              "        vertical-align: middle;\n",
              "    }\n",
              "\n",
              "    .dataframe tbody tr th {\n",
              "        vertical-align: top;\n",
              "    }\n",
              "\n",
              "    .dataframe thead th {\n",
              "        text-align: right;\n",
              "    }\n",
              "</style>\n",
              "<table border=\"1\" class=\"dataframe\">\n",
              "  <thead>\n",
              "    <tr style=\"text-align: right;\">\n",
              "      <th></th>\n",
              "      <th>customer_id</th>\n",
              "      <th>account_num</th>\n",
              "      <th>lname</th>\n",
              "      <th>fname</th>\n",
              "      <th>mi</th>\n",
              "      <th>address1</th>\n",
              "      <th>address2</th>\n",
              "      <th>address3</th>\n",
              "      <th>address4</th>\n",
              "      <th>city</th>\n",
              "      <th>...</th>\n",
              "      <th>total_children</th>\n",
              "      <th>num_children_at_home</th>\n",
              "      <th>education</th>\n",
              "      <th>date_accnt_opened</th>\n",
              "      <th>member_card</th>\n",
              "      <th>occupation</th>\n",
              "      <th>houseowner</th>\n",
              "      <th>num_cars_owned</th>\n",
              "      <th>fullname</th>\n",
              "      <th>time</th>\n",
              "    </tr>\n",
              "  </thead>\n",
              "  <tbody>\n",
              "    <tr>\n",
              "      <th>0</th>\n",
              "      <td>1</td>\n",
              "      <td>87462024688</td>\n",
              "      <td>Nowmer</td>\n",
              "      <td>Sheri</td>\n",
              "      <td>A.</td>\n",
              "      <td>2433 Bailey Road</td>\n",
              "      <td>None</td>\n",
              "      <td>None</td>\n",
              "      <td>None</td>\n",
              "      <td>Tlaxiaco</td>\n",
              "      <td>...</td>\n",
              "      <td>4</td>\n",
              "      <td>2</td>\n",
              "      <td>Partial High School</td>\n",
              "      <td>1991-09-10 00:00:00.000</td>\n",
              "      <td>Bronze</td>\n",
              "      <td>Skilled Manual</td>\n",
              "      <td>1</td>\n",
              "      <td>4</td>\n",
              "      <td>Sheri Nowmer</td>\n",
              "      <td>1548917250</td>\n",
              "    </tr>\n",
              "    <tr>\n",
              "      <th>1</th>\n",
              "      <td>2</td>\n",
              "      <td>87470586299</td>\n",
              "      <td>Whelply</td>\n",
              "      <td>Derrick</td>\n",
              "      <td>I.</td>\n",
              "      <td>2219 Dewing Avenue</td>\n",
              "      <td>None</td>\n",
              "      <td>None</td>\n",
              "      <td>None</td>\n",
              "      <td>Sooke</td>\n",
              "      <td>...</td>\n",
              "      <td>1</td>\n",
              "      <td>0</td>\n",
              "      <td>Partial High School</td>\n",
              "      <td>1993-03-11 00:00:00.000</td>\n",
              "      <td>Bronze</td>\n",
              "      <td>Professional</td>\n",
              "      <td>0</td>\n",
              "      <td>3</td>\n",
              "      <td>Derrick Whelply</td>\n",
              "      <td>1548917250</td>\n",
              "    </tr>\n",
              "    <tr>\n",
              "      <th>2</th>\n",
              "      <td>3</td>\n",
              "      <td>87475757600</td>\n",
              "      <td>Derry</td>\n",
              "      <td>Jeanne</td>\n",
              "      <td>None</td>\n",
              "      <td>7640 First Ave.</td>\n",
              "      <td>None</td>\n",
              "      <td>None</td>\n",
              "      <td>None</td>\n",
              "      <td>Issaquah</td>\n",
              "      <td>...</td>\n",
              "      <td>1</td>\n",
              "      <td>1</td>\n",
              "      <td>Bachelors Degree</td>\n",
              "      <td>1991-06-11 00:00:00.000</td>\n",
              "      <td>Bronze</td>\n",
              "      <td>Professional</td>\n",
              "      <td>1</td>\n",
              "      <td>2</td>\n",
              "      <td>Jeanne Derry</td>\n",
              "      <td>1548917250</td>\n",
              "    </tr>\n",
              "    <tr>\n",
              "      <th>3</th>\n",
              "      <td>4</td>\n",
              "      <td>87500482201</td>\n",
              "      <td>Spence</td>\n",
              "      <td>Michael</td>\n",
              "      <td>J.</td>\n",
              "      <td>337 Tosca Way</td>\n",
              "      <td>None</td>\n",
              "      <td>None</td>\n",
              "      <td>None</td>\n",
              "      <td>Burnaby</td>\n",
              "      <td>...</td>\n",
              "      <td>4</td>\n",
              "      <td>4</td>\n",
              "      <td>Partial High School</td>\n",
              "      <td>1994-05-21 00:00:00.000</td>\n",
              "      <td>Normal</td>\n",
              "      <td>Skilled Manual</td>\n",
              "      <td>0</td>\n",
              "      <td>2</td>\n",
              "      <td>Michael Spence</td>\n",
              "      <td>1548917250</td>\n",
              "    </tr>\n",
              "    <tr>\n",
              "      <th>4</th>\n",
              "      <td>5</td>\n",
              "      <td>87514054179</td>\n",
              "      <td>Gutierrez</td>\n",
              "      <td>Maya</td>\n",
              "      <td>None</td>\n",
              "      <td>8668 Via Neruda</td>\n",
              "      <td>None</td>\n",
              "      <td>None</td>\n",
              "      <td>None</td>\n",
              "      <td>Novato</td>\n",
              "      <td>...</td>\n",
              "      <td>3</td>\n",
              "      <td>0</td>\n",
              "      <td>Partial College</td>\n",
              "      <td>1992-08-21 00:00:00.000</td>\n",
              "      <td>Silver</td>\n",
              "      <td>Manual</td>\n",
              "      <td>0</td>\n",
              "      <td>3</td>\n",
              "      <td>Maya Gutierrez</td>\n",
              "      <td>1548917250</td>\n",
              "    </tr>\n",
              "  </tbody>\n",
              "</table>\n",
              "<p>5 rows × 30 columns</p>\n",
              "</div>"
            ],
            "text/plain": [
              "   customer_id  account_num      lname    fname    mi            address1  \\\n",
              "0            1  87462024688     Nowmer    Sheri    A.    2433 Bailey Road   \n",
              "1            2  87470586299    Whelply  Derrick    I.  2219 Dewing Avenue   \n",
              "2            3  87475757600      Derry   Jeanne  None     7640 First Ave.   \n",
              "3            4  87500482201     Spence  Michael    J.       337 Tosca Way   \n",
              "4            5  87514054179  Gutierrez     Maya  None     8668 Via Neruda   \n",
              "\n",
              "  address2 address3 address4      city     ...     total_children  \\\n",
              "0     None     None     None  Tlaxiaco     ...                  4   \n",
              "1     None     None     None     Sooke     ...                  1   \n",
              "2     None     None     None  Issaquah     ...                  1   \n",
              "3     None     None     None   Burnaby     ...                  4   \n",
              "4     None     None     None    Novato     ...                  3   \n",
              "\n",
              "   num_children_at_home            education        date_accnt_opened  \\\n",
              "0                     2  Partial High School  1991-09-10 00:00:00.000   \n",
              "1                     0  Partial High School  1993-03-11 00:00:00.000   \n",
              "2                     1     Bachelors Degree  1991-06-11 00:00:00.000   \n",
              "3                     4  Partial High School  1994-05-21 00:00:00.000   \n",
              "4                     0      Partial College  1992-08-21 00:00:00.000   \n",
              "\n",
              "  member_card      occupation houseowner num_cars_owned         fullname  \\\n",
              "0      Bronze  Skilled Manual          1              4     Sheri Nowmer   \n",
              "1      Bronze    Professional          0              3  Derrick Whelply   \n",
              "2      Bronze    Professional          1              2     Jeanne Derry   \n",
              "3      Normal  Skilled Manual          0              2   Michael Spence   \n",
              "4      Silver          Manual          0              3   Maya Gutierrez   \n",
              "\n",
              "         time  \n",
              "0  1548917250  \n",
              "1  1548917250  \n",
              "2  1548917250  \n",
              "3  1548917250  \n",
              "4  1548917250  \n",
              "\n",
              "[5 rows x 30 columns]"
            ]
          },
          "metadata": {
            "tags": []
          },
          "execution_count": 7
        }
      ]
    },
    {
      "metadata": {
        "id": "v5a4vsfRbFn7",
        "colab_type": "code",
        "outputId": "f5c1173c-91c0-4215-feb0-038ff2ccad25",
        "colab": {
          "base_uri": "https://localhost:8080/",
          "height": 575
        }
      },
      "cell_type": "code",
      "source": [
        "# Show customer table column names.\n",
        "print(\"Columns of customer\")\n",
        "list(customer)"
      ],
      "execution_count": 8,
      "outputs": [
        {
          "output_type": "stream",
          "text": [
            "Columns of customer\n"
          ],
          "name": "stdout"
        },
        {
          "output_type": "execute_result",
          "data": {
            "text/plain": [
              "['customer_id',\n",
              " 'account_num',\n",
              " 'lname',\n",
              " 'fname',\n",
              " 'mi',\n",
              " 'address1',\n",
              " 'address2',\n",
              " 'address3',\n",
              " 'address4',\n",
              " 'city',\n",
              " 'state_province',\n",
              " 'postal_code',\n",
              " 'country',\n",
              " 'customer_region_id',\n",
              " 'phone1',\n",
              " 'phone2',\n",
              " 'birthdate',\n",
              " 'marital_status',\n",
              " 'yearly_income',\n",
              " 'gender',\n",
              " 'total_children',\n",
              " 'num_children_at_home',\n",
              " 'education',\n",
              " 'date_accnt_opened',\n",
              " 'member_card',\n",
              " 'occupation',\n",
              " 'houseowner',\n",
              " 'num_cars_owned',\n",
              " 'fullname',\n",
              " 'time']"
            ]
          },
          "metadata": {
            "tags": []
          },
          "execution_count": 8
        }
      ]
    },
    {
      "metadata": {
        "id": "DdX1pL5PEJI_",
        "colab_type": "text"
      },
      "cell_type": "markdown",
      "source": [
        "Let's check the stats for sales and customer data."
      ]
    },
    {
      "metadata": {
        "id": "qZJI8gy1OlBb",
        "colab_type": "code",
        "outputId": "899c9652-4730-4b9c-b3b5-69b1d5e1ac81",
        "colab": {
          "base_uri": "https://localhost:8080/",
          "height": 297
        }
      },
      "cell_type": "code",
      "source": [
        "# Show sales table stats\n",
        "sales.describe()"
      ],
      "execution_count": 9,
      "outputs": [
        {
          "output_type": "execute_result",
          "data": {
            "text/html": [
              "<div>\n",
              "<style scoped>\n",
              "    .dataframe tbody tr th:only-of-type {\n",
              "        vertical-align: middle;\n",
              "    }\n",
              "\n",
              "    .dataframe tbody tr th {\n",
              "        vertical-align: top;\n",
              "    }\n",
              "\n",
              "    .dataframe thead th {\n",
              "        text-align: right;\n",
              "    }\n",
              "</style>\n",
              "<table border=\"1\" class=\"dataframe\">\n",
              "  <thead>\n",
              "    <tr style=\"text-align: right;\">\n",
              "      <th></th>\n",
              "      <th>product_id</th>\n",
              "      <th>time_id</th>\n",
              "      <th>customer_id</th>\n",
              "      <th>promotion_id</th>\n",
              "      <th>store_id</th>\n",
              "      <th>store_sales</th>\n",
              "      <th>store_cost</th>\n",
              "      <th>unit_sales</th>\n",
              "      <th>time</th>\n",
              "    </tr>\n",
              "  </thead>\n",
              "  <tbody>\n",
              "    <tr>\n",
              "      <th>count</th>\n",
              "      <td>269720.000000</td>\n",
              "      <td>269720.000000</td>\n",
              "      <td>269720.000000</td>\n",
              "      <td>70751.000000</td>\n",
              "      <td>269720.000000</td>\n",
              "      <td>269720.000000</td>\n",
              "      <td>269720.000000</td>\n",
              "      <td>269720.000000</td>\n",
              "      <td>2.697200e+05</td>\n",
              "    </tr>\n",
              "    <tr>\n",
              "      <th>mean</th>\n",
              "      <td>783.862873</td>\n",
              "      <td>800.004990</td>\n",
              "      <td>5119.390405</td>\n",
              "      <td>917.819918</td>\n",
              "      <td>12.753730</td>\n",
              "      <td>6.542142</td>\n",
              "      <td>2.618622</td>\n",
              "      <td>3.090201</td>\n",
              "      <td>1.548917e+09</td>\n",
              "    </tr>\n",
              "    <tr>\n",
              "      <th>std</th>\n",
              "      <td>447.926131</td>\n",
              "      <td>201.955563</td>\n",
              "      <td>2901.883077</td>\n",
              "      <td>480.952779</td>\n",
              "      <td>6.349746</td>\n",
              "      <td>3.461318</td>\n",
              "      <td>1.452805</td>\n",
              "      <td>0.835554</td>\n",
              "      <td>0.000000e+00</td>\n",
              "    </tr>\n",
              "    <tr>\n",
              "      <th>min</th>\n",
              "      <td>1.000000</td>\n",
              "      <td>367.000000</td>\n",
              "      <td>3.000000</td>\n",
              "      <td>54.000000</td>\n",
              "      <td>1.000000</td>\n",
              "      <td>0.500000</td>\n",
              "      <td>0.153000</td>\n",
              "      <td>1.000000</td>\n",
              "      <td>1.548917e+09</td>\n",
              "    </tr>\n",
              "    <tr>\n",
              "      <th>25%</th>\n",
              "      <td>396.000000</td>\n",
              "      <td>657.000000</td>\n",
              "      <td>2570.000000</td>\n",
              "      <td>524.000000</td>\n",
              "      <td>7.000000</td>\n",
              "      <td>3.810000</td>\n",
              "      <td>1.498000</td>\n",
              "      <td>3.000000</td>\n",
              "      <td>1.548917e+09</td>\n",
              "    </tr>\n",
              "    <tr>\n",
              "      <th>50%</th>\n",
              "      <td>787.000000</td>\n",
              "      <td>830.000000</td>\n",
              "      <td>5090.000000</td>\n",
              "      <td>841.000000</td>\n",
              "      <td>13.000000</td>\n",
              "      <td>5.940000</td>\n",
              "      <td>2.386500</td>\n",
              "      <td>3.000000</td>\n",
              "      <td>1.548917e+09</td>\n",
              "    </tr>\n",
              "    <tr>\n",
              "      <th>75%</th>\n",
              "      <td>1174.000000</td>\n",
              "      <td>968.000000</td>\n",
              "      <td>7614.000000</td>\n",
              "      <td>1251.000000</td>\n",
              "      <td>17.000000</td>\n",
              "      <td>8.670000</td>\n",
              "      <td>3.486000</td>\n",
              "      <td>4.000000</td>\n",
              "      <td>1.548917e+09</td>\n",
              "    </tr>\n",
              "    <tr>\n",
              "      <th>max</th>\n",
              "      <td>1559.000000</td>\n",
              "      <td>1095.000000</td>\n",
              "      <td>10281.000000</td>\n",
              "      <td>1893.000000</td>\n",
              "      <td>24.000000</td>\n",
              "      <td>23.640000</td>\n",
              "      <td>10.290000</td>\n",
              "      <td>6.000000</td>\n",
              "      <td>1.548917e+09</td>\n",
              "    </tr>\n",
              "  </tbody>\n",
              "</table>\n",
              "</div>"
            ],
            "text/plain": [
              "          product_id        time_id    customer_id  promotion_id  \\\n",
              "count  269720.000000  269720.000000  269720.000000  70751.000000   \n",
              "mean      783.862873     800.004990    5119.390405    917.819918   \n",
              "std       447.926131     201.955563    2901.883077    480.952779   \n",
              "min         1.000000     367.000000       3.000000     54.000000   \n",
              "25%       396.000000     657.000000    2570.000000    524.000000   \n",
              "50%       787.000000     830.000000    5090.000000    841.000000   \n",
              "75%      1174.000000     968.000000    7614.000000   1251.000000   \n",
              "max      1559.000000    1095.000000   10281.000000   1893.000000   \n",
              "\n",
              "            store_id    store_sales     store_cost     unit_sales  \\\n",
              "count  269720.000000  269720.000000  269720.000000  269720.000000   \n",
              "mean       12.753730       6.542142       2.618622       3.090201   \n",
              "std         6.349746       3.461318       1.452805       0.835554   \n",
              "min         1.000000       0.500000       0.153000       1.000000   \n",
              "25%         7.000000       3.810000       1.498000       3.000000   \n",
              "50%        13.000000       5.940000       2.386500       3.000000   \n",
              "75%        17.000000       8.670000       3.486000       4.000000   \n",
              "max        24.000000      23.640000      10.290000       6.000000   \n",
              "\n",
              "               time  \n",
              "count  2.697200e+05  \n",
              "mean   1.548917e+09  \n",
              "std    0.000000e+00  \n",
              "min    1.548917e+09  \n",
              "25%    1.548917e+09  \n",
              "50%    1.548917e+09  \n",
              "75%    1.548917e+09  \n",
              "max    1.548917e+09  "
            ]
          },
          "metadata": {
            "tags": []
          },
          "execution_count": 9
        }
      ]
    },
    {
      "metadata": {
        "id": "EuBTuTQvR2AS",
        "colab_type": "code",
        "outputId": "2c3e0322-8de2-444b-9c9f-ad64faf61d1c",
        "colab": {
          "base_uri": "https://localhost:8080/",
          "height": 297
        }
      },
      "cell_type": "code",
      "source": [
        "# Show customer table stats\n",
        "customer.describe()"
      ],
      "execution_count": 10,
      "outputs": [
        {
          "output_type": "execute_result",
          "data": {
            "text/html": [
              "<div>\n",
              "<style scoped>\n",
              "    .dataframe tbody tr th:only-of-type {\n",
              "        vertical-align: middle;\n",
              "    }\n",
              "\n",
              "    .dataframe tbody tr th {\n",
              "        vertical-align: top;\n",
              "    }\n",
              "\n",
              "    .dataframe thead th {\n",
              "        text-align: right;\n",
              "    }\n",
              "</style>\n",
              "<table border=\"1\" class=\"dataframe\">\n",
              "  <thead>\n",
              "    <tr style=\"text-align: right;\">\n",
              "      <th></th>\n",
              "      <th>customer_id</th>\n",
              "      <th>account_num</th>\n",
              "      <th>postal_code</th>\n",
              "      <th>customer_region_id</th>\n",
              "      <th>total_children</th>\n",
              "      <th>num_children_at_home</th>\n",
              "      <th>houseowner</th>\n",
              "      <th>num_cars_owned</th>\n",
              "      <th>time</th>\n",
              "    </tr>\n",
              "  </thead>\n",
              "  <tbody>\n",
              "    <tr>\n",
              "      <th>count</th>\n",
              "      <td>10281.000000</td>\n",
              "      <td>1.028100e+04</td>\n",
              "      <td>10281.000000</td>\n",
              "      <td>10281.000000</td>\n",
              "      <td>10281.000000</td>\n",
              "      <td>10281.000000</td>\n",
              "      <td>10281.000000</td>\n",
              "      <td>10281.000000</td>\n",
              "      <td>1.028100e+04</td>\n",
              "    </tr>\n",
              "    <tr>\n",
              "      <th>mean</th>\n",
              "      <td>5141.000000</td>\n",
              "      <td>5.032243e+10</td>\n",
              "      <td>55312.897092</td>\n",
              "      <td>55.071297</td>\n",
              "      <td>2.502675</td>\n",
              "      <td>0.814609</td>\n",
              "      <td>0.601790</td>\n",
              "      <td>2.223422</td>\n",
              "      <td>1.548917e+09</td>\n",
              "    </tr>\n",
              "    <tr>\n",
              "      <th>std</th>\n",
              "      <td>2968.013393</td>\n",
              "      <td>2.534394e+10</td>\n",
              "      <td>26134.855686</td>\n",
              "      <td>31.361667</td>\n",
              "      <td>1.500395</td>\n",
              "      <td>1.294580</td>\n",
              "      <td>0.489553</td>\n",
              "      <td>1.109816</td>\n",
              "      <td>0.000000e+00</td>\n",
              "    </tr>\n",
              "    <tr>\n",
              "      <th>min</th>\n",
              "      <td>1.000000</td>\n",
              "      <td>1.001355e+10</td>\n",
              "      <td>1374.000000</td>\n",
              "      <td>1.000000</td>\n",
              "      <td>0.000000</td>\n",
              "      <td>0.000000</td>\n",
              "      <td>0.000000</td>\n",
              "      <td>0.000000</td>\n",
              "      <td>1.548917e+09</td>\n",
              "    </tr>\n",
              "    <tr>\n",
              "      <th>25%</th>\n",
              "      <td>2571.000000</td>\n",
              "      <td>2.836150e+10</td>\n",
              "      <td>32760.000000</td>\n",
              "      <td>28.000000</td>\n",
              "      <td>1.000000</td>\n",
              "      <td>0.000000</td>\n",
              "      <td>0.000000</td>\n",
              "      <td>1.000000</td>\n",
              "      <td>1.548917e+09</td>\n",
              "    </tr>\n",
              "    <tr>\n",
              "      <th>50%</th>\n",
              "      <td>5141.000000</td>\n",
              "      <td>4.848514e+10</td>\n",
              "      <td>55288.000000</td>\n",
              "      <td>55.000000</td>\n",
              "      <td>3.000000</td>\n",
              "      <td>0.000000</td>\n",
              "      <td>1.000000</td>\n",
              "      <td>2.000000</td>\n",
              "      <td>1.548917e+09</td>\n",
              "    </tr>\n",
              "    <tr>\n",
              "      <th>75%</th>\n",
              "      <td>7711.000000</td>\n",
              "      <td>7.087943e+10</td>\n",
              "      <td>78209.000000</td>\n",
              "      <td>82.000000</td>\n",
              "      <td>4.000000</td>\n",
              "      <td>1.000000</td>\n",
              "      <td>1.000000</td>\n",
              "      <td>3.000000</td>\n",
              "      <td>1.548917e+09</td>\n",
              "    </tr>\n",
              "    <tr>\n",
              "      <th>max</th>\n",
              "      <td>10281.000000</td>\n",
              "      <td>9.996103e+10</td>\n",
              "      <td>99993.000000</td>\n",
              "      <td>109.000000</td>\n",
              "      <td>5.000000</td>\n",
              "      <td>5.000000</td>\n",
              "      <td>1.000000</td>\n",
              "      <td>4.000000</td>\n",
              "      <td>1.548917e+09</td>\n",
              "    </tr>\n",
              "  </tbody>\n",
              "</table>\n",
              "</div>"
            ],
            "text/plain": [
              "        customer_id   account_num   postal_code  customer_region_id  \\\n",
              "count  10281.000000  1.028100e+04  10281.000000        10281.000000   \n",
              "mean    5141.000000  5.032243e+10  55312.897092           55.071297   \n",
              "std     2968.013393  2.534394e+10  26134.855686           31.361667   \n",
              "min        1.000000  1.001355e+10   1374.000000            1.000000   \n",
              "25%     2571.000000  2.836150e+10  32760.000000           28.000000   \n",
              "50%     5141.000000  4.848514e+10  55288.000000           55.000000   \n",
              "75%     7711.000000  7.087943e+10  78209.000000           82.000000   \n",
              "max    10281.000000  9.996103e+10  99993.000000          109.000000   \n",
              "\n",
              "       total_children  num_children_at_home    houseowner  num_cars_owned  \\\n",
              "count    10281.000000          10281.000000  10281.000000    10281.000000   \n",
              "mean         2.502675              0.814609      0.601790        2.223422   \n",
              "std          1.500395              1.294580      0.489553        1.109816   \n",
              "min          0.000000              0.000000      0.000000        0.000000   \n",
              "25%          1.000000              0.000000      0.000000        1.000000   \n",
              "50%          3.000000              0.000000      1.000000        2.000000   \n",
              "75%          4.000000              1.000000      1.000000        3.000000   \n",
              "max          5.000000              5.000000      1.000000        4.000000   \n",
              "\n",
              "               time  \n",
              "count  1.028100e+04  \n",
              "mean   1.548917e+09  \n",
              "std    0.000000e+00  \n",
              "min    1.548917e+09  \n",
              "25%    1.548917e+09  \n",
              "50%    1.548917e+09  \n",
              "75%    1.548917e+09  \n",
              "max    1.548917e+09  "
            ]
          },
          "metadata": {
            "tags": []
          },
          "execution_count": 10
        }
      ]
    },
    {
      "metadata": {
        "id": "oEElqr_a0ii0",
        "colab_type": "text"
      },
      "cell_type": "markdown",
      "source": [
        "# Build a purchase number prediction model\n",
        "\n",
        "## Get aggregated data for feature with SQL\n",
        "Executing SQLs is good for joining and aggregating multiple tables. Let's make a feature table with SQL. `purchase_cnt` is the target column for prediction."
      ]
    },
    {
      "metadata": {
        "id": "pwO1TL-FR_0i",
        "colab_type": "code",
        "outputId": "c76f02d1-5518-4d05-bd94-24ce4b84f8a4",
        "colab": {
          "base_uri": "https://localhost:8080/",
          "height": 204
        }
      },
      "cell_type": "code",
      "source": [
        "df = td.read_td(\"\"\"\n",
        "select\n",
        "  s1.customer_id, c1.country, c1.total_children, c1.num_children_at_home,\n",
        "  c1.education, c1.yearly_income, c1.gender, c1.member_card, c1.num_cars_owned,\n",
        "  count(s1.product_id) as purchase_cnt\n",
        "from\n",
        "  sales s1\n",
        "join\n",
        "  customer c1\n",
        "  on s1.customer_id = c1.customer_id\n",
        "group by\n",
        "  s1.customer_id, c1.country, c1.total_children, c1.num_children_at_home,\n",
        "  c1.education, c1.yearly_income, c1.gender, c1.member_card, c1.num_cars_owned\"\"\", engine)\n",
        "df.head()"
      ],
      "execution_count": 11,
      "outputs": [
        {
          "output_type": "execute_result",
          "data": {
            "text/html": [
              "<div>\n",
              "<style scoped>\n",
              "    .dataframe tbody tr th:only-of-type {\n",
              "        vertical-align: middle;\n",
              "    }\n",
              "\n",
              "    .dataframe tbody tr th {\n",
              "        vertical-align: top;\n",
              "    }\n",
              "\n",
              "    .dataframe thead th {\n",
              "        text-align: right;\n",
              "    }\n",
              "</style>\n",
              "<table border=\"1\" class=\"dataframe\">\n",
              "  <thead>\n",
              "    <tr style=\"text-align: right;\">\n",
              "      <th></th>\n",
              "      <th>customer_id</th>\n",
              "      <th>country</th>\n",
              "      <th>total_children</th>\n",
              "      <th>num_children_at_home</th>\n",
              "      <th>education</th>\n",
              "      <th>yearly_income</th>\n",
              "      <th>gender</th>\n",
              "      <th>member_card</th>\n",
              "      <th>num_cars_owned</th>\n",
              "      <th>purchase_cnt</th>\n",
              "    </tr>\n",
              "  </thead>\n",
              "  <tbody>\n",
              "    <tr>\n",
              "      <th>0</th>\n",
              "      <td>8878</td>\n",
              "      <td>USA</td>\n",
              "      <td>3</td>\n",
              "      <td>3</td>\n",
              "      <td>Bachelors Degree</td>\n",
              "      <td>$10K - $30K</td>\n",
              "      <td>M</td>\n",
              "      <td>Normal</td>\n",
              "      <td>1</td>\n",
              "      <td>19</td>\n",
              "    </tr>\n",
              "    <tr>\n",
              "      <th>1</th>\n",
              "      <td>3779</td>\n",
              "      <td>USA</td>\n",
              "      <td>0</td>\n",
              "      <td>0</td>\n",
              "      <td>Partial High School</td>\n",
              "      <td>$10K - $30K</td>\n",
              "      <td>F</td>\n",
              "      <td>Normal</td>\n",
              "      <td>2</td>\n",
              "      <td>7</td>\n",
              "    </tr>\n",
              "    <tr>\n",
              "      <th>2</th>\n",
              "      <td>10261</td>\n",
              "      <td>USA</td>\n",
              "      <td>2</td>\n",
              "      <td>0</td>\n",
              "      <td>Bachelors Degree</td>\n",
              "      <td>$50K - $70K</td>\n",
              "      <td>M</td>\n",
              "      <td>Bronze</td>\n",
              "      <td>3</td>\n",
              "      <td>7</td>\n",
              "    </tr>\n",
              "    <tr>\n",
              "      <th>3</th>\n",
              "      <td>326</td>\n",
              "      <td>USA</td>\n",
              "      <td>2</td>\n",
              "      <td>0</td>\n",
              "      <td>Partial High School</td>\n",
              "      <td>$30K - $50K</td>\n",
              "      <td>F</td>\n",
              "      <td>Bronze</td>\n",
              "      <td>3</td>\n",
              "      <td>10</td>\n",
              "    </tr>\n",
              "    <tr>\n",
              "      <th>4</th>\n",
              "      <td>3217</td>\n",
              "      <td>USA</td>\n",
              "      <td>1</td>\n",
              "      <td>0</td>\n",
              "      <td>Bachelors Degree</td>\n",
              "      <td>$150K +</td>\n",
              "      <td>M</td>\n",
              "      <td>Golden</td>\n",
              "      <td>3</td>\n",
              "      <td>4</td>\n",
              "    </tr>\n",
              "  </tbody>\n",
              "</table>\n",
              "</div>"
            ],
            "text/plain": [
              "   customer_id country  total_children  num_children_at_home  \\\n",
              "0         8878     USA               3                     3   \n",
              "1         3779     USA               0                     0   \n",
              "2        10261     USA               2                     0   \n",
              "3          326     USA               2                     0   \n",
              "4         3217     USA               1                     0   \n",
              "\n",
              "             education yearly_income gender member_card  num_cars_owned  \\\n",
              "0     Bachelors Degree   $10K - $30K      M      Normal               1   \n",
              "1  Partial High School   $10K - $30K      F      Normal               2   \n",
              "2     Bachelors Degree   $50K - $70K      M      Bronze               3   \n",
              "3  Partial High School   $30K - $50K      F      Bronze               3   \n",
              "4     Bachelors Degree       $150K +      M      Golden               3   \n",
              "\n",
              "   purchase_cnt  \n",
              "0            19  \n",
              "1             7  \n",
              "2             7  \n",
              "3            10  \n",
              "4             4  "
            ]
          },
          "metadata": {
            "tags": []
          },
          "execution_count": 11
        }
      ]
    },
    {
      "metadata": {
        "id": "Xg6P5_H-EtP5",
        "colab_type": "text"
      },
      "cell_type": "markdown",
      "source": [
        "Additionaly, we will create `children_at_home_ratio`."
      ]
    },
    {
      "metadata": {
        "id": "AxAZTrO8ZkOG",
        "colab_type": "code",
        "colab": {}
      },
      "cell_type": "code",
      "source": [
        "# Add aggregated feature\n",
        "df['children_at_home_ratio'] = (df.num_children_at_home / df.total_children).fillna(0.0)"
      ],
      "execution_count": 0,
      "outputs": []
    },
    {
      "metadata": {
        "id": "aKyucNp2BZ6X",
        "colab_type": "text"
      },
      "cell_type": "markdown",
      "source": [
        "## Check the stats and correlations\n",
        "\n",
        "You can check stats of the aggreagted table and correlations of each feature."
      ]
    },
    {
      "metadata": {
        "id": "6HnmjXNPSwc9",
        "colab_type": "code",
        "outputId": "c4fcd163-b5f3-434b-d51c-1ad8c2daf928",
        "colab": {
          "base_uri": "https://localhost:8080/",
          "height": 297
        }
      },
      "cell_type": "code",
      "source": [
        "# Show stats of the aggregated data\n",
        "df.describe()"
      ],
      "execution_count": 13,
      "outputs": [
        {
          "output_type": "execute_result",
          "data": {
            "text/html": [
              "<div>\n",
              "<style scoped>\n",
              "    .dataframe tbody tr th:only-of-type {\n",
              "        vertical-align: middle;\n",
              "    }\n",
              "\n",
              "    .dataframe tbody tr th {\n",
              "        vertical-align: top;\n",
              "    }\n",
              "\n",
              "    .dataframe thead th {\n",
              "        text-align: right;\n",
              "    }\n",
              "</style>\n",
              "<table border=\"1\" class=\"dataframe\">\n",
              "  <thead>\n",
              "    <tr style=\"text-align: right;\">\n",
              "      <th></th>\n",
              "      <th>customer_id</th>\n",
              "      <th>total_children</th>\n",
              "      <th>num_children_at_home</th>\n",
              "      <th>num_cars_owned</th>\n",
              "      <th>purchase_cnt</th>\n",
              "      <th>children_at_home_ratio</th>\n",
              "    </tr>\n",
              "  </thead>\n",
              "  <tbody>\n",
              "    <tr>\n",
              "      <th>count</th>\n",
              "      <td>8842.000000</td>\n",
              "      <td>8842.000000</td>\n",
              "      <td>8842.000000</td>\n",
              "      <td>8842.000000</td>\n",
              "      <td>8842.000000</td>\n",
              "      <td>8842.000000</td>\n",
              "    </tr>\n",
              "    <tr>\n",
              "      <th>mean</th>\n",
              "      <td>5144.051572</td>\n",
              "      <td>2.505316</td>\n",
              "      <td>0.805587</td>\n",
              "      <td>2.221556</td>\n",
              "      <td>30.504411</td>\n",
              "      <td>0.287086</td>\n",
              "    </tr>\n",
              "    <tr>\n",
              "      <th>std</th>\n",
              "      <td>2953.735594</td>\n",
              "      <td>1.500452</td>\n",
              "      <td>1.294748</td>\n",
              "      <td>1.109897</td>\n",
              "      <td>35.648668</td>\n",
              "      <td>0.411541</td>\n",
              "    </tr>\n",
              "    <tr>\n",
              "      <th>min</th>\n",
              "      <td>3.000000</td>\n",
              "      <td>0.000000</td>\n",
              "      <td>0.000000</td>\n",
              "      <td>0.000000</td>\n",
              "      <td>1.000000</td>\n",
              "      <td>0.000000</td>\n",
              "    </tr>\n",
              "    <tr>\n",
              "      <th>25%</th>\n",
              "      <td>2599.250000</td>\n",
              "      <td>1.000000</td>\n",
              "      <td>0.000000</td>\n",
              "      <td>1.000000</td>\n",
              "      <td>10.000000</td>\n",
              "      <td>0.000000</td>\n",
              "    </tr>\n",
              "    <tr>\n",
              "      <th>50%</th>\n",
              "      <td>5142.500000</td>\n",
              "      <td>3.000000</td>\n",
              "      <td>0.000000</td>\n",
              "      <td>2.000000</td>\n",
              "      <td>18.000000</td>\n",
              "      <td>0.000000</td>\n",
              "    </tr>\n",
              "    <tr>\n",
              "      <th>75%</th>\n",
              "      <td>7699.750000</td>\n",
              "      <td>4.000000</td>\n",
              "      <td>1.000000</td>\n",
              "      <td>3.000000</td>\n",
              "      <td>35.000000</td>\n",
              "      <td>0.666667</td>\n",
              "    </tr>\n",
              "    <tr>\n",
              "      <th>max</th>\n",
              "      <td>10281.000000</td>\n",
              "      <td>5.000000</td>\n",
              "      <td>5.000000</td>\n",
              "      <td>4.000000</td>\n",
              "      <td>301.000000</td>\n",
              "      <td>1.000000</td>\n",
              "    </tr>\n",
              "  </tbody>\n",
              "</table>\n",
              "</div>"
            ],
            "text/plain": [
              "        customer_id  total_children  num_children_at_home  num_cars_owned  \\\n",
              "count   8842.000000     8842.000000           8842.000000     8842.000000   \n",
              "mean    5144.051572        2.505316              0.805587        2.221556   \n",
              "std     2953.735594        1.500452              1.294748        1.109897   \n",
              "min        3.000000        0.000000              0.000000        0.000000   \n",
              "25%     2599.250000        1.000000              0.000000        1.000000   \n",
              "50%     5142.500000        3.000000              0.000000        2.000000   \n",
              "75%     7699.750000        4.000000              1.000000        3.000000   \n",
              "max    10281.000000        5.000000              5.000000        4.000000   \n",
              "\n",
              "       purchase_cnt  children_at_home_ratio  \n",
              "count   8842.000000             8842.000000  \n",
              "mean      30.504411                0.287086  \n",
              "std       35.648668                0.411541  \n",
              "min        1.000000                0.000000  \n",
              "25%       10.000000                0.000000  \n",
              "50%       18.000000                0.000000  \n",
              "75%       35.000000                0.666667  \n",
              "max      301.000000                1.000000  "
            ]
          },
          "metadata": {
            "tags": []
          },
          "execution_count": 13
        }
      ]
    },
    {
      "metadata": {
        "id": "9GiNGciaFBOr",
        "colab_type": "text"
      },
      "cell_type": "markdown",
      "source": [
        "Plot the correlation of numerical values to find better feature to predict purchase number."
      ]
    },
    {
      "metadata": {
        "id": "E-QJHX74u8Db",
        "colab_type": "code",
        "outputId": "40fe29e8-b156-462b-c1cb-37d9d7d8f321",
        "colab": {
          "base_uri": "https://localhost:8080/",
          "height": 702
        }
      },
      "cell_type": "code",
      "source": [
        "sns.set(style=\"white\", font_scale=1.5)\n",
        "\n",
        "# Compute the correlation matrix\n",
        "corr = df.corr()\n",
        "\n",
        "# Generate a mask for the upper triangle\n",
        "mask = np.zeros_like(corr, dtype=np.bool)\n",
        "mask[np.triu_indices_from(mask)] = True\n",
        "\n",
        "# Set up the matplotlib figure\n",
        "f, ax = plt.subplots(figsize=(11, 9))\n",
        "\n",
        "# Generate a custom diverging colormap\n",
        "cmap = sns.diverging_palette(220, 10, as_cmap=True)\n",
        "\n",
        "# Draw the heatmap with the mask and correct aspect ratio\n",
        "sns.heatmap(corr, mask=mask, cmap=cmap, vmax=.3, center=0,\n",
        "            square=True, linewidths=.5, cbar_kws={\"shrink\": .5})"
      ],
      "execution_count": 14,
      "outputs": [
        {
          "output_type": "execute_result",
          "data": {
            "text/plain": [
              "<matplotlib.axes._subplots.AxesSubplot at 0x7f889a3bfb00>"
            ]
          },
          "metadata": {
            "tags": []
          },
          "execution_count": 14
        },
        {
          "output_type": "display_data",
          "data": {
            "image/png": "[encoded data removed]",
            "text/plain": [
              "<Figure size 792x648 with 2 Axes>"
            ]
          },
          "metadata": {
            "tags": []
          }
        }
      ]
    },
    {
      "metadata": {
        "id": "Z3SFTvd-Bpr9",
        "colab_type": "text"
      },
      "cell_type": "markdown",
      "source": [
        "We can find there is no feature that is strongly correlated with `purchase_cnt`."
      ]
    },
    {
      "metadata": {
        "id": "Duol9kCoB0_K",
        "colab_type": "text"
      },
      "cell_type": "markdown",
      "source": [
        "## Build a predictive model with LightGBM\n",
        "\n",
        "[LightGBM](https://github.com/Microsoft/LightGBM) is an open source for machine learning which enables you to classify or regress with gradient boosting algorithm. It is one of the most pupolar framework in Kaggle for solving the problem with structured data."
      ]
    },
    {
      "metadata": {
        "id": "odTPw0hfb7HP",
        "colab_type": "code",
        "colab": {}
      },
      "cell_type": "code",
      "source": [
        "import lightgbm as lgb\n",
        "from sklearn.metrics import mean_squared_error\n",
        "from sklearn.model_selection import train_test_split\n",
        "from sklearn.preprocessing import LabelEncoder\n",
        "\n",
        "# Convert `object` columns into `int`\n",
        "categorical_columns = list(df.select_dtypes('object').columns.values)\n",
        "\n",
        "for column in categorical_columns:\n",
        "  target_column = df[column]\n",
        "  le = LabelEncoder()\n",
        "  label_encoded_column = le.fit_transform(target_column)\n",
        "  df[column] = pd.Series(label_encoded_column).astype('category')\n",
        "\n",
        "df_train, df_test = train_test_split(df, test_size=0.25, random_state=42)\n",
        "y_train = df_train.purchase_cnt\n",
        "y_test = df_test.purchase_cnt\n",
        "X_train = df_train.drop(columns=['customer_id', 'purchase_cnt'])\n",
        "X_test = df_test.drop(columns=['customer_id', 'purchase_cnt'])\n",
        "\n",
        "# create dataset for lightgbm\n",
        "lgb_train = lgb.Dataset(X_train, y_train)\n",
        "lgb_eval = lgb.Dataset(X_test, y_test, reference=lgb_train)"
      ],
      "execution_count": 0,
      "outputs": []
    },
    {
      "metadata": {
        "id": "qATv8n_0Y5hc",
        "colab_type": "code",
        "outputId": "27627195-a9d3-4cb5-cd44-3cd58131909d",
        "colab": {
          "base_uri": "https://localhost:8080/",
          "height": 521
        }
      },
      "cell_type": "code",
      "source": [
        "# specify your configurations as a dict\n",
        "params = {\n",
        "    'boosting_type': 'gbdt',\n",
        "    'objective': 'regression',\n",
        "    'metric': 'l2',\n",
        "    'num_leaves': 31,\n",
        "    'learning_rate': 0.1,\n",
        "    'feature_fraction': 0.9,\n",
        "    'bagging_fraction': 0.8,\n",
        "    'bagging_freq': 5,\n",
        "    'verbose': 0,\n",
        "    'max_depth': 6\n",
        "}\n",
        "\n",
        "print('Starting training...')\n",
        "\n",
        "gbm = lgb.train(params,\n",
        "                lgb_train,\n",
        "                num_boost_round=20,\n",
        "                valid_sets=lgb_eval,\n",
        "                early_stopping_rounds=20)\n",
        "\n",
        "print('Starting predicting...')\n",
        "# predict\n",
        "y_pred = gbm.predict(X_test, num_iteration=gbm.best_iteration)\n",
        "# eval\n",
        "print('The rmse of prediction is:', mean_squared_error(y_test, y_pred) ** 0.5)"
      ],
      "execution_count": 16,
      "outputs": [
        {
          "output_type": "stream",
          "text": [
            "Starting training...\n",
            "[1]\tvalid_0's l2: 1207.81\n",
            "Training until validation scores don't improve for 20 rounds.\n",
            "[2]\tvalid_0's l2: 1174.73\n",
            "[3]\tvalid_0's l2: 1147.88\n",
            "[4]\tvalid_0's l2: 1126.5\n",
            "[5]\tvalid_0's l2: 1111.02\n",
            "[6]\tvalid_0's l2: 1097.7\n",
            "[7]\tvalid_0's l2: 1087.86\n",
            "[8]\tvalid_0's l2: 1079.6\n",
            "[9]\tvalid_0's l2: 1073.21\n",
            "[10]\tvalid_0's l2: 1068.88\n",
            "[11]\tvalid_0's l2: 1065.62\n",
            "[12]\tvalid_0's l2: 1063.29\n",
            "[13]\tvalid_0's l2: 1061.72\n",
            "[14]\tvalid_0's l2: 1061.32\n",
            "[15]\tvalid_0's l2: 1061.35\n",
            "[16]\tvalid_0's l2: 1061.14\n",
            "[17]\tvalid_0's l2: 1060.2\n",
            "[18]\tvalid_0's l2: 1062.22\n",
            "[19]\tvalid_0's l2: 1062.4\n",
            "[20]\tvalid_0's l2: 1061.91\n",
            "Did not meet early stopping. Best iteration is:\n",
            "[17]\tvalid_0's l2: 1060.2\n",
            "Starting predicting...\n",
            "The rmse of prediction is: 32.56076316842527\n"
          ],
          "name": "stdout"
        },
        {
          "output_type": "stream",
          "text": [
            "/usr/local/lib/python3.6/dist-packages/lightgbm/basic.py:752: UserWarning: categorical_feature in param dict is overridden.\n",
            "  warnings.warn('categorical_feature in param dict is overridden.')\n"
          ],
          "name": "stderr"
        }
      ]
    },
    {
      "metadata": {
        "id": "uVpgfmhwDBs8",
        "colab_type": "text"
      },
      "cell_type": "markdown",
      "source": [
        "We got [RMSE](https://en.wikipedia.org/wiki/Root-mean-square_deviation) as a prediction evaluation for regression.\n",
        "\n",
        "It is helpful to know feature importance of each column."
      ]
    },
    {
      "metadata": {
        "id": "3kh5B6ZJBB27",
        "colab_type": "code",
        "colab": {
          "base_uri": "https://localhost:8080/",
          "height": 568
        },
        "outputId": "f741fc4c-de0a-4503-deb8-6517a395b195"
      },
      "cell_type": "code",
      "source": [
        "# Plot feature importance\n",
        "feature_imp = pd.DataFrame(sorted(zip(gbm.feature_importance(), X_train.columns)), columns=['Value','Feature'])\n",
        "\n",
        "plt.figure(figsize=(16, 8))\n",
        "sns.barplot(x=\"Value\", y=\"Feature\", data=feature_imp.sort_values(by=\"Value\", ascending=False))\n",
        "plt.title('LightGBM Features (avg over folds)', fontsize=18)\n",
        "plt.tight_layout()\n",
        "plt.show()"
      ],
      "execution_count": 17,
      "outputs": [
        {
          "output_type": "display_data",
          "data": {
            "image/png": "[encoded data removed]",
            "text/plain": [
              "<Figure size 1152x576 with 1 Axes>"
            ]
          },
          "metadata": {
            "tags": []
          }
        }
      ]
    },
    {
      "metadata": {
        "id": "T6IQjZ07Dd6P",
        "colab_type": "text"
      },
      "cell_type": "markdown",
      "source": [
        "# Upload prediction result to Treasure Data\n",
        "\n",
        "You can upload pandas DataFrame with using `to_td` function with running the following code."
      ]
    },
    {
      "metadata": {
        "id": "7erNTMtd-Fb6",
        "colab_type": "code",
        "colab": {
          "base_uri": "https://localhost:8080/",
          "height": 35
        },
        "outputId": "512155e2-4cec-4164-ff15-36d5df9bf495"
      },
      "cell_type": "code",
      "source": [
        "X_pred = df_test['customer_id'].to_frame()\n",
        "X_pred['pred'] = y_pred\n",
        "X_pred.reset_index(drop=True, inplace=True)\n",
        "\n",
        "# Upload prediction result to Treasure Data\n",
        "con = td.connect()\n",
        "td.to_td(X_pred, '{}.sales_pred'.format(db_name), con, if_exists='replace', index=False)\n",
        "print(\"Uploaded\")"
      ],
      "execution_count": 18,
      "outputs": [
        {
          "output_type": "stream",
          "text": [
            "Uploaded\n"
          ],
          "name": "stdout"
        }
      ]
    },
    {
      "metadata": {
        "id": "VVXx7eE4DvVD",
        "colab_type": "text"
      },
      "cell_type": "markdown",
      "source": [
        "Check the data has been ingested properly using `read_td` function."
      ]
    },
    {
      "metadata": {
        "id": "jdYKsrWk_7Df",
        "colab_type": "code",
        "outputId": "689847bb-231b-4cc8-94a0-4914f6acd389",
        "colab": {
          "base_uri": "https://localhost:8080/",
          "height": 359
        }
      },
      "cell_type": "code",
      "source": [
        "# Check uploaded data\n",
        "td.read_td('select * from sales_pred limit 10', engine)"
      ],
      "execution_count": 19,
      "outputs": [
        {
          "output_type": "execute_result",
          "data": {
            "text/html": [
              "<div>\n",
              "<style scoped>\n",
              "    .dataframe tbody tr th:only-of-type {\n",
              "        vertical-align: middle;\n",
              "    }\n",
              "\n",
              "    .dataframe tbody tr th {\n",
              "        vertical-align: top;\n",
              "    }\n",
              "\n",
              "    .dataframe thead th {\n",
              "        text-align: right;\n",
              "    }\n",
              "</style>\n",
              "<table border=\"1\" class=\"dataframe\">\n",
              "  <thead>\n",
              "    <tr style=\"text-align: right;\">\n",
              "      <th></th>\n",
              "      <th>customer_id</th>\n",
              "      <th>pred</th>\n",
              "      <th>time</th>\n",
              "    </tr>\n",
              "  </thead>\n",
              "  <tbody>\n",
              "    <tr>\n",
              "      <th>0</th>\n",
              "      <td>6153</td>\n",
              "      <td>27.817904</td>\n",
              "      <td>1549005124</td>\n",
              "    </tr>\n",
              "    <tr>\n",
              "      <th>1</th>\n",
              "      <td>6961</td>\n",
              "      <td>64.129417</td>\n",
              "      <td>1549005124</td>\n",
              "    </tr>\n",
              "    <tr>\n",
              "      <th>2</th>\n",
              "      <td>7608</td>\n",
              "      <td>27.303958</td>\n",
              "      <td>1549005124</td>\n",
              "    </tr>\n",
              "    <tr>\n",
              "      <th>3</th>\n",
              "      <td>1022</td>\n",
              "      <td>14.850538</td>\n",
              "      <td>1549005124</td>\n",
              "    </tr>\n",
              "    <tr>\n",
              "      <th>4</th>\n",
              "      <td>6558</td>\n",
              "      <td>14.794299</td>\n",
              "      <td>1549005124</td>\n",
              "    </tr>\n",
              "    <tr>\n",
              "      <th>5</th>\n",
              "      <td>7481</td>\n",
              "      <td>30.068309</td>\n",
              "      <td>1549005124</td>\n",
              "    </tr>\n",
              "    <tr>\n",
              "      <th>6</th>\n",
              "      <td>9772</td>\n",
              "      <td>29.111010</td>\n",
              "      <td>1549005124</td>\n",
              "    </tr>\n",
              "    <tr>\n",
              "      <th>7</th>\n",
              "      <td>4039</td>\n",
              "      <td>27.497310</td>\n",
              "      <td>1549005124</td>\n",
              "    </tr>\n",
              "    <tr>\n",
              "      <th>8</th>\n",
              "      <td>2480</td>\n",
              "      <td>62.409455</td>\n",
              "      <td>1549005124</td>\n",
              "    </tr>\n",
              "    <tr>\n",
              "      <th>9</th>\n",
              "      <td>7670</td>\n",
              "      <td>28.419287</td>\n",
              "      <td>1549005124</td>\n",
              "    </tr>\n",
              "  </tbody>\n",
              "</table>\n",
              "</div>"
            ],
            "text/plain": [
              "   customer_id       pred        time\n",
              "0         6153  27.817904  1549005124\n",
              "1         6961  64.129417  1549005124\n",
              "2         7608  27.303958  1549005124\n",
              "3         1022  14.850538  1549005124\n",
              "4         6558  14.794299  1549005124\n",
              "5         7481  30.068309  1549005124\n",
              "6         9772  29.111010  1549005124\n",
              "7         4039  27.497310  1549005124\n",
              "8         2480  62.409455  1549005124\n",
              "9         7670  28.419287  1549005124"
            ]
          },
          "metadata": {
            "tags": []
          },
          "execution_count": 19
        }
      ]
    },
    {
      "metadata": {
        "id": "tVK60A6yD2lq",
        "colab_type": "text"
      },
      "cell_type": "markdown",
      "source": [
        "# Bonus: Hyper parameter optimization with optuna\n",
        "\n",
        "As you see in previous code, LightGBM has certain amount of hyper parameters to be tuned. It could be helpful to use [optuna](https://optuna.org/), hyper parameter optimization library, to find better model parameters.\n",
        "\n",
        "Using the following code, you can get tuned hyper parameters."
      ]
    },
    {
      "metadata": {
        "id": "8-uFvrDTWvAD",
        "colab_type": "code",
        "colab": {}
      },
      "cell_type": "code",
      "source": [
        "!pip install --quiet optuna"
      ],
      "execution_count": 0,
      "outputs": []
    },
    {
      "metadata": {
        "id": "CTQrNxKEG1O_",
        "colab_type": "text"
      },
      "cell_type": "markdown",
      "source": [
        "Optuna provides Define-by-Run style API, which offers flexibility and high modularity. Define the `objective` function with LightGBM and optimize the hyper parameters."
      ]
    },
    {
      "metadata": {
        "id": "75sL_1h_cRUY",
        "colab_type": "code",
        "colab": {}
      },
      "cell_type": "code",
      "source": [
        "# Train with hyper parameter search using optuna\n",
        "\n",
        "import optuna\n",
        "\n",
        "def objective(trial):\n",
        "\n",
        "    params = {\"objective\": \"regression\",\n",
        "              \"boosting_type\": \"gbdt\",\n",
        "              \"metric\": \"l2\",\n",
        "              \"learning_rate\": trial.suggest_uniform('learning_rate', 1e-5, 1.0),\n",
        "              \"num_leaves\": trial.suggest_int('num_leaves', 10, 500),\n",
        "              \"feature_fraction\": trial.suggest_uniform('feature_fraction', 0.0, 1.0),\n",
        "              \"bagging_fraction\": trial.suggest_uniform('bagging_fraction', 0.0, 1.0),\n",
        "              \"bagging_freq\": trial.suggest_int('bagging_freq', 5, 100),\n",
        "              \"max_depth\": trial.suggest_int('max_depth', 5, 20),\n",
        "              \"verbose\": 0,\n",
        "             }\n",
        "    \n",
        "    pruning_callback = optuna.integration.LightGBMPruningCallback(trial, \"l2\")\n",
        "    gbm = lgb.train(params, lgb_train, num_boost_round=500,\n",
        "                    valid_sets=lgb_eval, callbacks=[pruning_callback])\n",
        "    \n",
        "    y_pred = gbm.predict(X_test, num_iteration=gbm.best_iteration)\n",
        "    error_test = mean_squared_error(y_test, y_pred) ** 0.5\n",
        "    \n",
        "    return error_test\n",
        "\n",
        "\n",
        "study = optuna.create_study()\n",
        "study.optimize(objective, n_trials=100)"
      ],
      "execution_count": 0,
      "outputs": []
    },
    {
      "metadata": {
        "id": "GLc2Z8CgGzK3",
        "colab_type": "text"
      },
      "cell_type": "markdown",
      "source": [
        "Check the best parameter in the studies."
      ]
    },
    {
      "metadata": {
        "id": "IQgK954byIGQ",
        "colab_type": "code",
        "outputId": "a2e3c2bc-5f35-461b-f471-0783116b8375",
        "colab": {
          "base_uri": "https://localhost:8080/",
          "height": 197
        }
      },
      "cell_type": "code",
      "source": [
        "print('Number of finished trials: ', len(study.trials))\n",
        "\n",
        "print('Best trial: ', )\n",
        "trial = study.best_trial\n",
        "\n",
        "print('Params: ')\n",
        "for key, value in trial.params.items():\n",
        "    print('{}:{}'.format(key, value))\n",
        "\n",
        "print('User attrs: ')\n",
        "for key, value in trial.user_attrs.items():\n",
        "    print('{}:{}'.format(key, value))\n"
      ],
      "execution_count": 22,
      "outputs": [
        {
          "output_type": "stream",
          "text": [
            "Number of finished trials:  100\n",
            "Best trial: \n",
            "Params: \n",
            "learning_rate:0.028686881070132095\n",
            "num_leaves:352\n",
            "feature_fraction:0.08599660737903914\n",
            "bagging_fraction:0.2540617311047054\n",
            "bagging_freq:6\n",
            "max_depth:14\n",
            "User attrs: \n"
          ],
          "name": "stdout"
        }
      ]
    },
    {
      "metadata": {
        "id": "_epuHHNi8ZS1",
        "colab_type": "code",
        "outputId": "c88929a1-909a-4096-e6a6-6149473488d3",
        "colab": {
          "base_uri": "https://localhost:8080/",
          "height": 55
        }
      },
      "cell_type": "code",
      "source": [
        "best_params = {\"objective\": \"regression\",\n",
        "          \"boosting_type\": \"gbdt\",\n",
        "          \"metric\": \"l2\",\n",
        "          \"verbose\": 0,\n",
        "         }\n",
        "\n",
        "best_params.update(study.best_params)\n",
        "print(best_params)"
      ],
      "execution_count": 23,
      "outputs": [
        {
          "output_type": "stream",
          "text": [
            "{'objective': 'regression', 'boosting_type': 'gbdt', 'metric': 'l2', 'verbose': 0, 'learning_rate': 0.028686881070132095, 'num_leaves': 352, 'feature_fraction': 0.08599660737903914, 'bagging_fraction': 0.2540617311047054, 'bagging_freq': 6, 'max_depth': 14}\n"
          ],
          "name": "stdout"
        }
      ]
    },
    {
      "metadata": {
        "id": "6ws8N_SvHtjm",
        "colab_type": "text"
      },
      "cell_type": "markdown",
      "source": [
        "Build a final model with best parameter which tuned by optuna. Since LightGBM model can be different for each training, it'd be better to save the best model in objective function."
      ]
    },
    {
      "metadata": {
        "id": "fOb6hjOn8oI9",
        "colab_type": "code",
        "outputId": "af2b2867-21fc-4a3a-ed21-bf186ca2d430",
        "colab": {
          "base_uri": "https://localhost:8080/",
          "height": 7505
        }
      },
      "cell_type": "code",
      "source": [
        "print('Starting training for best model...')\n",
        "\n",
        "gbm = lgb.train(best_params,\n",
        "                lgb_train,\n",
        "                num_boost_round=500,\n",
        "                valid_sets=lgb_eval,\n",
        "                early_stopping_rounds=20)\n",
        "\n",
        "print('Starting predicting with best model...')\n",
        "# predict\n",
        "y_pred = gbm.predict(X_test, num_iteration=gbm.best_iteration)\n",
        "# eval\n",
        "print('The rmse of prediction is:', mean_squared_error(y_test, y_pred) ** 0.5)"
      ],
      "execution_count": 24,
      "outputs": [
        {
          "output_type": "stream",
          "text": [
            "Starting training for best model...\n",
            "[1]\tvalid_0's l2: 1249.97\n",
            "Training until validation scores don't improve for 20 rounds.\n",
            "[2]\tvalid_0's l2: 1249.89\n",
            "[3]\tvalid_0's l2: 1249.89\n",
            "[4]\tvalid_0's l2: 1249.92\n",
            "[5]\tvalid_0's l2: 1249.84\n",
            "[6]\tvalid_0's l2: 1249.87\n",
            "[7]\tvalid_0's l2: 1249.92\n",
            "[8]\tvalid_0's l2: 1249.95\n",
            "[9]\tvalid_0's l2: 1250\n",
            "[10]\tvalid_0's l2: 1238.06\n",
            "[11]\tvalid_0's l2: 1238.12\n",
            "[12]\tvalid_0's l2: 1238.11\n",
            "[13]\tvalid_0's l2: 1238.09\n",
            "[14]\tvalid_0's l2: 1238.1\n",
            "[15]\tvalid_0's l2: 1238.09\n",
            "[16]\tvalid_0's l2: 1238.09\n",
            "[17]\tvalid_0's l2: 1224.43\n",
            "[18]\tvalid_0's l2: 1224.42\n",
            "[19]\tvalid_0's l2: 1224.37\n",
            "[20]\tvalid_0's l2: 1224.32\n",
            "[21]\tvalid_0's l2: 1224.27\n",
            "[22]\tvalid_0's l2: 1224.27\n",
            "[23]\tvalid_0's l2: 1212.71\n",
            "[24]\tvalid_0's l2: 1212.71\n",
            "[25]\tvalid_0's l2: 1212.71\n",
            "[26]\tvalid_0's l2: 1212.71\n",
            "[27]\tvalid_0's l2: 1212.72\n",
            "[28]\tvalid_0's l2: 1212.69\n",
            "[29]\tvalid_0's l2: 1212.78\n",
            "[30]\tvalid_0's l2: 1212.75\n",
            "[31]\tvalid_0's l2: 1212.76\n",
            "[32]\tvalid_0's l2: 1212.79\n",
            "[33]\tvalid_0's l2: 1212.82\n",
            "[34]\tvalid_0's l2: 1212.91\n",
            "[35]\tvalid_0's l2: 1213.02\n",
            "[36]\tvalid_0's l2: 1213.06\n",
            "[37]\tvalid_0's l2: 1213.04\n",
            "[38]\tvalid_0's l2: 1213.03\n",
            "[39]\tvalid_0's l2: 1212.97\n",
            "[40]\tvalid_0's l2: 1212.94\n",
            "[41]\tvalid_0's l2: 1212.8\n",
            "[42]\tvalid_0's l2: 1212.83\n",
            "[43]\tvalid_0's l2: 1212.82\n",
            "[44]\tvalid_0's l2: 1212.71\n",
            "[45]\tvalid_0's l2: 1212.61\n",
            "[46]\tvalid_0's l2: 1212.63\n",
            "[47]\tvalid_0's l2: 1212.6\n",
            "[48]\tvalid_0's l2: 1212.58\n",
            "[49]\tvalid_0's l2: 1212.53\n",
            "[50]\tvalid_0's l2: 1212.49\n",
            "[51]\tvalid_0's l2: 1212.42\n",
            "[52]\tvalid_0's l2: 1212.4\n",
            "[53]\tvalid_0's l2: 1212.36\n",
            "[54]\tvalid_0's l2: 1212.33\n",
            "[55]\tvalid_0's l2: 1212.37\n",
            "[56]\tvalid_0's l2: 1201.83\n",
            "[57]\tvalid_0's l2: 1191.9\n",
            "[58]\tvalid_0's l2: 1191.89\n",
            "[59]\tvalid_0's l2: 1191.89\n",
            "[60]\tvalid_0's l2: 1191.89\n",
            "[61]\tvalid_0's l2: 1191.84\n",
            "[62]\tvalid_0's l2: 1191.86\n",
            "[63]\tvalid_0's l2: 1191.82\n",
            "[64]\tvalid_0's l2: 1191.79\n",
            "[65]\tvalid_0's l2: 1191.82\n",
            "[66]\tvalid_0's l2: 1191.8\n",
            "[67]\tvalid_0's l2: 1191.82\n",
            "[68]\tvalid_0's l2: 1191.75\n",
            "[69]\tvalid_0's l2: 1191.79\n",
            "[70]\tvalid_0's l2: 1191.79\n",
            "[71]\tvalid_0's l2: 1191.81\n",
            "[72]\tvalid_0's l2: 1181.73\n",
            "[73]\tvalid_0's l2: 1181.77\n",
            "[74]\tvalid_0's l2: 1181.66\n",
            "[75]\tvalid_0's l2: 1181.8\n",
            "[76]\tvalid_0's l2: 1181.84\n",
            "[77]\tvalid_0's l2: 1181.76\n",
            "[78]\tvalid_0's l2: 1181.81\n",
            "[79]\tvalid_0's l2: 1181.81\n",
            "[80]\tvalid_0's l2: 1181.82\n",
            "[81]\tvalid_0's l2: 1181.85\n",
            "[82]\tvalid_0's l2: 1181.88\n",
            "[83]\tvalid_0's l2: 1181.91\n",
            "[84]\tvalid_0's l2: 1181.95\n",
            "[85]\tvalid_0's l2: 1181.88\n",
            "[86]\tvalid_0's l2: 1181.79\n",
            "[87]\tvalid_0's l2: 1181.71\n",
            "[88]\tvalid_0's l2: 1181.73\n",
            "[89]\tvalid_0's l2: 1181.76\n",
            "[90]\tvalid_0's l2: 1173.51\n",
            "[91]\tvalid_0's l2: 1173.47\n",
            "[92]\tvalid_0's l2: 1173.51\n",
            "[93]\tvalid_0's l2: 1173.52\n",
            "[94]\tvalid_0's l2: 1173.52\n",
            "[95]\tvalid_0's l2: 1173.53\n",
            "[96]\tvalid_0's l2: 1173.56\n",
            "[97]\tvalid_0's l2: 1164.9\n",
            "[98]\tvalid_0's l2: 1165.01\n",
            "[99]\tvalid_0's l2: 1165.05\n",
            "[100]\tvalid_0's l2: 1165.07\n",
            "[101]\tvalid_0's l2: 1165.2\n",
            "[102]\tvalid_0's l2: 1157.06\n",
            "[103]\tvalid_0's l2: 1157.07\n",
            "[104]\tvalid_0's l2: 1157.07\n",
            "[105]\tvalid_0's l2: 1157.07\n",
            "[106]\tvalid_0's l2: 1157.07\n",
            "[107]\tvalid_0's l2: 1157.11\n",
            "[108]\tvalid_0's l2: 1157.15\n",
            "[109]\tvalid_0's l2: 1157.2\n",
            "[110]\tvalid_0's l2: 1148.87\n",
            "[111]\tvalid_0's l2: 1148.92\n",
            "[112]\tvalid_0's l2: 1148.92\n",
            "[113]\tvalid_0's l2: 1149.01\n",
            "[114]\tvalid_0's l2: 1149.02\n",
            "[115]\tvalid_0's l2: 1148.99\n",
            "[116]\tvalid_0's l2: 1148.91\n",
            "[117]\tvalid_0's l2: 1148.9\n",
            "[118]\tvalid_0's l2: 1148.83\n",
            "[119]\tvalid_0's l2: 1148.72\n",
            "[120]\tvalid_0's l2: 1148.68\n",
            "[121]\tvalid_0's l2: 1148.64\n",
            "[122]\tvalid_0's l2: 1148.6\n",
            "[123]\tvalid_0's l2: 1148.57\n",
            "[124]\tvalid_0's l2: 1148.53\n",
            "[125]\tvalid_0's l2: 1148.59\n",
            "[126]\tvalid_0's l2: 1148.66\n",
            "[127]\tvalid_0's l2: 1148.65\n",
            "[128]\tvalid_0's l2: 1148.67\n",
            "[129]\tvalid_0's l2: 1148.72\n",
            "[130]\tvalid_0's l2: 1141.97\n",
            "[131]\tvalid_0's l2: 1141.99\n",
            "[132]\tvalid_0's l2: 1142.04\n",
            "[133]\tvalid_0's l2: 1142.11\n",
            "[134]\tvalid_0's l2: 1142.17\n",
            "[135]\tvalid_0's l2: 1142.23\n",
            "[136]\tvalid_0's l2: 1142.32\n",
            "[137]\tvalid_0's l2: 1142.27\n",
            "[138]\tvalid_0's l2: 1142.3\n",
            "[139]\tvalid_0's l2: 1142.24\n",
            "[140]\tvalid_0's l2: 1142.24\n",
            "[141]\tvalid_0's l2: 1142.19\n",
            "[142]\tvalid_0's l2: 1142.17\n",
            "[143]\tvalid_0's l2: 1142.12\n",
            "[144]\tvalid_0's l2: 1142.02\n",
            "[145]\tvalid_0's l2: 1142.07\n",
            "[146]\tvalid_0's l2: 1142.13\n",
            "[147]\tvalid_0's l2: 1136.39\n",
            "[148]\tvalid_0's l2: 1136.4\n",
            "[149]\tvalid_0's l2: 1130.98\n",
            "[150]\tvalid_0's l2: 1131.01\n",
            "[151]\tvalid_0's l2: 1130.89\n",
            "[152]\tvalid_0's l2: 1130.84\n",
            "[153]\tvalid_0's l2: 1130.77\n",
            "[154]\tvalid_0's l2: 1130.71\n",
            "[155]\tvalid_0's l2: 1130.64\n",
            "[156]\tvalid_0's l2: 1130.59\n",
            "[157]\tvalid_0's l2: 1130.55\n",
            "[158]\tvalid_0's l2: 1130.61\n",
            "[159]\tvalid_0's l2: 1130.6\n",
            "[160]\tvalid_0's l2: 1130.62\n",
            "[161]\tvalid_0's l2: 1130.64\n",
            "[162]\tvalid_0's l2: 1130.71\n",
            "[163]\tvalid_0's l2: 1124.8\n",
            "[164]\tvalid_0's l2: 1124.73\n",
            "[165]\tvalid_0's l2: 1124.76\n",
            "[166]\tvalid_0's l2: 1124.8\n",
            "[167]\tvalid_0's l2: 1124.91\n",
            "[168]\tvalid_0's l2: 1119.35\n",
            "[169]\tvalid_0's l2: 1119.36\n",
            "[170]\tvalid_0's l2: 1119.33\n",
            "[171]\tvalid_0's l2: 1119.23\n",
            "[172]\tvalid_0's l2: 1119.19\n",
            "[173]\tvalid_0's l2: 1119.1\n",
            "[174]\tvalid_0's l2: 1119.1\n",
            "[175]\tvalid_0's l2: 1119.17\n",
            "[176]\tvalid_0's l2: 1119.27\n",
            "[177]\tvalid_0's l2: 1119.23\n",
            "[178]\tvalid_0's l2: 1114.44\n",
            "[179]\tvalid_0's l2: 1114.42\n",
            "[180]\tvalid_0's l2: 1114.43\n",
            "[181]\tvalid_0's l2: 1114.4\n",
            "[182]\tvalid_0's l2: 1114.38\n",
            "[183]\tvalid_0's l2: 1114.29\n",
            "[184]\tvalid_0's l2: 1114.33\n",
            "[185]\tvalid_0's l2: 1114.32\n",
            "[186]\tvalid_0's l2: 1114.24\n",
            "[187]\tvalid_0's l2: 1114.22\n",
            "[188]\tvalid_0's l2: 1114.15\n",
            "[189]\tvalid_0's l2: 1114.16\n",
            "[190]\tvalid_0's l2: 1114.18\n",
            "[191]\tvalid_0's l2: 1114.19\n",
            "[192]\tvalid_0's l2: 1114.18\n",
            "[193]\tvalid_0's l2: 1109.87\n",
            "[194]\tvalid_0's l2: 1109.92\n",
            "[195]\tvalid_0's l2: 1109.95\n",
            "[196]\tvalid_0's l2: 1109.97\n",
            "[197]\tvalid_0's l2: 1110\n",
            "[198]\tvalid_0's l2: 1110.03\n",
            "[199]\tvalid_0's l2: 1105.41\n",
            "[200]\tvalid_0's l2: 1105.44\n",
            "[201]\tvalid_0's l2: 1105.44\n",
            "[202]\tvalid_0's l2: 1105.44\n",
            "[203]\tvalid_0's l2: 1105.43\n",
            "[204]\tvalid_0's l2: 1105.43\n",
            "[205]\tvalid_0's l2: 1105.45\n",
            "[206]\tvalid_0's l2: 1105.48\n",
            "[207]\tvalid_0's l2: 1105.58\n",
            "[208]\tvalid_0's l2: 1105.61\n",
            "[209]\tvalid_0's l2: 1105.7\n",
            "[210]\tvalid_0's l2: 1105.76\n",
            "[211]\tvalid_0's l2: 1105.75\n",
            "[212]\tvalid_0's l2: 1105.66\n",
            "[213]\tvalid_0's l2: 1101.77\n",
            "[214]\tvalid_0's l2: 1101.83\n",
            "[215]\tvalid_0's l2: 1101.89\n",
            "[216]\tvalid_0's l2: 1101.84\n",
            "[217]\tvalid_0's l2: 1101.76\n",
            "[218]\tvalid_0's l2: 1101.71\n",
            "[219]\tvalid_0's l2: 1101.66\n",
            "[220]\tvalid_0's l2: 1101.62\n",
            "[221]\tvalid_0's l2: 1101.59\n",
            "[222]\tvalid_0's l2: 1101.46\n",
            "[223]\tvalid_0's l2: 1101.43\n",
            "[224]\tvalid_0's l2: 1101.43\n",
            "[225]\tvalid_0's l2: 1101.43\n",
            "[226]\tvalid_0's l2: 1101.43\n",
            "[227]\tvalid_0's l2: 1101.43\n",
            "[228]\tvalid_0's l2: 1101.39\n",
            "[229]\tvalid_0's l2: 1101.5\n",
            "[230]\tvalid_0's l2: 1101.6\n",
            "[231]\tvalid_0's l2: 1101.68\n",
            "[232]\tvalid_0's l2: 1101.78\n",
            "[233]\tvalid_0's l2: 1101.9\n",
            "[234]\tvalid_0's l2: 1101.93\n",
            "[235]\tvalid_0's l2: 1098.36\n",
            "[236]\tvalid_0's l2: 1098.42\n",
            "[237]\tvalid_0's l2: 1098.37\n",
            "[238]\tvalid_0's l2: 1098.29\n",
            "[239]\tvalid_0's l2: 1098.34\n",
            "[240]\tvalid_0's l2: 1098.32\n",
            "[241]\tvalid_0's l2: 1098.29\n",
            "[242]\tvalid_0's l2: 1098.26\n",
            "[243]\tvalid_0's l2: 1098.25\n",
            "[244]\tvalid_0's l2: 1098.19\n",
            "[245]\tvalid_0's l2: 1098.18\n",
            "[246]\tvalid_0's l2: 1098.17\n",
            "[247]\tvalid_0's l2: 1098.19\n",
            "[248]\tvalid_0's l2: 1098.18\n",
            "[249]\tvalid_0's l2: 1098.13\n",
            "[250]\tvalid_0's l2: 1098.14\n",
            "[251]\tvalid_0's l2: 1098.13\n",
            "[252]\tvalid_0's l2: 1094.3\n",
            "[253]\tvalid_0's l2: 1094.47\n",
            "[254]\tvalid_0's l2: 1094.5\n",
            "[255]\tvalid_0's l2: 1094.67\n",
            "[256]\tvalid_0's l2: 1094.85\n",
            "[257]\tvalid_0's l2: 1095.02\n",
            "[258]\tvalid_0's l2: 1095.02\n",
            "[259]\tvalid_0's l2: 1095.06\n",
            "[260]\tvalid_0's l2: 1095.11\n",
            "[261]\tvalid_0's l2: 1095.15\n",
            "[262]\tvalid_0's l2: 1095.19\n",
            "[263]\tvalid_0's l2: 1095.17\n",
            "[264]\tvalid_0's l2: 1095.19\n",
            "[265]\tvalid_0's l2: 1095.18\n",
            "[266]\tvalid_0's l2: 1095.23\n",
            "[267]\tvalid_0's l2: 1095.28\n",
            "[268]\tvalid_0's l2: 1095.42\n",
            "[269]\tvalid_0's l2: 1095.57\n",
            "[270]\tvalid_0's l2: 1095.62\n",
            "[271]\tvalid_0's l2: 1095.57\n",
            "[272]\tvalid_0's l2: 1092.23\n",
            "[273]\tvalid_0's l2: 1092.19\n",
            "[274]\tvalid_0's l2: 1092.23\n",
            "[275]\tvalid_0's l2: 1092.32\n",
            "[276]\tvalid_0's l2: 1092.29\n",
            "[277]\tvalid_0's l2: 1092.29\n",
            "[278]\tvalid_0's l2: 1092.33\n",
            "[279]\tvalid_0's l2: 1092.34\n",
            "[280]\tvalid_0's l2: 1092.36\n",
            "[281]\tvalid_0's l2: 1092.39\n",
            "[282]\tvalid_0's l2: 1092.41\n",
            "[283]\tvalid_0's l2: 1092.4\n",
            "[284]\tvalid_0's l2: 1092.32\n",
            "[285]\tvalid_0's l2: 1092.27\n",
            "[286]\tvalid_0's l2: 1092.22\n",
            "[287]\tvalid_0's l2: 1092.16\n",
            "[288]\tvalid_0's l2: 1092.13\n",
            "[289]\tvalid_0's l2: 1091.98\n",
            "[290]\tvalid_0's l2: 1091.92\n",
            "[291]\tvalid_0's l2: 1091.94\n",
            "[292]\tvalid_0's l2: 1091.8\n",
            "[293]\tvalid_0's l2: 1091.67\n",
            "[294]\tvalid_0's l2: 1091.63\n",
            "[295]\tvalid_0's l2: 1091.78\n",
            "[296]\tvalid_0's l2: 1091.86\n",
            "[297]\tvalid_0's l2: 1091.89\n",
            "[298]\tvalid_0's l2: 1088.5\n",
            "[299]\tvalid_0's l2: 1088.62\n",
            "[300]\tvalid_0's l2: 1085.44\n",
            "[301]\tvalid_0's l2: 1085.45\n",
            "[302]\tvalid_0's l2: 1085.47\n",
            "[303]\tvalid_0's l2: 1085.54\n",
            "[304]\tvalid_0's l2: 1085.56\n",
            "[305]\tvalid_0's l2: 1085.58\n",
            "[306]\tvalid_0's l2: 1085.54\n",
            "[307]\tvalid_0's l2: 1083.08\n",
            "[308]\tvalid_0's l2: 1083.14\n",
            "[309]\tvalid_0's l2: 1083.17\n",
            "[310]\tvalid_0's l2: 1083.19\n",
            "[311]\tvalid_0's l2: 1083.21\n",
            "[312]\tvalid_0's l2: 1083.26\n",
            "[313]\tvalid_0's l2: 1083.24\n",
            "[314]\tvalid_0's l2: 1083.25\n",
            "[315]\tvalid_0's l2: 1083.26\n",
            "[316]\tvalid_0's l2: 1083.24\n",
            "[317]\tvalid_0's l2: 1083.21\n",
            "[318]\tvalid_0's l2: 1083.16\n",
            "[319]\tvalid_0's l2: 1083.15\n",
            "[320]\tvalid_0's l2: 1080.54\n",
            "[321]\tvalid_0's l2: 1080.54\n",
            "[322]\tvalid_0's l2: 1080.54\n",
            "[323]\tvalid_0's l2: 1080.57\n",
            "[324]\tvalid_0's l2: 1080.6\n",
            "[325]\tvalid_0's l2: 1080.47\n",
            "[326]\tvalid_0's l2: 1080.43\n",
            "[327]\tvalid_0's l2: 1080.39\n",
            "[328]\tvalid_0's l2: 1080.38\n",
            "[329]\tvalid_0's l2: 1080.37\n",
            "[330]\tvalid_0's l2: 1080.32\n",
            "[331]\tvalid_0's l2: 1080.25\n",
            "[332]\tvalid_0's l2: 1080.24\n",
            "[333]\tvalid_0's l2: 1078.12\n",
            "[334]\tvalid_0's l2: 1078.1\n",
            "[335]\tvalid_0's l2: 1078.04\n",
            "[336]\tvalid_0's l2: 1078.07\n",
            "[337]\tvalid_0's l2: 1075.77\n",
            "[338]\tvalid_0's l2: 1075.76\n",
            "[339]\tvalid_0's l2: 1073.6\n",
            "[340]\tvalid_0's l2: 1073.59\n",
            "[341]\tvalid_0's l2: 1073.66\n",
            "[342]\tvalid_0's l2: 1073.76\n",
            "[343]\tvalid_0's l2: 1071.72\n",
            "[344]\tvalid_0's l2: 1071.71\n",
            "[345]\tvalid_0's l2: 1071.71\n",
            "[346]\tvalid_0's l2: 1071.71\n",
            "[347]\tvalid_0's l2: 1071.7\n",
            "[348]\tvalid_0's l2: 1071.77\n",
            "[349]\tvalid_0's l2: 1069.7\n",
            "[350]\tvalid_0's l2: 1069.68\n",
            "[351]\tvalid_0's l2: 1069.66\n",
            "[352]\tvalid_0's l2: 1069.66\n",
            "[353]\tvalid_0's l2: 1069.62\n",
            "[354]\tvalid_0's l2: 1069.59\n",
            "[355]\tvalid_0's l2: 1069.59\n",
            "[356]\tvalid_0's l2: 1069.58\n",
            "[357]\tvalid_0's l2: 1069.57\n",
            "[358]\tvalid_0's l2: 1069.68\n",
            "[359]\tvalid_0's l2: 1068.16\n",
            "[360]\tvalid_0's l2: 1068.17\n",
            "[361]\tvalid_0's l2: 1068.28\n",
            "[362]\tvalid_0's l2: 1068.33\n",
            "[363]\tvalid_0's l2: 1068.37\n",
            "[364]\tvalid_0's l2: 1068.43\n",
            "[365]\tvalid_0's l2: 1068.5\n",
            "[366]\tvalid_0's l2: 1068.51\n",
            "[367]\tvalid_0's l2: 1068.68\n",
            "[368]\tvalid_0's l2: 1068.85\n",
            "[369]\tvalid_0's l2: 1066.73\n",
            "[370]\tvalid_0's l2: 1066.78\n",
            "[371]\tvalid_0's l2: 1066.73\n",
            "[372]\tvalid_0's l2: 1066.78\n",
            "[373]\tvalid_0's l2: 1066.75\n",
            "[374]\tvalid_0's l2: 1066.81\n",
            "[375]\tvalid_0's l2: 1065.39\n",
            "[376]\tvalid_0's l2: 1065.39\n",
            "[377]\tvalid_0's l2: 1065.43\n",
            "[378]\tvalid_0's l2: 1065.41\n",
            "[379]\tvalid_0's l2: 1065.43\n",
            "[380]\tvalid_0's l2: 1065.55\n",
            "[381]\tvalid_0's l2: 1065.61\n",
            "[382]\tvalid_0's l2: 1065.73\n",
            "[383]\tvalid_0's l2: 1065.75\n",
            "[384]\tvalid_0's l2: 1065.81\n",
            "[385]\tvalid_0's l2: 1065.88\n",
            "[386]\tvalid_0's l2: 1064.49\n",
            "[387]\tvalid_0's l2: 1064.46\n",
            "[388]\tvalid_0's l2: 1064.31\n",
            "[389]\tvalid_0's l2: 1064.24\n",
            "[390]\tvalid_0's l2: 1062.93\n",
            "[391]\tvalid_0's l2: 1063.05\n",
            "[392]\tvalid_0's l2: 1063.18\n",
            "[393]\tvalid_0's l2: 1063.34\n",
            "[394]\tvalid_0's l2: 1063.37\n",
            "[395]\tvalid_0's l2: 1063.45\n",
            "[396]\tvalid_0's l2: 1063.55\n",
            "[397]\tvalid_0's l2: 1063.52\n",
            "[398]\tvalid_0's l2: 1063.43\n",
            "[399]\tvalid_0's l2: 1063.4\n",
            "[400]\tvalid_0's l2: 1063.38\n",
            "[401]\tvalid_0's l2: 1063.4\n",
            "[402]\tvalid_0's l2: 1063.43\n",
            "[403]\tvalid_0's l2: 1063.39\n",
            "[404]\tvalid_0's l2: 1063.37\n",
            "[405]\tvalid_0's l2: 1063.33\n",
            "[406]\tvalid_0's l2: 1063.28\n",
            "[407]\tvalid_0's l2: 1063.22\n",
            "[408]\tvalid_0's l2: 1063.17\n",
            "[409]\tvalid_0's l2: 1063.23\n",
            "[410]\tvalid_0's l2: 1063.26\n",
            "Early stopping, best iteration is:\n",
            "[390]\tvalid_0's l2: 1062.93\n",
            "Starting predicting with best model...\n",
            "The rmse of prediction is: 32.60261778300913\n"
          ],
          "name": "stdout"
        }
      ]
    },
    {
      "metadata": {
        "id": "DVm3a59nYnq1",
        "colab_type": "code",
        "colab": {
          "base_uri": "https://localhost:8080/",
          "height": 568
        },
        "outputId": "0381b42e-4794-4bd7-984a-db3f8550fd67"
      },
      "cell_type": "code",
      "source": [
        "feature_imp = pd.DataFrame(sorted(zip(gbm.feature_importance(), X_train.columns)), columns=['Value','Feature'])\n",
        "\n",
        "plt.figure(figsize=(16, 8))\n",
        "sns.barplot(x=\"Value\", y=\"Feature\", data=feature_imp.sort_values(by=\"Value\", ascending=False))\n",
        "plt.title('LightGBM Features for best model (avg over folds)', fontsize=18)\n",
        "plt.tight_layout()\n",
        "plt.show()"
      ],
      "execution_count": 25,
      "outputs": [
        {
          "output_type": "display_data",
          "data": {
            "image/png": "[encoded data removed]",
            "text/plain": [
              "<Figure size 1152x576 with 1 Axes>"
            ]
          },
          "metadata": {
            "tags": []
          }
        }
      ]
    }
  ]
}