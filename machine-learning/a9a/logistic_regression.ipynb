{
  "nbformat": 4,
  "nbformat_minor": 0,
  "metadata": {
    "colab": {
      "name": "logistic_regression.ipynb",
      "version": "0.3.2",
      "provenance": [],
      "collapsed_sections": [],
      "toc_visible": true,
      "include_colab_link": true
    },
    "kernelspec": {
      "name": "python3",
      "display_name": "Python 3"
    }
  },
  "cells": [
    {
      "cell_type": "markdown",
      "metadata": {
        "id": "view-in-github",
        "colab_type": "text"
      },
      "source": [
        "<a href=\"https://colab.research.google.com/github/treasure-data/td-notebooks/blob/master/machine-learning/a9a/logistic_regression.ipynb\" target=\"_parent\"><img src=\"https://colab.research.google.com/assets/colab-badge.svg\" alt=\"Open In Colab\"/></a>"
      ]
    },
    {
      "metadata": {
        "id": "UAMK5Zl_d-0i",
        "colab_type": "text"
      },
      "cell_type": "markdown",
      "source": [
        "# Summary\n",
        "This notebook is a tutrial for Hivemall, based on [here](http://hivemall.incubator.apache.org/userguide/binaryclass/a9a_generic.html).  \n",
        "In addition, it shows a comparison of optimizing methods."
      ]
    },
    {
      "metadata": {
        "id": "2wfTbSIbjDuT",
        "colab_type": "text"
      },
      "cell_type": "markdown",
      "source": [
        "## SetUp"
      ]
    },
    {
      "metadata": {
        "id": "TKBDGiUDgIdw",
        "colab_type": "text"
      },
      "cell_type": "markdown",
      "source": [
        "Executing a following cell, you are asked to input some information."
      ]
    },
    {
      "metadata": {
        "id": "dIXcXyR0eYyW",
        "colab_type": "code",
        "outputId": "50a8458f-c59e-4ab6-fcd3-25fae6b459e3",
        "colab": {
          "base_uri": "https://localhost:8080/",
          "height": 102
        }
      },
      "cell_type": "code",
      "source": [
        "from getpass import getpass\n",
        "td_api_key = getpass('Enter TD API KEY here ')\n",
        "database   = input('Enter YOUR DATABASE to create tables here ')\n",
        "assert database, \"Error: Input YOUR DATABASE\"\n",
        "endpoint   = input('Enter YOUR ENDPOINT to create tables here (default: \"api.treasuredata.com\") \\nref : https://support.treasuredata.com/hc/en-us/articles/360001474288-Sites-and-Endpoints ')\n",
        "endpoint = endpoint if endpoint else 'https://api.treasuredata.com/'\n",
        "endpoint = 'https://' + endpoint if not endpoint.startswith('https://') else endpoint\n",
        "use_spark  = input('If enable to use spark, enter \"true\" (default: false) ').lower()\n",
        "use_spark  = use_spark == 'true'\n",
        "table = 'churn_dataset'"
      ],
      "execution_count": 1,
      "outputs": [
        {
          "output_type": "stream",
          "text": [
            "Enter TD API KEY here ··········\n",
            "Enter YOUR DATABASE to create tables here hivemall\n",
            "Enter YOUR ENDPOINT to create tables here (default: \"api.treasuredata.com\") \n",
            "ref : https://support.treasuredata.com/hc/en-us/articles/360001474288-Sites-and-Endpoints \n",
            "If enable to use spark, enter \"true\" (default: false) true\n"
          ],
          "name": "stdout"
        }
      ]
    },
    {
      "metadata": {
        "id": "FRAPSSreecZx",
        "colab_type": "code",
        "colab": {}
      },
      "cell_type": "code",
      "source": [
        "%%capture\n",
        "!pip install td-client\n",
        "!pip install pandas-td\n",
        "!pip install -q git+https://github.com/takuti/pytd@master#egg=treasure-data[spark]\n",
        "\n",
        "import numpy as np\n",
        "import pandas as pd\n",
        "import pandas_td as td\n",
        "import matplotlib.pyplot as plt\n",
        "import seaborn as sns\n",
        "import pytd\n",
        "import tdclient\n",
        "pd.options.display.max_columns = 30\n",
        "\n",
        "%matplotlib inline\n",
        "con = td.connect(apikey=td_api_key, endpoint=endpoint)\n",
        "c = tdclient.Client(apikey=td_api_key, endpoint=endpoint)\n",
        "presto = td.create_engine('presto:{}'.format(database), con=con)\n",
        "hive = td.create_engine('hive:{}'.format(database), con=con)\n",
        "\n",
        "def recreate_table(client, table, database=database):\n",
        "  if table in [table.name for table in client.tables(database)]:\n",
        "    client.delete_table(database, table)\n",
        "  client.create_log_table(database, table)\n",
        "  return None"
      ],
      "execution_count": 0,
      "outputs": []
    },
    {
      "metadata": {
        "id": "w5e8vJ12ehe2",
        "colab_type": "text"
      },
      "cell_type": "markdown",
      "source": [
        "## Data Prepraration"
      ]
    },
    {
      "metadata": {
        "id": "IS3mGtr4gQVD",
        "colab_type": "code",
        "colab": {}
      },
      "cell_type": "code",
      "source": [
        "%%capture\n",
        "# Download \n",
        "!wget https://www.csie.ntu.edu.tw/~cjlin/libsvmtools/datasets/binary/a9a\n",
        "!wget https://www.csie.ntu.edu.tw/~cjlin/libsvmtools/datasets/binary/a9a.t\n",
        "!wget https://raw.githubusercontent.com/apache/incubator-hivemall/master/resources/misc/conv.awk"
      ],
      "execution_count": 0,
      "outputs": []
    },
    {
      "metadata": {
        "id": "zDIVljun_LYp",
        "colab_type": "code",
        "colab": {}
      },
      "cell_type": "code",
      "source": [
        "# Preprocess\n",
        "!awk -f conv.awk a9a | sed -e \"s/+1/1/\" | sed -e \"s/-1/0/\" > a9a.train\n",
        "!awk -f conv.awk a9a.t | sed -e \"s/+1/1/\" | sed -e \"s/-1/0/\" > a9a.test\n",
        "\n",
        "train = pd.read_csv('./a9a.train', sep='\\t')\n",
        "train.columns = ['id','target','features']\n",
        "test = pd.read_csv('./a9a.test', sep='\\t')\n",
        "test.columns = ['id','target','features']"
      ],
      "execution_count": 0,
      "outputs": []
    },
    {
      "metadata": {
        "id": "BSMFiV0S_Sxv",
        "colab_type": "code",
        "colab": {}
      },
      "cell_type": "code",
      "source": [
        "# Upload\n",
        "if use_spark:\n",
        "  client = pytd.Client(database=database, apikey=td_api_key)\n",
        "  client.load_table_from_dataframe(train, '{}.{}'.format(database, 'a9a_train'), if_exists='overwrite')\n",
        "  client.load_table_from_dataframe(test, '{}.{}'.format(database, 'a9a_test'), if_exists='overwrite')\n",
        "else:\n",
        "  for table in ['a9a_train', 'a9a_test']:\n",
        "    if table in [table.name for table in c.tables(database)]:\n",
        "      c.delete_table(database, table)\n",
        "  td.to_td(train, '{}.{}'.format(database, 'a9a_train'), con, index=False)\n",
        "  td.to_td(test,  '{}.{}'.format(database, 'a9a_test'), con, index=False)\n",
        "  import time\n",
        "  time.sleep(300)"
      ],
      "execution_count": 0,
      "outputs": []
    },
    {
      "metadata": {
        "id": "pl1Ta2mjj0oJ",
        "colab_type": "text"
      },
      "cell_type": "markdown",
      "source": [
        "## EDA (Explore Data Analysis)\n",
        "Before running machine learning tasks, you should understand your data correctly.  \n",
        "Descriptive statistics and visualization are important for this."
      ]
    },
    {
      "metadata": {
        "id": "ZPAvePYhjwo5",
        "colab_type": "text"
      },
      "cell_type": "markdown",
      "source": [
        "### Sample"
      ]
    },
    {
      "metadata": {
        "id": "dGPZ-Vm5jpf7",
        "colab_type": "code",
        "outputId": "22a5718c-2862-4e2c-f927-b855b156325b",
        "colab": {
          "base_uri": "https://localhost:8080/",
          "height": 111
        }
      },
      "cell_type": "code",
      "source": [
        "td.read_td_query('''\n",
        "select\n",
        "  *\n",
        "from\n",
        "  a9a_train\n",
        "limit 2\n",
        "''', engine=presto)"
      ],
      "execution_count": 6,
      "outputs": [
        {
          "output_type": "execute_result",
          "data": {
            "text/html": [
              "<div>\n",
              "<style scoped>\n",
              "    .dataframe tbody tr th:only-of-type {\n",
              "        vertical-align: middle;\n",
              "    }\n",
              "\n",
              "    .dataframe tbody tr th {\n",
              "        vertical-align: top;\n",
              "    }\n",
              "\n",
              "    .dataframe thead th {\n",
              "        text-align: right;\n",
              "    }\n",
              "</style>\n",
              "<table border=\"1\" class=\"dataframe\">\n",
              "  <thead>\n",
              "    <tr style=\"text-align: right;\">\n",
              "      <th></th>\n",
              "      <th>id</th>\n",
              "      <th>target</th>\n",
              "      <th>features</th>\n",
              "      <th>time</th>\n",
              "    </tr>\n",
              "  </thead>\n",
              "  <tbody>\n",
              "    <tr>\n",
              "      <th>0</th>\n",
              "      <td>2</td>\n",
              "      <td>0</td>\n",
              "      <td>5:1,7:1,14:1,19:1,39:1,40:1,51:1,63:1,67:1,73:...</td>\n",
              "      <td>1550827306</td>\n",
              "    </tr>\n",
              "    <tr>\n",
              "      <th>1</th>\n",
              "      <td>3</td>\n",
              "      <td>0</td>\n",
              "      <td>3:1,6:1,17:1,22:1,36:1,41:1,53:1,64:1,67:1,73:...</td>\n",
              "      <td>1550827306</td>\n",
              "    </tr>\n",
              "  </tbody>\n",
              "</table>\n",
              "</div>"
            ],
            "text/plain": [
              "   id  target                                           features        time\n",
              "0   2       0  5:1,7:1,14:1,19:1,39:1,40:1,51:1,63:1,67:1,73:...  1550827306\n",
              "1   3       0  3:1,6:1,17:1,22:1,36:1,41:1,53:1,64:1,67:1,73:...  1550827306"
            ]
          },
          "metadata": {
            "tags": []
          },
          "execution_count": 6
        }
      ]
    },
    {
      "metadata": {
        "id": "mPFr0X8yjtGJ",
        "colab_type": "code",
        "outputId": "49350042-0303-47af-da3d-8744e2a38f9c",
        "colab": {
          "base_uri": "https://localhost:8080/",
          "height": 111
        }
      },
      "cell_type": "code",
      "source": [
        "td.read_td_query('''\n",
        "select\n",
        "  *\n",
        "from\n",
        "  a9a_test\n",
        "limit 2\n",
        "''', engine=presto)"
      ],
      "execution_count": 7,
      "outputs": [
        {
          "output_type": "execute_result",
          "data": {
            "text/html": [
              "<div>\n",
              "<style scoped>\n",
              "    .dataframe tbody tr th:only-of-type {\n",
              "        vertical-align: middle;\n",
              "    }\n",
              "\n",
              "    .dataframe tbody tr th {\n",
              "        vertical-align: top;\n",
              "    }\n",
              "\n",
              "    .dataframe thead th {\n",
              "        text-align: right;\n",
              "    }\n",
              "</style>\n",
              "<table border=\"1\" class=\"dataframe\">\n",
              "  <thead>\n",
              "    <tr style=\"text-align: right;\">\n",
              "      <th></th>\n",
              "      <th>id</th>\n",
              "      <th>target</th>\n",
              "      <th>features</th>\n",
              "      <th>time</th>\n",
              "    </tr>\n",
              "  </thead>\n",
              "  <tbody>\n",
              "    <tr>\n",
              "      <th>0</th>\n",
              "      <td>2</td>\n",
              "      <td>0</td>\n",
              "      <td>3:1,6:1,14:1,22:1,36:1,40:1,56:1,63:1,67:1,73:...</td>\n",
              "      <td>1550827316</td>\n",
              "    </tr>\n",
              "    <tr>\n",
              "      <th>1</th>\n",
              "      <td>3</td>\n",
              "      <td>1</td>\n",
              "      <td>2:1,10:1,18:1,24:1,38:1,40:1,59:1,63:1,67:1,73...</td>\n",
              "      <td>1550827316</td>\n",
              "    </tr>\n",
              "  </tbody>\n",
              "</table>\n",
              "</div>"
            ],
            "text/plain": [
              "   id  target                                           features        time\n",
              "0   2       0  3:1,6:1,14:1,22:1,36:1,40:1,56:1,63:1,67:1,73:...  1550827316\n",
              "1   3       1  2:1,10:1,18:1,24:1,38:1,40:1,59:1,63:1,67:1,73...  1550827316"
            ]
          },
          "metadata": {
            "tags": []
          },
          "execution_count": 7
        }
      ]
    },
    {
      "metadata": {
        "id": "pxx_liJOj37z",
        "colab_type": "text"
      },
      "cell_type": "markdown",
      "source": [
        "### Data Size"
      ]
    },
    {
      "metadata": {
        "id": "y8it2mu_j1Tp",
        "colab_type": "code",
        "outputId": "768389df-24ec-46c7-91b7-985ddb7638cf",
        "colab": {
          "base_uri": "https://localhost:8080/",
          "height": 111
        }
      },
      "cell_type": "code",
      "source": [
        "td.read_td_query('''\n",
        "select 'train', count(*) as n from a9a_train\n",
        "union all\n",
        "select 'test', count(*) as n from a9a_test\n",
        "''', engine=presto)"
      ],
      "execution_count": 8,
      "outputs": [
        {
          "output_type": "execute_result",
          "data": {
            "text/html": [
              "<div>\n",
              "<style scoped>\n",
              "    .dataframe tbody tr th:only-of-type {\n",
              "        vertical-align: middle;\n",
              "    }\n",
              "\n",
              "    .dataframe tbody tr th {\n",
              "        vertical-align: top;\n",
              "    }\n",
              "\n",
              "    .dataframe thead th {\n",
              "        text-align: right;\n",
              "    }\n",
              "</style>\n",
              "<table border=\"1\" class=\"dataframe\">\n",
              "  <thead>\n",
              "    <tr style=\"text-align: right;\">\n",
              "      <th></th>\n",
              "      <th>_col0</th>\n",
              "      <th>n</th>\n",
              "    </tr>\n",
              "  </thead>\n",
              "  <tbody>\n",
              "    <tr>\n",
              "      <th>0</th>\n",
              "      <td>train</td>\n",
              "      <td>32560</td>\n",
              "    </tr>\n",
              "    <tr>\n",
              "      <th>1</th>\n",
              "      <td>test</td>\n",
              "      <td>16280</td>\n",
              "    </tr>\n",
              "  </tbody>\n",
              "</table>\n",
              "</div>"
            ],
            "text/plain": [
              "   _col0      n\n",
              "0  train  32560\n",
              "1   test  16280"
            ]
          },
          "metadata": {
            "tags": []
          },
          "execution_count": 8
        }
      ]
    },
    {
      "metadata": {
        "id": "-iaQ2HBGkEPS",
        "colab_type": "text"
      },
      "cell_type": "markdown",
      "source": [
        "### The number of features"
      ]
    },
    {
      "metadata": {
        "id": "_PaIHuXmkMiW",
        "colab_type": "code",
        "outputId": "b165950b-f954-4ff9-dd6b-9051a1040370",
        "colab": {
          "base_uri": "https://localhost:8080/",
          "height": 111
        }
      },
      "cell_type": "code",
      "source": [
        "td.read_td_query('''\n",
        "select\n",
        "  'train'\n",
        "  ,count(distinct split(feature, ':')[1]) as n\n",
        "  ,min(cast(split(feature, ':')[1] as int)) as min\n",
        "  ,max(cast(split(feature, ':')[1] as int)) as max\n",
        "from\n",
        "  a9a_train\n",
        "CROSS JOIN UNNEST(split(features,',')) AS t (feature)\n",
        "union all\n",
        "select\n",
        "  'test'\n",
        "  ,count(distinct split(feature, ':')[1]) as n\n",
        "  ,min(cast(split(feature, ':')[1] as int)) as min\n",
        "  ,max(cast(split(feature, ':')[1] as int)) as max\n",
        "from\n",
        "  a9a_test\n",
        "CROSS JOIN UNNEST(split(features,',')) AS t (feature)\n",
        "''', engine=presto)"
      ],
      "execution_count": 9,
      "outputs": [
        {
          "output_type": "execute_result",
          "data": {
            "text/html": [
              "<div>\n",
              "<style scoped>\n",
              "    .dataframe tbody tr th:only-of-type {\n",
              "        vertical-align: middle;\n",
              "    }\n",
              "\n",
              "    .dataframe tbody tr th {\n",
              "        vertical-align: top;\n",
              "    }\n",
              "\n",
              "    .dataframe thead th {\n",
              "        text-align: right;\n",
              "    }\n",
              "</style>\n",
              "<table border=\"1\" class=\"dataframe\">\n",
              "  <thead>\n",
              "    <tr style=\"text-align: right;\">\n",
              "      <th></th>\n",
              "      <th>_col0</th>\n",
              "      <th>n</th>\n",
              "      <th>min</th>\n",
              "      <th>max</th>\n",
              "    </tr>\n",
              "  </thead>\n",
              "  <tbody>\n",
              "    <tr>\n",
              "      <th>0</th>\n",
              "      <td>test</td>\n",
              "      <td>122</td>\n",
              "      <td>1</td>\n",
              "      <td>122</td>\n",
              "    </tr>\n",
              "    <tr>\n",
              "      <th>1</th>\n",
              "      <td>train</td>\n",
              "      <td>123</td>\n",
              "      <td>1</td>\n",
              "      <td>123</td>\n",
              "    </tr>\n",
              "  </tbody>\n",
              "</table>\n",
              "</div>"
            ],
            "text/plain": [
              "   _col0    n  min  max\n",
              "0   test  122    1  122\n",
              "1  train  123    1  123"
            ]
          },
          "metadata": {
            "tags": []
          },
          "execution_count": 9
        }
      ]
    },
    {
      "metadata": {
        "id": "N7xaWcv2lQeg",
        "colab_type": "text"
      },
      "cell_type": "markdown",
      "source": [
        "There is a column that training data has but test data doesn't have."
      ]
    },
    {
      "metadata": {
        "id": "htnBU31knJlv",
        "colab_type": "text"
      },
      "cell_type": "markdown",
      "source": [
        "### The number of samples for each classes"
      ]
    },
    {
      "metadata": {
        "id": "9KbWpfnMnbQb",
        "colab_type": "code",
        "outputId": "1b171519-06d0-4dbe-d890-a8037d8de8a9",
        "colab": {
          "base_uri": "https://localhost:8080/",
          "height": 111
        }
      },
      "cell_type": "code",
      "source": [
        "td.read_td_query('''\n",
        "select\n",
        "  target\n",
        "  ,count(*) as n\n",
        "from\n",
        "  a9a_train\n",
        "group by\n",
        "  1\n",
        "order by\n",
        "  1\n",
        "''', engine=presto)"
      ],
      "execution_count": 10,
      "outputs": [
        {
          "output_type": "execute_result",
          "data": {
            "text/html": [
              "<div>\n",
              "<style scoped>\n",
              "    .dataframe tbody tr th:only-of-type {\n",
              "        vertical-align: middle;\n",
              "    }\n",
              "\n",
              "    .dataframe tbody tr th {\n",
              "        vertical-align: top;\n",
              "    }\n",
              "\n",
              "    .dataframe thead th {\n",
              "        text-align: right;\n",
              "    }\n",
              "</style>\n",
              "<table border=\"1\" class=\"dataframe\">\n",
              "  <thead>\n",
              "    <tr style=\"text-align: right;\">\n",
              "      <th></th>\n",
              "      <th>target</th>\n",
              "      <th>n</th>\n",
              "    </tr>\n",
              "  </thead>\n",
              "  <tbody>\n",
              "    <tr>\n",
              "      <th>0</th>\n",
              "      <td>0</td>\n",
              "      <td>24719</td>\n",
              "    </tr>\n",
              "    <tr>\n",
              "      <th>1</th>\n",
              "      <td>1</td>\n",
              "      <td>7841</td>\n",
              "    </tr>\n",
              "  </tbody>\n",
              "</table>\n",
              "</div>"
            ],
            "text/plain": [
              "   target      n\n",
              "0       0  24719\n",
              "1       1   7841"
            ]
          },
          "metadata": {
            "tags": []
          },
          "execution_count": 10
        }
      ]
    },
    {
      "metadata": {
        "id": "T6AqgeZJEsY8",
        "colab_type": "code",
        "outputId": "72907a85-757c-4466-d0f9-1195729c28b3",
        "colab": {
          "base_uri": "https://localhost:8080/",
          "height": 111
        }
      },
      "cell_type": "code",
      "source": [
        "td.read_td_query('''\n",
        "select\n",
        "  target\n",
        "  ,count(*) as n\n",
        "from\n",
        "  a9a_test\n",
        "group by\n",
        "  1\n",
        "order by\n",
        "  1\n",
        "''', engine=presto)"
      ],
      "execution_count": 11,
      "outputs": [
        {
          "output_type": "execute_result",
          "data": {
            "text/html": [
              "<div>\n",
              "<style scoped>\n",
              "    .dataframe tbody tr th:only-of-type {\n",
              "        vertical-align: middle;\n",
              "    }\n",
              "\n",
              "    .dataframe tbody tr th {\n",
              "        vertical-align: top;\n",
              "    }\n",
              "\n",
              "    .dataframe thead th {\n",
              "        text-align: right;\n",
              "    }\n",
              "</style>\n",
              "<table border=\"1\" class=\"dataframe\">\n",
              "  <thead>\n",
              "    <tr style=\"text-align: right;\">\n",
              "      <th></th>\n",
              "      <th>target</th>\n",
              "      <th>n</th>\n",
              "    </tr>\n",
              "  </thead>\n",
              "  <tbody>\n",
              "    <tr>\n",
              "      <th>0</th>\n",
              "      <td>0</td>\n",
              "      <td>12434</td>\n",
              "    </tr>\n",
              "    <tr>\n",
              "      <th>1</th>\n",
              "      <td>1</td>\n",
              "      <td>3846</td>\n",
              "    </tr>\n",
              "  </tbody>\n",
              "</table>\n",
              "</div>"
            ],
            "text/plain": [
              "   target      n\n",
              "0       0  12434\n",
              "1       1   3846"
            ]
          },
          "metadata": {
            "tags": []
          },
          "execution_count": 11
        }
      ]
    },
    {
      "metadata": {
        "id": "qHAkdX2Dne2j",
        "colab_type": "text"
      },
      "cell_type": "markdown",
      "source": [
        "## Build models"
      ]
    },
    {
      "metadata": {
        "id": "97ctxD0GXkq0",
        "colab_type": "code",
        "colab": {}
      },
      "cell_type": "code",
      "source": [
        "recreate_table(c, 'a9a_model')"
      ],
      "execution_count": 0,
      "outputs": []
    },
    {
      "metadata": {
        "id": "w2l91rgSoA4Q",
        "colab_type": "code",
        "outputId": "c5f6fd76-9a43-4c6a-fc26-86e47cb700b0",
        "colab": {
          "base_uri": "https://localhost:8080/",
          "height": 138
        }
      },
      "cell_type": "code",
      "source": [
        "%%time\n",
        "opts = ['sgd', 'Momentum', 'Nesterov', 'AdaGrad', 'RMSprop', 'RMSpropGraves', 'AdaDelta', 'Adam', 'Nadam', 'Eve', 'AdamHD']\n",
        "for opt in opts:\n",
        "  _opt = ' -opt {}'.format(opt)\n",
        "  td.read_td_query('''\n",
        "    insert into table a9a_model \n",
        "    select \n",
        "      '{opt}' as opt,\n",
        "      feature,\n",
        "      avg(weight) as weight\n",
        "    from (\n",
        "      select \n",
        "         train_classifier(\n",
        "           add_bias(split(features, ',')), target, \n",
        "           \"-loss logistic -iter 30 {_opt} -reg l1\"\n",
        "         ) as (feature, weight)\n",
        "      from \n",
        "         a9a_train\n",
        "     ) t \n",
        "    group by \n",
        "      1,2\n",
        "    '''.format(opt=opt, _opt=_opt), engine=hive)"
      ],
      "execution_count": 13,
      "outputs": [
        {
          "output_type": "display_data",
          "data": {
            "text/html": [
              "<div style=\"border-style: dashed; border-width: 1px;\">\n",
              "<div style=\"color: #888;\"># issued at 2019-02-22T09:27:01Z</div>URL: <a href=\"https://console.treasuredata.com/jobs/418104132\" target=\"_blank\">https://console.treasuredata.com/jobs/418104132</a><br>\n",
              "Result size: 20 bytes<br>\n",
              "Download: 20 / 20 bytes (100.00%)<br>\n",
              "<div style=\"color: #888;\"># downloaded at 2019-02-22T09:27:39Z</div></div>\n"
            ],
            "text/plain": [
              "<IPython.core.display.HTML object>"
            ]
          },
          "metadata": {
            "tags": []
          }
        },
        {
          "output_type": "stream",
          "text": [
            "CPU times: user 1.33 s, sys: 199 ms, total: 1.53 s\n",
            "Wall time: 5min 21s\n"
          ],
          "name": "stdout"
        }
      ]
    },
    {
      "metadata": {
        "id": "nFj70QUZYPzX",
        "colab_type": "text"
      },
      "cell_type": "markdown",
      "source": [
        "Check features with top-5 positive weights."
      ]
    },
    {
      "metadata": {
        "id": "1jqzgNeloblM",
        "colab_type": "code",
        "outputId": "bcdd2f40-6d8b-4368-b050-a0c8880b5f7c",
        "colab": {
          "base_uri": "https://localhost:8080/",
          "height": 204
        }
      },
      "cell_type": "code",
      "source": [
        "td.read_td_query('''\n",
        "select\n",
        "  *\n",
        "from\n",
        "  a9a_model\n",
        "order by\n",
        "  weight desc\n",
        "limit 5\n",
        "''', engine=presto)"
      ],
      "execution_count": 14,
      "outputs": [
        {
          "output_type": "execute_result",
          "data": {
            "text/html": [
              "<div>\n",
              "<style scoped>\n",
              "    .dataframe tbody tr th:only-of-type {\n",
              "        vertical-align: middle;\n",
              "    }\n",
              "\n",
              "    .dataframe tbody tr th {\n",
              "        vertical-align: top;\n",
              "    }\n",
              "\n",
              "    .dataframe thead th {\n",
              "        text-align: right;\n",
              "    }\n",
              "</style>\n",
              "<table border=\"1\" class=\"dataframe\">\n",
              "  <thead>\n",
              "    <tr style=\"text-align: right;\">\n",
              "      <th></th>\n",
              "      <th>opt</th>\n",
              "      <th>feature</th>\n",
              "      <th>weight</th>\n",
              "      <th>time</th>\n",
              "    </tr>\n",
              "  </thead>\n",
              "  <tbody>\n",
              "    <tr>\n",
              "      <th>0</th>\n",
              "      <td>RMSpropGraves</td>\n",
              "      <td>75</td>\n",
              "      <td>4.479211</td>\n",
              "      <td>1550827474</td>\n",
              "    </tr>\n",
              "    <tr>\n",
              "      <th>1</th>\n",
              "      <td>RMSpropGraves</td>\n",
              "      <td>0</td>\n",
              "      <td>3.613928</td>\n",
              "      <td>1550827474</td>\n",
              "    </tr>\n",
              "    <tr>\n",
              "      <th>2</th>\n",
              "      <td>Nesterov</td>\n",
              "      <td>51</td>\n",
              "      <td>2.574403</td>\n",
              "      <td>1550827391</td>\n",
              "    </tr>\n",
              "    <tr>\n",
              "      <th>3</th>\n",
              "      <td>Momentum</td>\n",
              "      <td>46</td>\n",
              "      <td>2.573963</td>\n",
              "      <td>1550827364</td>\n",
              "    </tr>\n",
              "    <tr>\n",
              "      <th>4</th>\n",
              "      <td>Momentum</td>\n",
              "      <td>51</td>\n",
              "      <td>2.573463</td>\n",
              "      <td>1550827364</td>\n",
              "    </tr>\n",
              "  </tbody>\n",
              "</table>\n",
              "</div>"
            ],
            "text/plain": [
              "             opt feature    weight        time\n",
              "0  RMSpropGraves      75  4.479211  1550827474\n",
              "1  RMSpropGraves       0  3.613928  1550827474\n",
              "2       Nesterov      51  2.574403  1550827391\n",
              "3       Momentum      46  2.573963  1550827364\n",
              "4       Momentum      51  2.573463  1550827364"
            ]
          },
          "metadata": {
            "tags": []
          },
          "execution_count": 14
        }
      ]
    },
    {
      "metadata": {
        "id": "8wE4YDogYlDD",
        "colab_type": "text"
      },
      "cell_type": "markdown",
      "source": [
        "Check features with top-5 negative weights."
      ]
    },
    {
      "metadata": {
        "id": "QlSj695zYNry",
        "colab_type": "code",
        "outputId": "dabc9f05-b23b-411c-d294-d8d04f81abf4",
        "colab": {
          "base_uri": "https://localhost:8080/",
          "height": 204
        }
      },
      "cell_type": "code",
      "source": [
        "td.read_td_query('''\n",
        "select\n",
        "  *\n",
        "from\n",
        "  a9a_model\n",
        "order by\n",
        "  weight\n",
        "limit 5\n",
        "''', engine=presto)"
      ],
      "execution_count": 15,
      "outputs": [
        {
          "output_type": "execute_result",
          "data": {
            "text/html": [
              "<div>\n",
              "<style scoped>\n",
              "    .dataframe tbody tr th:only-of-type {\n",
              "        vertical-align: middle;\n",
              "    }\n",
              "\n",
              "    .dataframe tbody tr th {\n",
              "        vertical-align: top;\n",
              "    }\n",
              "\n",
              "    .dataframe thead th {\n",
              "        text-align: right;\n",
              "    }\n",
              "</style>\n",
              "<table border=\"1\" class=\"dataframe\">\n",
              "  <thead>\n",
              "    <tr style=\"text-align: right;\">\n",
              "      <th></th>\n",
              "      <th>opt</th>\n",
              "      <th>feature</th>\n",
              "      <th>weight</th>\n",
              "      <th>time</th>\n",
              "    </tr>\n",
              "  </thead>\n",
              "  <tbody>\n",
              "    <tr>\n",
              "      <th>0</th>\n",
              "      <td>Eve</td>\n",
              "      <td>34</td>\n",
              "      <td>-4.938404</td>\n",
              "      <td>1550827592</td>\n",
              "    </tr>\n",
              "    <tr>\n",
              "      <th>1</th>\n",
              "      <td>Adam</td>\n",
              "      <td>34</td>\n",
              "      <td>-4.879388</td>\n",
              "      <td>1550827530</td>\n",
              "    </tr>\n",
              "    <tr>\n",
              "      <th>2</th>\n",
              "      <td>Nadam</td>\n",
              "      <td>34</td>\n",
              "      <td>-4.664753</td>\n",
              "      <td>1550827559</td>\n",
              "    </tr>\n",
              "    <tr>\n",
              "      <th>3</th>\n",
              "      <td>Nadam</td>\n",
              "      <td>12</td>\n",
              "      <td>-4.493797</td>\n",
              "      <td>1550827559</td>\n",
              "    </tr>\n",
              "    <tr>\n",
              "      <th>4</th>\n",
              "      <td>Eve</td>\n",
              "      <td>12</td>\n",
              "      <td>-4.136467</td>\n",
              "      <td>1550827592</td>\n",
              "    </tr>\n",
              "  </tbody>\n",
              "</table>\n",
              "</div>"
            ],
            "text/plain": [
              "     opt feature    weight        time\n",
              "0    Eve      34 -4.938404  1550827592\n",
              "1   Adam      34 -4.879388  1550827530\n",
              "2  Nadam      34 -4.664753  1550827559\n",
              "3  Nadam      12 -4.493797  1550827559\n",
              "4    Eve      12 -4.136467  1550827592"
            ]
          },
          "metadata": {
            "tags": []
          },
          "execution_count": 15
        }
      ]
    },
    {
      "metadata": {
        "id": "B1pWoHTcYy0E",
        "colab_type": "text"
      },
      "cell_type": "markdown",
      "source": [
        "## Predict"
      ]
    },
    {
      "metadata": {
        "id": "mrNRfc1nJRvE",
        "colab_type": "code",
        "colab": {}
      },
      "cell_type": "code",
      "source": [
        "recreate_table(c, 'a9a_predict')"
      ],
      "execution_count": 0,
      "outputs": []
    },
    {
      "metadata": {
        "id": "VqmXNZRVY0EA",
        "colab_type": "code",
        "outputId": "fa617cce-6693-44a3-f1d0-7a719db00b29",
        "colab": {
          "base_uri": "https://localhost:8080/",
          "height": 136
        }
      },
      "cell_type": "code",
      "source": [
        "td.read_td_query('''\n",
        "with t as (\n",
        "  select\n",
        "    'train' as class\n",
        "    ,id\n",
        "    ,target\n",
        "    ,extract_feature(feature) as feature\n",
        "    ,extract_weight(feature) as value\n",
        "  from\n",
        "    a9a_train\n",
        "  lateral view\n",
        "    explode(split(features, ',')) t as feature\n",
        "\n",
        "  union all\n",
        "    \n",
        "  select\n",
        "    'test' as class\n",
        "    ,id\n",
        "    ,target\n",
        "    ,extract_feature(feature) as feature\n",
        "    ,extract_weight(feature) as value\n",
        "  from\n",
        "    a9a_test\n",
        "  lateral view\n",
        "    explode(split(features, ',')) t as feature\n",
        ")\n",
        "\n",
        "insert into table a9a_predict\n",
        "select\n",
        "  id\n",
        "  ,opt\n",
        "  ,class\n",
        "  ,target\n",
        "  ,sigmoid(sum(value * weight)) as score\n",
        "from\n",
        "  t\n",
        "  inner join\n",
        "  a9a_model m\n",
        "  on\n",
        "    t.feature = m.feature\n",
        "group by\n",
        "  1,2,3,4\n",
        "''', engine=hive)"
      ],
      "execution_count": 17,
      "outputs": [
        {
          "output_type": "display_data",
          "data": {
            "text/html": [
              "<div style=\"border-style: dashed; border-width: 1px;\">\n",
              "<div style=\"color: #888;\"># issued at 2019-02-22T09:27:44Z</div>URL: <a href=\"https://console.treasuredata.com/jobs/418104322\" target=\"_blank\">https://console.treasuredata.com/jobs/418104322</a><br>\n",
              "Result size: 20 bytes<br>\n",
              "Download: 20 / 20 bytes (100.00%)<br>\n",
              "<div style=\"color: #888;\"># downloaded at 2019-02-22T09:30:03Z</div></div>\n"
            ],
            "text/plain": [
              "<IPython.core.display.HTML object>"
            ]
          },
          "metadata": {
            "tags": []
          }
        },
        {
          "output_type": "execute_result",
          "data": {
            "text/html": [
              "<div>\n",
              "<style scoped>\n",
              "    .dataframe tbody tr th:only-of-type {\n",
              "        vertical-align: middle;\n",
              "    }\n",
              "\n",
              "    .dataframe tbody tr th {\n",
              "        vertical-align: top;\n",
              "    }\n",
              "\n",
              "    .dataframe thead th {\n",
              "        text-align: right;\n",
              "    }\n",
              "</style>\n",
              "<table border=\"1\" class=\"dataframe\">\n",
              "  <thead>\n",
              "    <tr style=\"text-align: right;\">\n",
              "      <th></th>\n",
              "      <th>id</th>\n",
              "      <th>opt</th>\n",
              "      <th>class</th>\n",
              "      <th>target</th>\n",
              "      <th>score</th>\n",
              "    </tr>\n",
              "  </thead>\n",
              "  <tbody>\n",
              "  </tbody>\n",
              "</table>\n",
              "</div>"
            ],
            "text/plain": [
              "Empty DataFrame\n",
              "Columns: [id, opt, class, target, score]\n",
              "Index: []"
            ]
          },
          "metadata": {
            "tags": []
          },
          "execution_count": 17
        }
      ]
    },
    {
      "metadata": {
        "id": "L3VaIVi7D_zL",
        "colab_type": "code",
        "outputId": "38a29877-3437-4439-ba00-f38eb38c143c",
        "colab": {
          "base_uri": "https://localhost:8080/",
          "height": 359
        }
      },
      "cell_type": "code",
      "source": [
        "td.read_td_query('''\n",
        "select\n",
        "  *\n",
        "from\n",
        "  a9a_predict\n",
        "limit 10\n",
        "''', engine=presto)"
      ],
      "execution_count": 18,
      "outputs": [
        {
          "output_type": "execute_result",
          "data": {
            "text/html": [
              "<div>\n",
              "<style scoped>\n",
              "    .dataframe tbody tr th:only-of-type {\n",
              "        vertical-align: middle;\n",
              "    }\n",
              "\n",
              "    .dataframe tbody tr th {\n",
              "        vertical-align: top;\n",
              "    }\n",
              "\n",
              "    .dataframe thead th {\n",
              "        text-align: right;\n",
              "    }\n",
              "</style>\n",
              "<table border=\"1\" class=\"dataframe\">\n",
              "  <thead>\n",
              "    <tr style=\"text-align: right;\">\n",
              "      <th></th>\n",
              "      <th>id</th>\n",
              "      <th>opt</th>\n",
              "      <th>class</th>\n",
              "      <th>target</th>\n",
              "      <th>score</th>\n",
              "      <th>time</th>\n",
              "    </tr>\n",
              "  </thead>\n",
              "  <tbody>\n",
              "    <tr>\n",
              "      <th>0</th>\n",
              "      <td>2</td>\n",
              "      <td>AdaDelta</td>\n",
              "      <td>test</td>\n",
              "      <td>0</td>\n",
              "      <td>0.171574</td>\n",
              "      <td>1550827665</td>\n",
              "    </tr>\n",
              "    <tr>\n",
              "      <th>1</th>\n",
              "      <td>2</td>\n",
              "      <td>AdaDelta</td>\n",
              "      <td>train</td>\n",
              "      <td>0</td>\n",
              "      <td>0.351619</td>\n",
              "      <td>1550827665</td>\n",
              "    </tr>\n",
              "    <tr>\n",
              "      <th>2</th>\n",
              "      <td>2</td>\n",
              "      <td>AdaGrad</td>\n",
              "      <td>test</td>\n",
              "      <td>0</td>\n",
              "      <td>0.202097</td>\n",
              "      <td>1550827665</td>\n",
              "    </tr>\n",
              "    <tr>\n",
              "      <th>3</th>\n",
              "      <td>2</td>\n",
              "      <td>AdaGrad</td>\n",
              "      <td>train</td>\n",
              "      <td>0</td>\n",
              "      <td>0.384879</td>\n",
              "      <td>1550827665</td>\n",
              "    </tr>\n",
              "    <tr>\n",
              "      <th>4</th>\n",
              "      <td>2</td>\n",
              "      <td>Adam</td>\n",
              "      <td>test</td>\n",
              "      <td>0</td>\n",
              "      <td>0.120721</td>\n",
              "      <td>1550827665</td>\n",
              "    </tr>\n",
              "    <tr>\n",
              "      <th>5</th>\n",
              "      <td>2</td>\n",
              "      <td>Adam</td>\n",
              "      <td>train</td>\n",
              "      <td>0</td>\n",
              "      <td>0.346950</td>\n",
              "      <td>1550827665</td>\n",
              "    </tr>\n",
              "    <tr>\n",
              "      <th>6</th>\n",
              "      <td>2</td>\n",
              "      <td>AdamHD</td>\n",
              "      <td>test</td>\n",
              "      <td>0</td>\n",
              "      <td>0.137380</td>\n",
              "      <td>1550827665</td>\n",
              "    </tr>\n",
              "    <tr>\n",
              "      <th>7</th>\n",
              "      <td>2</td>\n",
              "      <td>AdamHD</td>\n",
              "      <td>train</td>\n",
              "      <td>0</td>\n",
              "      <td>0.303265</td>\n",
              "      <td>1550827665</td>\n",
              "    </tr>\n",
              "    <tr>\n",
              "      <th>8</th>\n",
              "      <td>2</td>\n",
              "      <td>Eve</td>\n",
              "      <td>test</td>\n",
              "      <td>0</td>\n",
              "      <td>0.104889</td>\n",
              "      <td>1550827665</td>\n",
              "    </tr>\n",
              "    <tr>\n",
              "      <th>9</th>\n",
              "      <td>2</td>\n",
              "      <td>Eve</td>\n",
              "      <td>train</td>\n",
              "      <td>0</td>\n",
              "      <td>0.403007</td>\n",
              "      <td>1550827665</td>\n",
              "    </tr>\n",
              "  </tbody>\n",
              "</table>\n",
              "</div>"
            ],
            "text/plain": [
              "   id       opt  class  target     score        time\n",
              "0   2  AdaDelta   test       0  0.171574  1550827665\n",
              "1   2  AdaDelta  train       0  0.351619  1550827665\n",
              "2   2   AdaGrad   test       0  0.202097  1550827665\n",
              "3   2   AdaGrad  train       0  0.384879  1550827665\n",
              "4   2      Adam   test       0  0.120721  1550827665\n",
              "5   2      Adam  train       0  0.346950  1550827665\n",
              "6   2    AdamHD   test       0  0.137380  1550827665\n",
              "7   2    AdamHD  train       0  0.303265  1550827665\n",
              "8   2       Eve   test       0  0.104889  1550827665\n",
              "9   2       Eve  train       0  0.403007  1550827665"
            ]
          },
          "metadata": {
            "tags": []
          },
          "execution_count": 18
        }
      ]
    },
    {
      "metadata": {
        "id": "00PHy8RJJL5G",
        "colab_type": "text"
      },
      "cell_type": "markdown",
      "source": [
        ""
      ]
    },
    {
      "metadata": {
        "id": "03fgQd5aGvtr",
        "colab_type": "code",
        "colab": {}
      },
      "cell_type": "code",
      "source": [
        "aucs = td.read_td_query('''\n",
        "select 'train' as class, 'sgd'           as opt, auc(score, target) as auc from ( select id, target, score from a9a_predict where opt = 'sgd'           and class = 'train' order by score desc) t union all\n",
        "select 'test'  as class, 'sgd'           as opt, auc(score, target) as auc from ( select id, target, score from a9a_predict where opt = 'sgd'           and class = 'test'  order by score desc) t union all\n",
        "select 'train' as class, 'Momentum'      as opt, auc(score, target) as auc from ( select id, target, score from a9a_predict where opt = 'Momentum'      and class = 'train' order by score desc) t union all\n",
        "select 'test'  as class, 'Momentum'      as opt, auc(score, target) as auc from ( select id, target, score from a9a_predict where opt = 'Momentum'      and class = 'test'  order by score desc) t union all\n",
        "select 'train' as class, 'Nesterov'      as opt, auc(score, target) as auc from ( select id, target, score from a9a_predict where opt = 'Nesterov'      and class = 'train' order by score desc) t union all\n",
        "select 'test'  as class, 'Nesterov'      as opt, auc(score, target) as auc from ( select id, target, score from a9a_predict where opt = 'Nesterov'      and class = 'test'  order by score desc) t union all\n",
        "select 'train' as class, 'AdaGrad'       as opt, auc(score, target) as auc from ( select id, target, score from a9a_predict where opt = 'AdaGrad'       and class = 'train' order by score desc) t union all\n",
        "select 'test'  as class, 'AdaGrad'       as opt, auc(score, target) as auc from ( select id, target, score from a9a_predict where opt = 'AdaGrad'       and class = 'test'  order by score desc) t union all\n",
        "select 'train' as class, 'RMSprop'       as opt, auc(score, target) as auc from ( select id, target, score from a9a_predict where opt = 'RMSprop'       and class = 'train' order by score desc) t union all\n",
        "select 'test'  as class, 'RMSprop'       as opt, auc(score, target) as auc from ( select id, target, score from a9a_predict where opt = 'RMSprop'       and class = 'test'  order by score desc) t union all\n",
        "select 'train' as class, 'RMSpropGraves' as opt, auc(score, target) as auc from ( select id, target, score from a9a_predict where opt = 'RMSpropGraves' and class = 'train' order by score desc) t union all\n",
        "select 'test'  as class, 'RMSpropGraves' as opt, auc(score, target) as auc from ( select id, target, score from a9a_predict where opt = 'RMSpropGraves' and class = 'test'  order by score desc) t union all\n",
        "select 'train' as class, 'AdaDelta'      as opt, auc(score, target) as auc from ( select id, target, score from a9a_predict where opt = 'AdaDelta'      and class = 'train' order by score desc) t union all\n",
        "select 'test'  as class, 'AdaDelta'      as opt, auc(score, target) as auc from ( select id, target, score from a9a_predict where opt = 'AdaDelta'      and class = 'test'  order by score desc) t union all\n",
        "select 'train' as class, 'Adam'          as opt, auc(score, target) as auc from ( select id, target, score from a9a_predict where opt = 'Adam'          and class = 'train' order by score desc) t union all\n",
        "select 'test'  as class, 'Adam'          as opt, auc(score, target) as auc from ( select id, target, score from a9a_predict where opt = 'Adam'          and class = 'test'  order by score desc) t union all\n",
        "select 'train' as class, 'Nadam'         as opt, auc(score, target) as auc from ( select id, target, score from a9a_predict where opt = 'Nadam'         and class = 'train' order by score desc) t union all\n",
        "select 'test'  as class, 'Nadam'         as opt, auc(score, target) as auc from ( select id, target, score from a9a_predict where opt = 'Nadam'         and class = 'test'  order by score desc) t union all\n",
        "select 'train' as class, 'Eve'           as opt, auc(score, target) as auc from ( select id, target, score from a9a_predict where opt = 'Eve'           and class = 'train' order by score desc) t union all\n",
        "select 'test'  as class, 'Eve'           as opt, auc(score, target) as auc from ( select id, target, score from a9a_predict where opt = 'Eve'           and class = 'test'  order by score desc) t union all\n",
        "select 'train' as class, 'AdamHD'        as opt, auc(score, target) as auc from ( select id, target, score from a9a_predict where opt = 'AdamHD'        and class = 'train' order by score desc) t union all\n",
        "select 'test'  as class, 'AdamHD'        as opt, auc(score, target) as auc from ( select id, target, score from a9a_predict where opt = 'AdamHD'        and class = 'test'  order by score desc) t\n",
        "''', engine=hive)"
      ],
      "execution_count": 0,
      "outputs": []
    },
    {
      "metadata": {
        "id": "F-Ro56B3IfZT",
        "colab_type": "code",
        "colab": {
          "base_uri": "https://localhost:8080/",
          "height": 421
        },
        "outputId": "12a44c12-ebcc-4477-89d1-bad95b0d7e89"
      },
      "cell_type": "code",
      "source": [
        "aucs.pivot_table(index='opt', columns='class', values='auc')[['train', 'test']].sort_values('test', ascending=False)"
      ],
      "execution_count": 21,
      "outputs": [
        {
          "output_type": "execute_result",
          "data": {
            "text/html": [
              "<div>\n",
              "<style scoped>\n",
              "    .dataframe tbody tr th:only-of-type {\n",
              "        vertical-align: middle;\n",
              "    }\n",
              "\n",
              "    .dataframe tbody tr th {\n",
              "        vertical-align: top;\n",
              "    }\n",
              "\n",
              "    .dataframe thead th {\n",
              "        text-align: right;\n",
              "    }\n",
              "</style>\n",
              "<table border=\"1\" class=\"dataframe\">\n",
              "  <thead>\n",
              "    <tr style=\"text-align: right;\">\n",
              "      <th>class</th>\n",
              "      <th>train</th>\n",
              "      <th>test</th>\n",
              "    </tr>\n",
              "    <tr>\n",
              "      <th>opt</th>\n",
              "      <th></th>\n",
              "      <th></th>\n",
              "    </tr>\n",
              "  </thead>\n",
              "  <tbody>\n",
              "    <tr>\n",
              "      <th>AdaGrad</th>\n",
              "      <td>0.903526</td>\n",
              "      <td>0.902283</td>\n",
              "    </tr>\n",
              "    <tr>\n",
              "      <th>AdaDelta</th>\n",
              "      <td>0.901916</td>\n",
              "      <td>0.900185</td>\n",
              "    </tr>\n",
              "    <tr>\n",
              "      <th>RMSprop</th>\n",
              "      <td>0.901343</td>\n",
              "      <td>0.898278</td>\n",
              "    </tr>\n",
              "    <tr>\n",
              "      <th>AdamHD</th>\n",
              "      <td>0.901814</td>\n",
              "      <td>0.898117</td>\n",
              "    </tr>\n",
              "    <tr>\n",
              "      <th>sgd</th>\n",
              "      <td>0.901149</td>\n",
              "      <td>0.898077</td>\n",
              "    </tr>\n",
              "    <tr>\n",
              "      <th>Nadam</th>\n",
              "      <td>0.894220</td>\n",
              "      <td>0.889895</td>\n",
              "    </tr>\n",
              "    <tr>\n",
              "      <th>Eve</th>\n",
              "      <td>0.894237</td>\n",
              "      <td>0.889884</td>\n",
              "    </tr>\n",
              "    <tr>\n",
              "      <th>Adam</th>\n",
              "      <td>0.894062</td>\n",
              "      <td>0.889763</td>\n",
              "    </tr>\n",
              "    <tr>\n",
              "      <th>Nesterov</th>\n",
              "      <td>0.881875</td>\n",
              "      <td>0.877429</td>\n",
              "    </tr>\n",
              "    <tr>\n",
              "      <th>RMSpropGraves</th>\n",
              "      <td>0.881391</td>\n",
              "      <td>0.877023</td>\n",
              "    </tr>\n",
              "    <tr>\n",
              "      <th>Momentum</th>\n",
              "      <td>0.880660</td>\n",
              "      <td>0.876220</td>\n",
              "    </tr>\n",
              "  </tbody>\n",
              "</table>\n",
              "</div>"
            ],
            "text/plain": [
              "class             train      test\n",
              "opt                              \n",
              "AdaGrad        0.903526  0.902283\n",
              "AdaDelta       0.901916  0.900185\n",
              "RMSprop        0.901343  0.898278\n",
              "AdamHD         0.901814  0.898117\n",
              "sgd            0.901149  0.898077\n",
              "Nadam          0.894220  0.889895\n",
              "Eve            0.894237  0.889884\n",
              "Adam           0.894062  0.889763\n",
              "Nesterov       0.881875  0.877429\n",
              "RMSpropGraves  0.881391  0.877023\n",
              "Momentum       0.880660  0.876220"
            ]
          },
          "metadata": {
            "tags": []
          },
          "execution_count": 21
        }
      ]
    }
  ]
}